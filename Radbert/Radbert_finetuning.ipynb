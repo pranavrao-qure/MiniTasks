{
 "cells": [
  {
   "cell_type": "markdown",
   "metadata": {},
   "source": [
    "# Fine-tuning RadBert #\n",
    "Full parameter fine tuning of RadBERT model (RadBERT-RoBERTa-4m model from the RadBERT paper). Fine tuning carried out on the multi-label muti-class classification of reports, where each report can have multiple labels (For ex, a report can havel label consolidation-right and consolidation-2)"
   ]
  },
  {
   "cell_type": "code",
   "execution_count": null,
   "metadata": {},
   "outputs": [
    {
     "name": "stderr",
     "output_type": "stream",
     "text": [
      "/home/users/pranav.rao/miniconda3/envs/TutorialCuda/lib/python3.11/site-packages/tqdm/auto.py:21: TqdmWarning: IProgress not found. Please update jupyter and ipywidgets. See https://ipywidgets.readthedocs.io/en/stable/user_install.html\n",
      "  from .autonotebook import tqdm as notebook_tqdm\n"
     ]
    }
   ],
   "source": [
    "import os\n",
    "import datetime\n",
    "\n",
    "import numpy as np\n",
    "import pandas as pd\n",
    "\n",
    "import torch\n",
    "from torch import nn\n",
    "import torch.nn.functional as F\n",
    "from torch.utils.data import Dataset, DataLoader\n",
    "from torch.utils.tensorboard import SummaryWriter\n",
    "\n",
    "import transformers\n",
    "from transformers import AutoTokenizer, AutoModel\n",
    "from transformers import pipeline"
   ]
  },
  {
   "cell_type": "code",
   "execution_count": 2,
   "metadata": {},
   "outputs": [],
   "source": [
    "pd.set_option('display.max_rows', 50)\n",
    "pd.set_option('display.max_columns', 500)\n",
    "pd.set_option('display.width', 1000)\n",
    "\n",
    "torch.set_printoptions(linewidth=200)"
   ]
  },
  {
   "cell_type": "code",
   "execution_count": 3,
   "metadata": {},
   "outputs": [
    {
     "name": "stdout",
     "output_type": "stream",
     "text": [
      "Using cuda device\n"
     ]
    }
   ],
   "source": [
    "# Get cpu, gpu or mps device for training.\n",
    "device = (\n",
    "    \"cuda\"\n",
    "    if torch.cuda.is_available()\n",
    "    else \"mps\"\n",
    "    if torch.backends.mps.is_available()\n",
    "    else \"cpu\"\n",
    ")\n",
    "print(f\"Using {device} device\")"
   ]
  },
  {
   "cell_type": "markdown",
   "metadata": {},
   "source": [
    "## Forward pass ##\n",
    "Implementing RadBERTMultiClassMulti Label PyTorch Model"
   ]
  },
  {
   "cell_type": "code",
   "execution_count": 4,
   "metadata": {},
   "outputs": [],
   "source": [
    "class RadBERTMultiClassMultiLabel(nn.Module):\n",
    "    \"\"\"\n",
    "    RadBERTMultiClassMultiLabel: Model expects batches of natural language sentences, will\n",
    "    classify reports with multiple label\n",
    "    \"\"\"\n",
    "    def __init__(self, num_classes, checkpoint):\n",
    "        super().__init__()\n",
    "        self.num_classes = num_classes\n",
    "        self.checkpoint = checkpoint\n",
    "        self.tokenizer = AutoTokenizer.from_pretrained(self.checkpoint)\n",
    "        self.transformer_encoder = AutoModel.from_pretrained(self.checkpoint)\n",
    "        self.transformer_encoder_hidden_size = self.transformer_encoder.config.hidden_size\n",
    "        self.linear_classifier = nn.Linear(self.transformer_encoder_hidden_size, self.num_classes)\n",
    "    \n",
    "    def forward(self, x):\n",
    "        tokenized_inp = self.tokenizer(x, padding=True, truncation=True, return_tensors='pt')\n",
    "        encoder_out = self.transformer_encoder(**tokenized_inp)\n",
    "        logits = self.linear_classifier(encoder_out.last_hidden_state[:, 0, :])\n",
    "        return logits\n"
   ]
  },
  {
   "cell_type": "code",
   "execution_count": 5,
   "metadata": {},
   "outputs": [
    {
     "name": "stderr",
     "output_type": "stream",
     "text": [
      "Some weights of RobertaModel were not initialized from the model checkpoint at UCSD-VA-health/RadBERT-RoBERTa-4m and are newly initialized: ['roberta.pooler.dense.weight', 'roberta.pooler.dense.bias']\n",
      "You should probably TRAIN this model on a down-stream task to be able to use it for predictions and inference.\n"
     ]
    }
   ],
   "source": [
    "checkpoint = 'UCSD-VA-health/RadBERT-RoBERTa-4m'\n",
    "#radbert_multi_model = RadBERTMultiClassMultiLabel(321, checkpoint).to(device)\n",
    "radbert_multi_model = RadBERTMultiClassMultiLabel(322, checkpoint)"
   ]
  },
  {
   "cell_type": "code",
   "execution_count": 6,
   "metadata": {},
   "outputs": [
    {
     "name": "stdout",
     "output_type": "stream",
     "text": [
      "RadBERTMultiClassMultiLabel(\n",
      "  (transformer_encoder): RobertaModel(\n",
      "    (embeddings): RobertaEmbeddings(\n",
      "      (word_embeddings): Embedding(50265, 768, padding_idx=1)\n",
      "      (position_embeddings): Embedding(514, 768, padding_idx=1)\n",
      "      (token_type_embeddings): Embedding(1, 768)\n",
      "      (LayerNorm): LayerNorm((768,), eps=1e-05, elementwise_affine=True)\n",
      "      (dropout): Dropout(p=0.1, inplace=False)\n",
      "    )\n",
      "    (encoder): RobertaEncoder(\n",
      "      (layer): ModuleList(\n",
      "        (0-11): 12 x RobertaLayer(\n",
      "          (attention): RobertaAttention(\n",
      "            (self): RobertaSelfAttention(\n",
      "              (query): Linear(in_features=768, out_features=768, bias=True)\n",
      "              (key): Linear(in_features=768, out_features=768, bias=True)\n",
      "              (value): Linear(in_features=768, out_features=768, bias=True)\n",
      "              (dropout): Dropout(p=0.1, inplace=False)\n",
      "            )\n",
      "            (output): RobertaSelfOutput(\n",
      "              (dense): Linear(in_features=768, out_features=768, bias=True)\n",
      "              (LayerNorm): LayerNorm((768,), eps=1e-05, elementwise_affine=True)\n",
      "              (dropout): Dropout(p=0.1, inplace=False)\n",
      "            )\n",
      "          )\n",
      "          (intermediate): RobertaIntermediate(\n",
      "            (dense): Linear(in_features=768, out_features=3072, bias=True)\n",
      "            (intermediate_act_fn): GELUActivation()\n",
      "          )\n",
      "          (output): RobertaOutput(\n",
      "            (dense): Linear(in_features=3072, out_features=768, bias=True)\n",
      "            (LayerNorm): LayerNorm((768,), eps=1e-05, elementwise_affine=True)\n",
      "            (dropout): Dropout(p=0.1, inplace=False)\n",
      "          )\n",
      "        )\n",
      "      )\n",
      "    )\n",
      "    (pooler): RobertaPooler(\n",
      "      (dense): Linear(in_features=768, out_features=768, bias=True)\n",
      "      (activation): Tanh()\n",
      "    )\n",
      "  )\n",
      "  (linear_classifier): Linear(in_features=768, out_features=322, bias=True)\n",
      ")\n",
      "[torch.Size([50265, 768]), torch.Size([514, 768]), torch.Size([1, 768]), torch.Size([768]), torch.Size([768]), torch.Size([768, 768]), torch.Size([768]), torch.Size([768, 768]), torch.Size([768]), torch.Size([768, 768]), torch.Size([768]), torch.Size([768, 768]), torch.Size([768]), torch.Size([768]), torch.Size([768]), torch.Size([3072, 768]), torch.Size([3072]), torch.Size([768, 3072]), torch.Size([768]), torch.Size([768]), torch.Size([768]), torch.Size([768, 768]), torch.Size([768]), torch.Size([768, 768]), torch.Size([768]), torch.Size([768, 768]), torch.Size([768]), torch.Size([768, 768]), torch.Size([768]), torch.Size([768]), torch.Size([768]), torch.Size([3072, 768]), torch.Size([3072]), torch.Size([768, 3072]), torch.Size([768]), torch.Size([768]), torch.Size([768]), torch.Size([768, 768]), torch.Size([768]), torch.Size([768, 768]), torch.Size([768]), torch.Size([768, 768]), torch.Size([768]), torch.Size([768, 768]), torch.Size([768]), torch.Size([768]), torch.Size([768]), torch.Size([3072, 768]), torch.Size([3072]), torch.Size([768, 3072]), torch.Size([768]), torch.Size([768]), torch.Size([768]), torch.Size([768, 768]), torch.Size([768]), torch.Size([768, 768]), torch.Size([768]), torch.Size([768, 768]), torch.Size([768]), torch.Size([768, 768]), torch.Size([768]), torch.Size([768]), torch.Size([768]), torch.Size([3072, 768]), torch.Size([3072]), torch.Size([768, 3072]), torch.Size([768]), torch.Size([768]), torch.Size([768]), torch.Size([768, 768]), torch.Size([768]), torch.Size([768, 768]), torch.Size([768]), torch.Size([768, 768]), torch.Size([768]), torch.Size([768, 768]), torch.Size([768]), torch.Size([768]), torch.Size([768]), torch.Size([3072, 768]), torch.Size([3072]), torch.Size([768, 3072]), torch.Size([768]), torch.Size([768]), torch.Size([768]), torch.Size([768, 768]), torch.Size([768]), torch.Size([768, 768]), torch.Size([768]), torch.Size([768, 768]), torch.Size([768]), torch.Size([768, 768]), torch.Size([768]), torch.Size([768]), torch.Size([768]), torch.Size([3072, 768]), torch.Size([3072]), torch.Size([768, 3072]), torch.Size([768]), torch.Size([768]), torch.Size([768]), torch.Size([768, 768]), torch.Size([768]), torch.Size([768, 768]), torch.Size([768]), torch.Size([768, 768]), torch.Size([768]), torch.Size([768, 768]), torch.Size([768]), torch.Size([768]), torch.Size([768]), torch.Size([3072, 768]), torch.Size([3072]), torch.Size([768, 3072]), torch.Size([768]), torch.Size([768]), torch.Size([768]), torch.Size([768, 768]), torch.Size([768]), torch.Size([768, 768]), torch.Size([768]), torch.Size([768, 768]), torch.Size([768]), torch.Size([768, 768]), torch.Size([768]), torch.Size([768]), torch.Size([768]), torch.Size([3072, 768]), torch.Size([3072]), torch.Size([768, 3072]), torch.Size([768]), torch.Size([768]), torch.Size([768]), torch.Size([768, 768]), torch.Size([768]), torch.Size([768, 768]), torch.Size([768]), torch.Size([768, 768]), torch.Size([768]), torch.Size([768, 768]), torch.Size([768]), torch.Size([768]), torch.Size([768]), torch.Size([3072, 768]), torch.Size([3072]), torch.Size([768, 3072]), torch.Size([768]), torch.Size([768]), torch.Size([768]), torch.Size([768, 768]), torch.Size([768]), torch.Size([768, 768]), torch.Size([768]), torch.Size([768, 768]), torch.Size([768]), torch.Size([768, 768]), torch.Size([768]), torch.Size([768]), torch.Size([768]), torch.Size([3072, 768]), torch.Size([3072]), torch.Size([768, 3072]), torch.Size([768]), torch.Size([768]), torch.Size([768]), torch.Size([768, 768]), torch.Size([768]), torch.Size([768, 768]), torch.Size([768]), torch.Size([768, 768]), torch.Size([768]), torch.Size([768, 768]), torch.Size([768]), torch.Size([768]), torch.Size([768]), torch.Size([3072, 768]), torch.Size([3072]), torch.Size([768, 3072]), torch.Size([768]), torch.Size([768]), torch.Size([768]), torch.Size([768, 768]), torch.Size([768]), torch.Size([768, 768]), torch.Size([768]), torch.Size([768, 768]), torch.Size([768]), torch.Size([768, 768]), torch.Size([768]), torch.Size([768]), torch.Size([768]), torch.Size([3072, 768]), torch.Size([3072]), torch.Size([768, 3072]), torch.Size([768]), torch.Size([768]), torch.Size([768]), torch.Size([768, 768]), torch.Size([768]), torch.Size([322, 768]), torch.Size([322])]\n"
     ]
    }
   ],
   "source": [
    "print(radbert_multi_model)\n",
    "print(list(map(lambda x : x.shape, radbert_multi_model.parameters())))"
   ]
  },
  {
   "cell_type": "markdown",
   "metadata": {},
   "source": [
    "## Custom Loss function ##\n",
    "Custom loss function for multi class multi label classification to handle uncertain tags (tags have value 0 -> absent, 1 -> present, -100 -> uncertain)"
   ]
  },
  {
   "cell_type": "code",
   "execution_count": 7,
   "metadata": {},
   "outputs": [],
   "source": [
    "class MultiClassMultiLabel(nn.Module):\n",
    "    def __init__(self, uncertain_label):\n",
    "        super(MultiClassMultiLabel, self).__init__()\n",
    "        self.uncertain_label = uncertain_label\n",
    "    \n",
    "    def forward(self, output, target):\n",
    "        certain_mask = (target != self.uncertain_label)\n",
    "        loss_func = nn.MultiLabelSoftMarginLoss(weight=certain_mask.type(torch.float))\n",
    "        return loss_func(output, target)"
   ]
  },
  {
   "cell_type": "code",
   "execution_count": 8,
   "metadata": {},
   "outputs": [],
   "source": [
    "multiclass_multilabel_loss = MultiClassMultiLabel(-100)"
   ]
  },
  {
   "cell_type": "markdown",
   "metadata": {},
   "source": [
    "### Testing MultiClassMultiLabel loss function ###"
   ]
  },
  {
   "cell_type": "code",
   "execution_count": 9,
   "metadata": {},
   "outputs": [],
   "source": [
    "logit_tensor = torch.Tensor([[-1.0, 2.0, 1.0, 5.0, -3.0], [4.0, -2.0, 1.0, -1.0, 2.5]])\n",
    "target_tensor_act = torch.Tensor([[0, 1, -100, 0, 0], [1, -100, 0, 0, 1]])"
   ]
  },
  {
   "cell_type": "code",
   "execution_count": 10,
   "metadata": {},
   "outputs": [
    {
     "name": "stdout",
     "output_type": "stream",
     "text": [
      "tensor(0.7219)\n"
     ]
    }
   ],
   "source": [
    "#certain_mask = (target_tensor_act != -100)\n",
    "#print(certain_mask.type(torch.float))\n",
    "#loss_func = nn.MultiLabelSoftMarginLoss(weight=(certain_mask).type(torch.float))\n",
    "#print(loss_func(logit_tensor, target_tensor_act))\n",
    "print(multiclass_multilabel_loss(logit_tensor, target_tensor_act))"
   ]
  },
  {
   "cell_type": "code",
   "execution_count": 11,
   "metadata": {},
   "outputs": [],
   "source": [
    "import math\n",
    "from math import log, exp\n",
    "\n",
    "def log_sigmoid(x):\n",
    "    return log(1/(1+exp(-1*x)))"
   ]
  },
  {
   "cell_type": "code",
   "execution_count": 12,
   "metadata": {},
   "outputs": [
    {
     "name": "stdout",
     "output_type": "stream",
     "text": [
      "1.0990984797248111\n",
      "0.34471260744936094\n",
      "0.721905543587086\n"
     ]
    }
   ],
   "source": [
    "loss1 = -1 * (1.0 * log_sigmoid(1.0) + 1.0 * log_sigmoid(2.0) + 0.0 * log_sigmoid(-1.0) + 1.0 * log_sigmoid(-5.0) + 1.0 * log_sigmoid(3.0)) / 5.0\n",
    "loss2 = -1 * (1.0 * log_sigmoid(4.0) + 0.0 * log_sigmoid(2.0) + 1.0 * log_sigmoid(-1.0) + 1.0 * log_sigmoid(1.0) + 1.0 * log_sigmoid(2.5)) / 5.0\n",
    "\n",
    "print(loss1)\n",
    "print(loss2)\n",
    "print((loss1 + loss2)/2.0)"
   ]
  },
  {
   "cell_type": "markdown",
   "metadata": {},
   "source": [
    "## Custom DataLoader and Dataset ##\n",
    "Read csv file, get the report from path and prepare the data"
   ]
  },
  {
   "cell_type": "code",
   "execution_count": 13,
   "metadata": {},
   "outputs": [],
   "source": [
    "class ReportTagsDataset(Dataset):\n",
    "    def __init__(self, tags_csv_file, report_base_path, text_transform=None, target_transform=None):\n",
    "        self.report_base_path = report_base_path\n",
    "        self.tags_csv_file = tags_csv_file\n",
    "\n",
    "        self.tags_df = pd.read_csv(self.tags_csv_file)\n",
    "        self.column_names = list(self.tags_df.columns.values)\n",
    "        self.column_names[0] = 'filename'\n",
    "        self.tags_df.columns = self.column_names\n",
    "\n",
    "        self.text_transform = text_transform\n",
    "        self.target_transform = target_transform\n",
    "    \n",
    "    def __len__(self):\n",
    "        return self.tags_df.shape[0]\n",
    "    \n",
    "    def __getitem__(self, index):\n",
    "        report_path = os.path.join(self.report_base_path, self.tags_df.iloc[index, 0].split('/')[-1] + '.txt')\n",
    "        report_text = open(report_path).read()\n",
    "        target_list = torch.Tensor(list(self.tags_df.iloc[index][1:]))\n",
    "        return report_text, target_list"
   ]
  },
  {
   "cell_type": "code",
   "execution_count": 14,
   "metadata": {},
   "outputs": [],
   "source": [
    "#report_base_path = \"/models_common_e2e/cxr_data/reports/training\"\n",
    "train_reports_base_path = '/home/users/pranav.rao/MiniTasks/Radbert/data/train'\n",
    "test_reports_base_path = '/home/users/pranav.rao/MiniTasks/Radbert/data/test'\n",
    "train_tags_file = '/home/users/pranav.rao/Downloads/report_tags_25k_train.csv'\n",
    "test_tags_file = '/home/users/pranav.rao/Downloads/report_tags_25k_train.csv'"
   ]
  },
  {
   "cell_type": "code",
   "execution_count": 15,
   "metadata": {},
   "outputs": [],
   "source": [
    "train_data = ReportTagsDataset(train_tags_file, train_reports_base_path)\n",
    "test_data = ReportTagsDataset(test_tags_file, test_reports_base_path)"
   ]
  },
  {
   "cell_type": "code",
   "execution_count": 16,
   "metadata": {},
   "outputs": [],
   "source": [
    "train_dataloader = DataLoader(train_data, batch_size=32, shuffle=True)\n",
    "test_dataloader = DataLoader(test_data, batch_size=32, shuffle=True)"
   ]
  },
  {
   "cell_type": "markdown",
   "metadata": {},
   "source": [
    "### Testing Dataset and DataLoader ###"
   ]
  },
  {
   "cell_type": "code",
   "execution_count": 17,
   "metadata": {},
   "outputs": [
    {
     "ename": "FileNotFoundError",
     "evalue": "[Errno 2] No such file or directory: '/models_common_e2e/cxr_data/reports/training/ca.phaseii.unit2.1937e108a204179f11fd8e8bf31dd7ec60ced1ea73b3b588270f2573.txt'",
     "output_type": "error",
     "traceback": [
      "\u001b[0;31m---------------------------------------------------------------------------\u001b[0m",
      "\u001b[0;31mFileNotFoundError\u001b[0m                         Traceback (most recent call last)",
      "Cell \u001b[0;32mIn[17], line 2\u001b[0m\n\u001b[1;32m      1\u001b[0m \u001b[39m# Display image and label.\u001b[39;00m\n\u001b[0;32m----> 2\u001b[0m train_features, train_labels \u001b[39m=\u001b[39m \u001b[39mnext\u001b[39;49m(\u001b[39miter\u001b[39;49m(train_dataloader))\n",
      "File \u001b[0;32m~/miniconda3/envs/TutorialCuda/lib/python3.11/site-packages/torch/utils/data/dataloader.py:633\u001b[0m, in \u001b[0;36m_BaseDataLoaderIter.__next__\u001b[0;34m(self)\u001b[0m\n\u001b[1;32m    630\u001b[0m \u001b[39mif\u001b[39;00m \u001b[39mself\u001b[39m\u001b[39m.\u001b[39m_sampler_iter \u001b[39mis\u001b[39;00m \u001b[39mNone\u001b[39;00m:\n\u001b[1;32m    631\u001b[0m     \u001b[39m# TODO(https://github.com/pytorch/pytorch/issues/76750)\u001b[39;00m\n\u001b[1;32m    632\u001b[0m     \u001b[39mself\u001b[39m\u001b[39m.\u001b[39m_reset()  \u001b[39m# type: ignore[call-arg]\u001b[39;00m\n\u001b[0;32m--> 633\u001b[0m data \u001b[39m=\u001b[39m \u001b[39mself\u001b[39;49m\u001b[39m.\u001b[39;49m_next_data()\n\u001b[1;32m    634\u001b[0m \u001b[39mself\u001b[39m\u001b[39m.\u001b[39m_num_yielded \u001b[39m+\u001b[39m\u001b[39m=\u001b[39m \u001b[39m1\u001b[39m\n\u001b[1;32m    635\u001b[0m \u001b[39mif\u001b[39;00m \u001b[39mself\u001b[39m\u001b[39m.\u001b[39m_dataset_kind \u001b[39m==\u001b[39m _DatasetKind\u001b[39m.\u001b[39mIterable \u001b[39mand\u001b[39;00m \\\n\u001b[1;32m    636\u001b[0m         \u001b[39mself\u001b[39m\u001b[39m.\u001b[39m_IterableDataset_len_called \u001b[39mis\u001b[39;00m \u001b[39mnot\u001b[39;00m \u001b[39mNone\u001b[39;00m \u001b[39mand\u001b[39;00m \\\n\u001b[1;32m    637\u001b[0m         \u001b[39mself\u001b[39m\u001b[39m.\u001b[39m_num_yielded \u001b[39m>\u001b[39m \u001b[39mself\u001b[39m\u001b[39m.\u001b[39m_IterableDataset_len_called:\n",
      "File \u001b[0;32m~/miniconda3/envs/TutorialCuda/lib/python3.11/site-packages/torch/utils/data/dataloader.py:677\u001b[0m, in \u001b[0;36m_SingleProcessDataLoaderIter._next_data\u001b[0;34m(self)\u001b[0m\n\u001b[1;32m    675\u001b[0m \u001b[39mdef\u001b[39;00m \u001b[39m_next_data\u001b[39m(\u001b[39mself\u001b[39m):\n\u001b[1;32m    676\u001b[0m     index \u001b[39m=\u001b[39m \u001b[39mself\u001b[39m\u001b[39m.\u001b[39m_next_index()  \u001b[39m# may raise StopIteration\u001b[39;00m\n\u001b[0;32m--> 677\u001b[0m     data \u001b[39m=\u001b[39m \u001b[39mself\u001b[39;49m\u001b[39m.\u001b[39;49m_dataset_fetcher\u001b[39m.\u001b[39;49mfetch(index)  \u001b[39m# may raise StopIteration\u001b[39;00m\n\u001b[1;32m    678\u001b[0m     \u001b[39mif\u001b[39;00m \u001b[39mself\u001b[39m\u001b[39m.\u001b[39m_pin_memory:\n\u001b[1;32m    679\u001b[0m         data \u001b[39m=\u001b[39m _utils\u001b[39m.\u001b[39mpin_memory\u001b[39m.\u001b[39mpin_memory(data, \u001b[39mself\u001b[39m\u001b[39m.\u001b[39m_pin_memory_device)\n",
      "File \u001b[0;32m~/miniconda3/envs/TutorialCuda/lib/python3.11/site-packages/torch/utils/data/_utils/fetch.py:51\u001b[0m, in \u001b[0;36m_MapDatasetFetcher.fetch\u001b[0;34m(self, possibly_batched_index)\u001b[0m\n\u001b[1;32m     49\u001b[0m         data \u001b[39m=\u001b[39m \u001b[39mself\u001b[39m\u001b[39m.\u001b[39mdataset\u001b[39m.\u001b[39m__getitems__(possibly_batched_index)\n\u001b[1;32m     50\u001b[0m     \u001b[39melse\u001b[39;00m:\n\u001b[0;32m---> 51\u001b[0m         data \u001b[39m=\u001b[39m [\u001b[39mself\u001b[39;49m\u001b[39m.\u001b[39;49mdataset[idx] \u001b[39mfor\u001b[39;49;00m idx \u001b[39min\u001b[39;49;00m possibly_batched_index]\n\u001b[1;32m     52\u001b[0m \u001b[39melse\u001b[39;00m:\n\u001b[1;32m     53\u001b[0m     data \u001b[39m=\u001b[39m \u001b[39mself\u001b[39m\u001b[39m.\u001b[39mdataset[possibly_batched_index]\n",
      "File \u001b[0;32m~/miniconda3/envs/TutorialCuda/lib/python3.11/site-packages/torch/utils/data/_utils/fetch.py:51\u001b[0m, in \u001b[0;36m<listcomp>\u001b[0;34m(.0)\u001b[0m\n\u001b[1;32m     49\u001b[0m         data \u001b[39m=\u001b[39m \u001b[39mself\u001b[39m\u001b[39m.\u001b[39mdataset\u001b[39m.\u001b[39m__getitems__(possibly_batched_index)\n\u001b[1;32m     50\u001b[0m     \u001b[39melse\u001b[39;00m:\n\u001b[0;32m---> 51\u001b[0m         data \u001b[39m=\u001b[39m [\u001b[39mself\u001b[39;49m\u001b[39m.\u001b[39;49mdataset[idx] \u001b[39mfor\u001b[39;00m idx \u001b[39min\u001b[39;00m possibly_batched_index]\n\u001b[1;32m     52\u001b[0m \u001b[39melse\u001b[39;00m:\n\u001b[1;32m     53\u001b[0m     data \u001b[39m=\u001b[39m \u001b[39mself\u001b[39m\u001b[39m.\u001b[39mdataset[possibly_batched_index]\n",
      "Cell \u001b[0;32mIn[13], line 19\u001b[0m, in \u001b[0;36mReportTagsDataset.__getitem__\u001b[0;34m(self, index)\u001b[0m\n\u001b[1;32m     17\u001b[0m \u001b[39mdef\u001b[39;00m \u001b[39m__getitem__\u001b[39m(\u001b[39mself\u001b[39m, index):\n\u001b[1;32m     18\u001b[0m     report_path \u001b[39m=\u001b[39m os\u001b[39m.\u001b[39mpath\u001b[39m.\u001b[39mjoin(\u001b[39mself\u001b[39m\u001b[39m.\u001b[39mreport_base_path, \u001b[39mself\u001b[39m\u001b[39m.\u001b[39mtags_df\u001b[39m.\u001b[39miloc[index, \u001b[39m0\u001b[39m]\u001b[39m.\u001b[39msplit(\u001b[39m'\u001b[39m\u001b[39m/\u001b[39m\u001b[39m'\u001b[39m)[\u001b[39m-\u001b[39m\u001b[39m1\u001b[39m] \u001b[39m+\u001b[39m \u001b[39m'\u001b[39m\u001b[39m.txt\u001b[39m\u001b[39m'\u001b[39m)\n\u001b[0;32m---> 19\u001b[0m     report_text \u001b[39m=\u001b[39m \u001b[39mopen\u001b[39;49m(report_path)\u001b[39m.\u001b[39mread()\n\u001b[1;32m     20\u001b[0m     target_list \u001b[39m=\u001b[39m torch\u001b[39m.\u001b[39mTensor(\u001b[39mlist\u001b[39m(\u001b[39mself\u001b[39m\u001b[39m.\u001b[39mtags_df\u001b[39m.\u001b[39miloc[index][\u001b[39m1\u001b[39m:]))\n\u001b[1;32m     21\u001b[0m     \u001b[39mreturn\u001b[39;00m report_text, target_list\n",
      "File \u001b[0;32m~/miniconda3/envs/TutorialCuda/lib/python3.11/site-packages/IPython/core/interactiveshell.py:284\u001b[0m, in \u001b[0;36m_modified_open\u001b[0;34m(file, *args, **kwargs)\u001b[0m\n\u001b[1;32m    277\u001b[0m \u001b[39mif\u001b[39;00m file \u001b[39min\u001b[39;00m {\u001b[39m0\u001b[39m, \u001b[39m1\u001b[39m, \u001b[39m2\u001b[39m}:\n\u001b[1;32m    278\u001b[0m     \u001b[39mraise\u001b[39;00m \u001b[39mValueError\u001b[39;00m(\n\u001b[1;32m    279\u001b[0m         \u001b[39mf\u001b[39m\u001b[39m\"\u001b[39m\u001b[39mIPython won\u001b[39m\u001b[39m'\u001b[39m\u001b[39mt let you open fd=\u001b[39m\u001b[39m{\u001b[39;00mfile\u001b[39m}\u001b[39;00m\u001b[39m by default \u001b[39m\u001b[39m\"\u001b[39m\n\u001b[1;32m    280\u001b[0m         \u001b[39m\"\u001b[39m\u001b[39mas it is likely to crash IPython. If you know what you are doing, \u001b[39m\u001b[39m\"\u001b[39m\n\u001b[1;32m    281\u001b[0m         \u001b[39m\"\u001b[39m\u001b[39myou can use builtins\u001b[39m\u001b[39m'\u001b[39m\u001b[39m open.\u001b[39m\u001b[39m\"\u001b[39m\n\u001b[1;32m    282\u001b[0m     )\n\u001b[0;32m--> 284\u001b[0m \u001b[39mreturn\u001b[39;00m io_open(file, \u001b[39m*\u001b[39;49margs, \u001b[39m*\u001b[39;49m\u001b[39m*\u001b[39;49mkwargs)\n",
      "\u001b[0;31mFileNotFoundError\u001b[0m: [Errno 2] No such file or directory: '/models_common_e2e/cxr_data/reports/training/ca.phaseii.unit2.1937e108a204179f11fd8e8bf31dd7ec60ced1ea73b3b588270f2573.txt'"
     ]
    }
   ],
   "source": [
    "# Display image and label.\n",
    "train_features, train_labels = next(iter(train_dataloader))"
   ]
  },
  {
   "cell_type": "code",
   "execution_count": 34,
   "metadata": {},
   "outputs": [
    {
     "name": "stdout",
     "output_type": "stream",
     "text": [
      "('6434328|5725519|X-Ray Chest PA/AP View of 06-MAY-2018:\\nResults:\\nNo focal lesion seen in the lung parenchyma. \\nCP angles and domes of the diaphragm are normal.\\nBoth hila are normal. Pulmonary vasculature is normal.\\nCardiac size and configuration is normal.\\nTrachea is central; no mediastinal shift is seen.\\nBony thorax and soft tissues of the chest wall are normal.\\nIMPRESSION: No abnormality detected in the view obtained.\\n6434328|5725519|X-Ray Chest PA/AP View of 06-MAY-2018:\\nResults:\\nNo focal lesion seen in the lung parenchyma. \\nCP angles and domes of the diaphragm are normal.\\nBoth hila are normal. Pulmonary vasculature is normal.\\nCardiac size and configuration is normal.\\nTrachea is central; no mediastinal shift is seen.\\nBony thorax and soft tissues of the chest wall are normal.\\nIMPRESSION: No abnormality detected in the view obtained.', '6915839|6146524|X-Ray Chest PA/AP View of 27-OCT-2018:\\nBoth lung fields are clear except small nodular opacity in left parahilar region ? granuloma.\\nBoth CP angles are clear.\\nCardiac size appears normal.\\n6915839|6146524|X-Ray Chest PA/AP View of 27-OCT-2018:\\nBoth lung fields are clear except small nodular opacity in left parahilar region ? granuloma.\\nBoth CP angles are clear.\\nCardiac size appears normal.', 'Patient ID 4c2c2e4eaf9a3e0a80543ac421ce187d33825926f5b968c81aa8e0eb\\nPatient Name fd53221b367df7d7736f50ceec7fc97c084387cc2a14fcd0b3a8b385\\nAge :34 Years\\nSex :M\\nAccession Number 945b84ee4d69649b6eae0710a1ea2907865eb354b01e5296eddc9581\\nModality :CR\\nReferring Physician 2088903664d80d8a4255e43f13d0e0b287ab439753d8fe7b25ce8e2f\\nStudy :CHEST PA,LT SHOULDER AP\\nStudy Date a16f552b5ba23156397154ab2f4a0e880eda23fb06bc62e247c55b66\\n\\n\\n\\n\\n\\nX-RAY CHEST PA VIEW\\n\\nBoth lung fields show prominent broncho-vascular markings\\nThe lungs on the either side show equal translucency.  \\nThe peripheral pulmonary vasculature is normal.\\nNo focal lung lesion is seen.\\nBilateral CP angles are normal.\\nBoth hila are normal in size, have equal density and bear normal relationship.\\nThe heart and trachea are central in position and no mediastinal abnormality is visible.\\nThe cardiac size is normal.\\nThe domes of the diaphragms are normal in position,and show smooth outline.\\n\\nIMPRESSION  :\\nBoth lung fields show prominent broncho-vascular markings\\nSuggested clinical correlation.\\n\\n\\n\\n\\n\\n\\n\\n\\n\\n\\n\\n\\nX-RAY LT SHOULDER AP\\n\\xa0\\xa0\\nFINDINGS :\\xa0\\xa0\\xa0  \\xa0 The alignment of the shoulder joint appears normal \\xa0 Bones appear grossly normal \\xa0 Soft tissues appear normal\\xa0\\n\\n\\xa0 IMPRESSION :\\xa0 NO SIGNIFICANT ABNORMALITY\\xa0 \\xa0\\n\\xa0\\xa0 Suggest clinical correlation and follow up\\n\\n\\n', 'XR- CHEST  AP VIEW\\n\\nFINDINGS\\n\\nLUNGS:  prominent broncho vascular markings \\nTRACHEA: Normal. \\nCARINA: Normal. \\nRIGHT AND LEFT MAIN BRONCHI: Normal. \\nPLEURA: Normal. \\n\\nHEART: Normal. \\nRIGHT HEART BORDER: Normal. \\nLEFT HEART BORDER: Normal. \\nPULMONARY BAY: Normal. \\nPULMONARY HILA: Normal. \\nAORTA: Normal. \\n\\nTHORACIC SPINE: Normal.\\nOTHER VISUALIZED BONES: Normal. \\nVISUALIZED SOFT TISSUES: Normal. \\n\\nDIAPHRAGM: Normal. \\n\\nVISUALIZED ABDOMEN:  Normal. \\nVISUALIZED NECK: Normal.\\n\\nReport Impression: \\nXR- CHEST  AP VIEW\\n\\nFINDINGS\\n\\nLUNGS:  prominent broncho vascular markings \\nTRACHEA: Normal. \\nCARINA: Normal. \\nRIGHT AND LEFT MAIN BRONCHI: Normal. \\nPLEURA: Normal. \\n\\nHEART: Normal. \\nRIGHT HEART BORDER: Normal. \\nLEFT HEART BORDER: Normal. \\nPULMONARY BAY: Normal. \\nPULMONARY HILA: Normal. \\nAORTA: Normal. \\n\\nTHORACIC SPINE: Normal.\\nOTHER VISUALIZED BONES: Normal. \\nVISUALIZED SOFT TISSUES: Normal. \\n\\nDIAPHRAGM: Normal. \\n\\nVISUALIZED ABDOMEN:  Normal. \\nVISUALIZED NECK: Normal.\\n', '###  Translation from RTF performed by UnRTF, version 0.21.9 \\n### font table contains 3 fonts total\\n\\n-----------------\\nX- RAY CHEST PA VIEW\\n\\n\\nTrachea appears normal.\\nCardiothoracic ratio is within normal limits.\\nBilateral lung fields appear normal.\\nProminent right pulmonary hilum is seen.\\nCosto and cardiophrenic angles appear normal.\\nVisualised bony structures appear normal.\\nProminent right diaphragmatic hump is seen.\\nExtra thoracic soft tissues shadow grossly appears normal.\\n\\n### picture data found, WMF type is MM_ANISOTROPIC, picture dimensions are 7038 by 3704, depth 1\\npict001.wmf\\nDr.Rama Krishnan. M.D., D.N.B.,\\nConsultant Radiologist.\\n\\n\\n\\n\\n\\n', '\\nPatient ID 42e42bd45aa2c6e4550c419228a8683b3442029251a15394609cf190\\nPatient ID 18a8a8dfbff9e0a669e5e3a1a1c3c31dd989fb045329a31b77a50b6e\\nPatient Name 8326b8ab28ceb5bca84e474625562aeb3e5a5460fe7f5e0b1538b492 LAXMI.45/Y OP.44843\\nAge :\\nSex :F\\nAccession Number 21f8861d6df137bb07d47c0fec31dad975e4f89c5ba5c163e04c4cf9\\nModality :CR\\nReferring Physician 21f8861d6df137bb07d47c0fec31dad975e4f89c5ba5c163e04c4cf9\\nStudy :CHEST PA\\nStudy Date 562537a0d7075e9cc9c7cc6df6c98460c6c695a75c94b74cd33de852\\n\\n\\n\\n\\n\\n\\n\\xa0\\xa0\\xa0\\xa0\\xa0\\xa0\\xa0\\xa0\\xa0\\xa0\\xa0\\xa0\\xa0\\xa0\\xa0\\xa0\\xa0\\xa0\\xa0\\xa0\\xa0\\xa0\\xa0\\xa0\\xa0\\xa0\\xa0\\xa0\\xa0\\xa0\\xa0\\xa0\\xa0\\xa0\\xa0\\xa0\\xa0\\xa0\\xa0\\xa0\\xa0\\xa0\\xa0\\xa0\\xa0\\xa0\\xa0\\xa0\\xa0\\xa0\\xa0\\xa0\\xa0\\xa0\\xa0\\xa0\\xa0  X - RAY CHEST PA VIEW\\nTrachea is in midline.\\n\\nBoth hila normal in density.\\nCardiac silhouette maintained.\\xa0\\xa0\\xa0\\xa0\\xa0\\xa0\\xa0\\xa0 \\nBoth CP angles are clear.\\nBoth lung parenchyma are normal.\\nBony cage and soft tissues are normal.\\nIMPRESSION :\\xa0\\xa0  NORMAL STUDY. \\nFor clinical correlation. \\n', 'DIGITAL X- RAY CHEST PA VIEW\\n\\nDiffuse reticulo-nodular opacities noted in right hemithorax.\\nTrachea appears normal.\\nCardiothoracic ratio is within normal limits.\\nBoth costophrenic angles appear normal.\\nVisualised bony structures appear normal.\\nExtra thoracic soft tissues shadow grossly appears normal.\\n\\nIMPRESSION:\\n\\nFEATURES SUGGESTIVE OF ?INTERSTITIAL LUNG DISEASE.\\nSuggested HRCT\\n\\nDR. DANIEL STANLEY PETER, M.D.R.D.,\\nConsultant Radiologist\\n\\n\\n\\n\\n________________________________________________________', 'XR- CHEST PA VIEW\\n\\nFINDINGS\\nLUNGS: Normal.\\nTRACHEA: Normal. \\nCARINA: Normal. \\nRIGHT AND LEFT MAIN BRONCHI: Normal. \\nPLEURA: Normal. \\nHEART: Normal. \\nPULMONARY HILA: Normal. \\nAORTA: Normal. \\nTHORACIC SPINE: Normal.\\nOTHER VISUALIZED BONES: Normal. \\nVISUALIZED SOFT TISSUES: Normal. \\nDIAPHRAGM: Normal. \\nVISUALIZED ABDOMEN:  Normal. \\n\\nReport Impression: \\nXR- CHEST PA VIEW\\n\\nFINDINGS\\nLUNGS: Normal.\\nTRACHEA: Normal. \\nCARINA: Normal. \\nRIGHT AND LEFT MAIN BRONCHI: Normal. \\nPLEURA: Normal. \\nHEART: Normal. \\nPULMONARY HILA: Normal. \\nAORTA: Normal. \\nTHORACIC SPINE: Normal.\\nOTHER VISUALIZED BONES: Normal. \\nVISUALIZED SOFT TISSUES: Normal. \\nDIAPHRAGM: Normal. \\nVISUALIZED ABDOMEN:  Normal. \\n', 'X - RAY CHEST PA VIEW\\n\\n\\nBilateral lung fields appear normal.\\n\\nCardiac size is within normal limits.\\n\\nBilateral hilar regions appear normal.\\n\\nBilateral domes of diaphragm and costophrenic angles are normal.\\n\\nVisualised bones and soft tissues appear normal.\\n\\nIMPRESSION:\\n\"        \\nEssentially normal study.\\n\\n\\nCONS. RADIOLOGISTS:\\nDR. S. RADHESH DR. L.S.PRAVEEN DR. H.K. ANAND DR. H.T.GURURAJ RAO\\n\\n\\n\\n\\nDR. C.R RAMACHANDRA \\nCr/sh\\n\\n\\n\\n\\n\\n________________________________________________________', 'X - RAY CHEST PA VIEW\\n\\nPositional rotation of patient to left side.\\n\\nBilateral lung fields appear normal.\\n\\nCardiac size is within normal limits.\\n\\nBilateral hilar regions appear normal.\\n\\nBilateral domes of diaphragm and costophrenic angles are normal.\\n\\nVisualised bones and soft tissues appear normal.\\n\\nIMPRESSION: \\n\\nESSENTIALLY NORMAL STUDY.\\n\\nCONSULTANT RADIOLOGISTS: \\n\\nDR. RADHESH. S DR. L.S. PRAVEEN DR. H.K. ANAND DR. H.T. GURURAJ RAO\\n\\n\\n\\n\\nDR. SUDHIR KALEDR.ABHAY S.KOTHARI \\nAk/kb\\n\\n\\n\\n\\n\\n\\n\\n\\n________________________________________________________', '5467904|387415|Investigation: X-Ray Chest AP Supine (Portable)\\nResults:\\nHaze is seen in right lung base \\nBilateral CP angles are clear. \\nCardiac size cannot be assessed (AP view)\\nAdvise: Clinical correlation \\n5467904|387415|Investigation: X-Ray Chest AP Supine (Portable)\\nResults:\\nHaze is seen in right lung base \\nBilateral CP angles are clear. \\nCardiac size cannot be assessed (AP view)\\nAdvise: Clinical correlation ', '\\nPatient ID 4a20954adfeaf8c710b23d0c8e8957975d9a798fa7b35ede12c0c348\\nPatient ID 63c569eb542426e034feac77106919972796b75fec1ebe1cb0ea2f8a\\nPatient Name dbca98b923501a714bba947c7feb039ebcec94398e6c94551d29051f 10Y CH W85\\nAge :\\nSex :F\\nAccession Number 21f8861d6df137bb07d47c0fec31dad975e4f89c5ba5c163e04c4cf9\\nModality :CR\\nReferring Physician 21f8861d6df137bb07d47c0fec31dad975e4f89c5ba5c163e04c4cf9\\nStudy :CHEST PA VIEW\\nStudy Date 718cab8fc7edd55d42be0bb78fa4b938d00ce4977e1b22c6c70a7d2a\\n\\n\\n\\n\\n\\n\\n\\xa0\\xa0\\xa0\\xa0\\xa0\\xa0\\xa0\\xa0\\xa0\\xa0\\xa0\\xa0\\xa0\\xa0\\xa0\\xa0\\xa0\\xa0\\xa0\\xa0\\xa0\\xa0\\xa0\\xa0\\xa0\\xa0\\xa0\\xa0\\xa0\\xa0\\xa0\\xa0\\xa0\\xa0\\xa0\\xa0\\xa0\\xa0\\xa0\\xa0\\xa0\\xa0\\xa0\\xa0\\xa0\\xa0\\xa0\\xa0\\xa0\\xa0\\xa0\\xa0\\xa0\\xa0\\xa0\\xa0\\xa0  X - RAY CHEST PA VIEW\\nTrachea is in midline.\\n\\nBoth hila normal in density.\\nCardiac silhouette maintained.\\xa0\\xa0\\xa0\\xa0\\xa0\\xa0\\xa0\\xa0 \\nBoth CP angles are clear.\\nBoth lung parenchyma are normal.\\nBony cage and soft tissues are normal.\\nIMPRESSION :\\xa0\\xa0  NORMAL STUDY. \\nFor clinical correlation. \\n', '5985507|883132|X-Ray Chest PA/AP View of 21-NOV-2017:\\nResults:\\nNo focal lesion seen in the lung parenchyma. \\nCP angles and domes of the diaphragm are normal.\\nBoth hila are normal. Pulmonary vasculature is normal.\\nCardiac size and configuration is normal.\\nTrachea is central; no mediastinal shift is seen.\\nBony thorax and soft tissues of the chest wall are normal.\\nIMPRESSION: No abnormality detected in the view obtained.\\n5985507|883132|X-Ray Chest PA/AP View of 21-NOV-2017:\\nResults:\\nNo focal lesion seen in the lung parenchyma. \\nCP angles and domes of the diaphragm are normal.\\nBoth hila are normal. Pulmonary vasculature is normal.\\nCardiac size and configuration is normal.\\nTrachea is central; no mediastinal shift is seen.\\nBony thorax and soft tissues of the chest wall are normal.\\nIMPRESSION: No abnormality detected in the view obtained.', '\\nPatient ID d2fe8e29327612160204aab604d5b98c35f52d5dc5e5b64c0f8c6241\\nPatient ID 812f5b70272adfe33aa927dcfb8a438eaba4b78e81704b32e9f38ac9\\nPatient Name 50e9bd186d5ffcfcac14d1bd29ff2bac914368e45723380963d4fa8b 22Y M OP\\nAge :\\nSex :M\\nAccession Number 21f8861d6df137bb07d47c0fec31dad975e4f89c5ba5c163e04c4cf9\\nModality :CR\\nReferring Physician 21f8861d6df137bb07d47c0fec31dad975e4f89c5ba5c163e04c4cf9\\nStudy :CHEST PA VIEW\\nStudy Date a46e704fd30471bd87edab028b349b2ab4c71633237acff1687193d0\\n\\n\\n\\n\\n\\n\\n\\xa0\\xa0\\xa0\\xa0\\xa0\\xa0\\xa0\\xa0\\xa0\\xa0\\xa0\\xa0\\xa0\\xa0\\xa0\\xa0\\xa0\\xa0\\xa0\\xa0\\xa0\\xa0\\xa0\\xa0\\xa0\\xa0\\xa0\\xa0\\xa0\\xa0\\xa0\\xa0\\xa0\\xa0\\xa0\\xa0\\xa0\\xa0\\xa0\\xa0\\xa0\\xa0\\xa0\\xa0\\xa0\\xa0\\xa0\\xa0\\xa0\\xa0\\xa0\\xa0\\xa0\\xa0\\xa0\\xa0\\xa0  X - RAY CHEST PA VIEW\\nTrachea is in midline.\\n\\nBoth hila normal in density.\\nCardiac silhouette maintained.\\xa0\\xa0\\xa0\\xa0\\xa0\\xa0\\xa0\\xa0 \\nBoth CP angles are clear.\\nBoth lung parenchyma are normal.\\nBony cage and soft tissues are normal.\\nIMPRESSION :\\xa0\\xa0  NORMAL STUDY. \\nFor clinical correlation. \\n', 'X- RAY CHEST PA VIEW\\n\\xa0\\nTrachea appears normal.\\nMediastinum is in midline.\\nCardiac size and contour appears normal.\\nNo obvious focal / diffuse lung lesion noted.\\nBoth hilar regions appear normal.\\nBoth hemidiaphragm appear normal in contour and position.\\nNo obvious pleural pathology detected.\\nCosto and cardiophrenic angles appear normal.\\nVisualized bony structures appear normal.\\nStomach bubble normal is visualized.\\nRemarks:\\n÷\\xa0 No obvious abnormality detected.\\nFor clinical correlation.\\n\\xa0\\xa0\\xa0\\xa0\\xa0\\xa0\\xa0\\xa0\\xa0\\xa0\\xa0\\xa0\\xa0\\xa0\\xa0\\xa0\\xa0\\xa0\\xa0\\xa0\\xa0\\xa0\\xa0\\xa0\\xa0\\xa0\\xa0\\xa0\\xa0\\xa0\\xa0\\xa0\\xa0\\xa0\\xa0\\xa0\\xa0\\xa0\\xa0\\xa0\\xa0\\xa0 \\n\\xa0\\n\\xa0\\xa0\\xa0\\xa0\\xa0\\xa0\\xa0\\xa0\\xa0\\xa0\\xa0DR.S.THIYAGARAJAN. M.B.B.S., DMRD.\\n\\xa0\\xa0\\xa0\\xa0\\xa0\\xa0\\xa0 CONSULTANT RADIOLOGIST\\n\\xa0\\n\\xa0\\n\\n\\n\\n\\n\\n\\n\\n________________________________________________________', '\\nPatient ID c97b2917ab2184a3530296ffa884d372f0a06dd31de201c05cdeab09\\nPatient ID 8e2138c0dfeb91030076eb9301881ad4d64e1c20b0ad74e5e819a528\\nPatient Name 4221529f7390b90a5948cbc1bf0aa656e9bd4591976a6319e721c5d8 52Y M OP\\nAge :\\nSex :M\\nAccession Number 21f8861d6df137bb07d47c0fec31dad975e4f89c5ba5c163e04c4cf9\\nModality :CR\\nReferring Physician 21f8861d6df137bb07d47c0fec31dad975e4f89c5ba5c163e04c4cf9\\nStudy :CHEST PA VIEW\\nStudy Date beea48013eac6aefcb8cc3be2d21dc16bbdc08776858da33dae54d5e\\n\\n\\n\\n\\n\\n\\n\\xa0\\xa0\\xa0\\xa0\\xa0\\xa0\\xa0\\xa0\\xa0\\xa0\\xa0\\xa0\\xa0\\xa0\\xa0\\xa0\\xa0\\xa0\\xa0\\xa0\\xa0\\xa0\\xa0\\xa0\\xa0\\xa0\\xa0\\xa0\\xa0\\xa0\\xa0\\xa0\\xa0\\xa0\\xa0\\xa0\\xa0\\xa0\\xa0\\xa0\\xa0\\xa0\\xa0\\xa0\\xa0\\xa0\\xa0\\xa0\\xa0\\xa0\\xa0\\xa0\\xa0\\xa0\\xa0\\xa0\\xa0  X - RAY CHEST PA VIEW\\n\\n\\n\\nPatchy inhomogenous opacities noted in right mid and left lower zone - Infective etiology\\nTrachea is in midline.\\n\\nBoth hila normal in density.\\nCardiac silhouette maintained.\\xa0\\xa0\\xa0\\xa0\\xa0\\xa0\\xa0\\xa0 \\nBoth CP angles are clear.\\nRest of lung parenchyma are normal.\\nBony cage and soft tissues are normal.\\n\\nFor clinical correlation. \\n', 'X - RAY CHEST PA VIEW\\n\\nFew fibrotic areas noted within left upper zone. \\n\\nRest of the lung fields appear normal.\\n\\nCardiac size is within normal limits.\\n\\nBilateral hilar regions appear normal.\\n\\nBilateral domes of diaphragm and costophrenic angles are normal.\\n\\nVisualised bones and soft tissues appear normal.\\n\\nIMPRESSION:\\n\"        \\nFibrosis within left upper zone. \\n\\n\\n\\n\\nDR. S. RADHESH DR. L.S.PRAVEEN DR. H.K. ANAND DR. H.T.GURURAJ RAO\\nCONSULTANT RADIOLOGISTS\\nLsp/ra\\n\\n\\n\\n\\n\\n________________________________________________________', 'XR- CHEST PA / AP VIEW\\n\\nFINDINGS\\nLUNGS: Normal.\\nTRACHEA: Normal. \\nCARINA: Normal. \\nRIGHT AND LEFT MAIN BRONCHI: Normal. \\nPLEURA: Normal. \\n\\nHEART: Normal. \\nRIGHT HEART BORDER: Normal. \\nLEFT HEART BORDER: Normal. \\nPULMONARY BAY: Normal. \\nPULMONARY HILA: Normal. \\nAORTA: Normal. \\n\\nTHORACIC SPINE: Normal.\\nOTHER VISUALIZED BONES: Normal. \\nVISUALIZED SOFT TISSUES: Normal. \\n\\nDIAPHRAGM: Normal. \\n\\nVISUALIZED ABDOMEN:  Normal. \\nVISUALIZED NECK: Normal.', '5439976|364217|X-Ray Chest PA/AP View of 08-MAY-2017:\\nResults:\\nNo focal lesion seen in the lung parenchyma. \\nCP angles and domes of the diaphragm are normal.\\nBoth hila are normal. Pulmonary vasculature is normal.\\nCardiac size and configuration is normal.\\nTrachea is central; no mediastinal shift is seen.\\nBony thorax and soft tissues of the chest wall are normal.\\nIMPRESSION: No abnormality detected in the view obtained.\\n5439976|364217|X-Ray Chest PA/AP View of 08-MAY-2017:\\nResults:\\nNo focal lesion seen in the lung parenchyma. \\nCP angles and domes of the diaphragm are normal.\\nBoth hila are normal. Pulmonary vasculature is normal.\\nCardiac size and configuration is normal.\\nTrachea is central; no mediastinal shift is seen.\\nBony thorax and soft tissues of the chest wall are normal.\\nIMPRESSION: No abnormality detected in the view obtained.', '\\nPatient ID 2aba3eb11d2588452a930aa140160e2646a919e42bc1546c102b19ec\\nPatient ID b1458c2cb6aa4f0bb43fec76f9235c2466d4eb9b9b2dd855dc6ac657\\nPatient Name 07b587b95c0cbb509e84d2b912c7dcf8f6b68f0e03e45fecffafbb90\\nAge :25 Years\\nSex :F\\nAccession Number 21f8861d6df137bb07d47c0fec31dad975e4f89c5ba5c163e04c4cf9\\nModality :CR\\nReferring Physician dc64b2faf93e253b8127c5dbfc3e5c19d9d5f5e28bd6f01227cba6e9\\nStudy :CHEST P.A VIEW\\nStudy Date 5679eceaad04a8876729a9bfefeb0e2257584a682122bdadea9bde1f\\n\\n\\n\\n\\n\\n\\n\\n\\n\\nPatchy pneumonitis noted at both upper zone - ? Infective.\\n\\nRest of lungs are normal.\\n\\nTrachea is in midline.\\nCardiac silhouette maintained.\\xa0\\xa0\\xa0\\xa0\\xa0\\xa0\\xa0\\xa0 \\nBoth CP angles are clear.\\nBony cage and soft tissues are normal.\\n\\n\\n\\nFor clinical correlation. \\n', 'XR- CHEST PA VIEW\\n\\nFINDINGS\\n\\nLUNGS: Normal.\\nTRACHEA: Normal. \\nCARINA: Normal. \\nRIGHT AND LEFT MAIN BRONCHI: Normal. \\nPLEURA: Normal. \\n\\nHEART: Normal. \\nRIGHT HEART BORDER: Normal. \\nLEFT HEART BORDER: Normal. \\nPULMONARY BAY: Normal. \\nPULMONARY HILA: Normal. \\nAORTA: Normal. \\n\\nTHORACIC SPINE: Normal.\\nOTHER VISUALIZED BONES: Normal. \\nVISUALIZED SOFT TISSUES: Normal. \\n\\nDIAPHRAGM: Normal. \\n\\nVISUALIZED ABDOMEN:  Normal. \\nVISUALIZED NECK: Normal.', '5043102|34773|X-Ray Chest PA/AP View of 08-NOV-2016:              14\\nNo change from X-Ray of 07.11.2016\\n5043102|34773|X-Ray Chest PA/AP View of 08-NOV-2016:              14\\nNo change from X-Ray of 07.11.2016', 'X-ray Chest PA view:(F.No.556)\\n\\nLUNGS: Normal.\\nTRACHEA: Normal. \\nCARINA: Normal. \\nRIGHT AND LEFT MAIN BRONCHI: Normal. \\nPLEURA: Normal. \\nHEART: Normal. \\nPULMONARY HILA: Normal. \\nAORTA: Normal. \\nVISUALIZED BONES: Normal. \\nVISUALIZED SOFT TISSUES: Normal. \\nDIAPHRAGM: Normal. \\nVISUALIZED ABDOMEN:  Normal.\\nReport Impression: \\nNormal x-ray of the chest.', '6584023|5858682|X-Ray Chest PA/AP View of 03-JUL-2018:\\nNo significant interval changes are seen from CXR of 2/7/18.\\n6584023|5858682|X-Ray Chest PA/AP View of 03-JUL-2018:\\nNo significant interval changes are seen from CXR of 2/7/18.', '\\nPatient ID 1671c8677bc816eb2387a1d884a98244577cd623a52dee0b3dee9b65\\nPatient ID 657bd9aacc9fb19e9a4542f9c143628e2bca6d40d2e51cf11fe40226\\nPatient Name 63cd0922d841277a5f73d5a4f6ccf54748877d90c7c1027d516592a5 24 Yrs\\nAge :\\nSex :M\\nAccession Number 21f8861d6df137bb07d47c0fec31dad975e4f89c5ba5c163e04c4cf9\\nModality :CR\\nReferring Physician 21f8861d6df137bb07d47c0fec31dad975e4f89c5ba5c163e04c4cf9\\nStudy :CHEST PA\\nStudy Date db5d8a0643305681f6c14064e8214b7ff4a9fd3a2f14c12c029b8600\\n\\n\\n\\n\\n\\n\\n\\xa0\\xa0\\xa0\\xa0\\xa0\\xa0\\xa0\\xa0\\xa0\\xa0\\xa0\\xa0\\xa0\\xa0\\xa0\\xa0\\xa0\\xa0\\xa0\\xa0\\xa0\\xa0\\xa0\\xa0\\xa0\\xa0\\xa0\\xa0\\xa0\\xa0\\xa0\\xa0\\xa0\\xa0\\xa0\\xa0\\xa0\\xa0\\xa0\\xa0\\xa0\\xa0\\xa0\\xa0\\xa0\\xa0\\xa0\\xa0\\xa0\\xa0\\xa0\\xa0\\xa0\\xa0\\xa0\\xa0\\xa0  X - RAY CHEST PA VIEW\\nTrachea is in midline.\\n\\nBoth hila normal in density.\\nCardiac silhouette maintained.\\xa0\\xa0\\xa0\\xa0\\xa0\\xa0\\xa0\\xa0 \\nBoth CP angles are clear.\\nBoth lung parenchyma are normal.\\nBony cage and soft tissues are normal.\\nIMPRESSION :\\xa0\\xa0  NORMAL STUDY. \\nFor clinical correlation. \\n', 'Patient ID 242c695faa7c6d9e7d4daf537f413d13c0b6f50c9074f588e207f9db\\nPatient Name 8e0f6a3494a5edd64f82aba7a6a199704960f7b3c94562c64ca09b97 35Y\\nAge :\\nSex :M\\nAccession Number 21f8861d6df137bb07d47c0fec31dad975e4f89c5ba5c163e04c4cf9\\nModality :CR\\nReferring Physician 21f8861d6df137bb07d47c0fec31dad975e4f89c5ba5c163e04c4cf9\\nStudy :CHEST\\nStudy Date 06249234fe03b5e828663bb38b83a8da56dd6f8b4d1bcbc33a3de006\\n\\n\\n\\n\\n\\nX-RAY CHEST\\n\\nProminent Bronchovascular markings noted bilaterally \\nThe peripheral pulmonary vasculature is normal.\\nNo focal lung lesion is seen.\\nThe pleural spaces are normal.\\nBoth hila are normal in size, have equal density and bear normal relationship.\\nThe heart and trachea are central in position and no mediastinal abnormality is visible.\\nThe cardiac size is normal.\\nThe domes of the diaphragms are normal in position,and show smooth outline.\\nIMPRESSION  :\\nProminent Bronchovascular markings noted bilaterally \\n\\n\\n\\n\\n', '5465914|385006|X-Ray Chest PA/AP View of 17-MAY-2017:\\nResults:\\nNo focal lesion seen in the lung parenchyma. \\nCP angles and domes of the diaphragm are normal.\\nBoth hila are normal. Pulmonary vasculature is normal.\\nCardiac size and configuration is normal.\\nTrachea is central; no mediastinal shift is seen.\\nBony thorax and soft tissues of the chest wall are normal.\\nIMPRESSION: No abnormality detected in the view obtained.\\n5465914|385006|X-Ray Chest PA/AP View of 17-MAY-2017:\\nResults:\\nNo focal lesion seen in the lung parenchyma. \\nCP angles and domes of the diaphragm are normal.\\nBoth hila are normal. Pulmonary vasculature is normal.\\nCardiac size and configuration is normal.\\nTrachea is central; no mediastinal shift is seen.\\nBony thorax and soft tissues of the chest wall are normal.\\nIMPRESSION: No abnormality detected in the view obtained.', 'X-ray Chest PA  view:\\n\\nLUNGS: Normal.\\nTRACHEA: Normal. \\nPLEURA: Normal. \\n\\nHEART: Normal. \\nPULMONARY HILA: Normal. \\nAORTA: Normal. \\n\\nVISUALIZED BONES: Normal. \\nVISUALIZED SOFT TISSUES: Normal. \\n\\nDIAPHRAGM: Normal. \\n\\nVISUALIZED ABDOMEN:  Normal. \\nVISUALIZED NECK: Normal. \\n\\nReport Impression: \\nNormal x-ray of the chest.', '5846980|762903|X-Ray Chest PA/AP View of 30-SEP-2017:\\nInvestigation: X-Ray Chest AP Supine (Portable)\\nResults:\\nAs compared with previous scan dated 29th Sep 2017; there is no significant interval change. \\nAdvise: Clinical correlation \\n5846980|762903|X-Ray Chest PA/AP View of 30-SEP-2017:\\nInvestigation: X-Ray Chest AP Supine (Portable)\\nResults:\\nAs compared with previous scan dated 29th Sep 2017; there is no significant interval change. \\nAdvise: Clinical correlation ', 'Patient ID fe2decb9e12c1a4f5a0550b4a6f197f15832ff5b02de5afdc850f7dc\\nPatient Name 50d7417b4e04a106ef70ea1e60e2f225713b354daf29372ee2525052 25Y R NO 12394\\nAge :\\nSex :M\\nAccession Number 21f8861d6df137bb07d47c0fec31dad975e4f89c5ba5c163e04c4cf9\\nModality :CR\\nReferring Physician 21f8861d6df137bb07d47c0fec31dad975e4f89c5ba5c163e04c4cf9\\nStudy :CHEST\\nStudy Date bff82b3cb92b2602a4fb8913a99995e2b2a6472c2304b8186a1d5c31\\n\\n\\n\\n\\n\\nX-RAY CHEST PA VIEW\\n\\n\\nThe lungs on the either side show equal translucency.  \\nThe peripheral pulmonary vasculature is normal.\\nNo focal lung lesion is seen.\\nBilateral CP angles are normal.\\nBoth hila are normal in size, have equal density and bear normal relationship.\\nThe heart and trachea are central in position and no mediastinal abnormality is visible.\\nThe cardiac size is normal.\\nThe domes of the diaphragms are normal in position,and show smooth outline.\\n\\nIMPRESSION  :\\nNo significant abnormality detected.\\nSuggested clinical correlation.\\n\\n\\n', 'Patient ID dac2276cf555f19cb97865eefa7a9aa33a2a194211379888b6b28975\\nPatient Name 3defa76687c66377a8930a1cff6f482509389bd5dbfc91006401e3d6\\nAge :50 Years\\nSex :M\\nAccession Number 915b385238e3a5085886fd3359cc3f4a8da716dd131a17f82cb7caef\\nModality :CR\\nReferring Physician ee8c7d67eca07243aaceeed42cd5b101e8dbe0cdddf36f2f14ac6c3c\\nStudy :CHEST PA\\nStudy Date bf2ca8e7decd3ab0b3b65076509d7866573f8071d1e9e4c559cbb3be\\n\\n\\n\\n\\n\\nX-RAY CHEST PA VIEW\\n\\n\\nThe lungs on the either side show equal translucency.  \\nThe peripheral pulmonary vasculature is normal.\\nNo focal lung lesion is seen.\\nBilateral CP angles are normal.\\nBoth hila are normal in size, have equal density and bear normal relationship.\\nThe heart and trachea are central in position and no mediastinal abnormality is visible.\\nThe cardiac size is normal.\\nRight sided\\xa0 diphramatic hump noted.\\n\\nSuggested clinical correlation.\\n\\n\\n', 'Patient ID 905753a6469cf49c0f933a787428e243d0e061c005fcc2a71a197256\\nPatient Name 7bc5a79e249cf8814405575613fa06bb7ed81c65a82f25ab827fd91d 42  YRS\\nAge :\\nSex :M\\nAccession Number 21f8861d6df137bb07d47c0fec31dad975e4f89c5ba5c163e04c4cf9\\nModality :CR\\nReferring Physician 21f8861d6df137bb07d47c0fec31dad975e4f89c5ba5c163e04c4cf9\\nStudy :CHEST PA\\nStudy Date 6e51a1fee4c56ddfa75155b4d40035a0b3b3d7a2434023d86944fd52\\n\\n\\n\\n\\n\\n\\xa0\\xa0\\xa0\\xa0\\xa0\\xa0\\xa0\\xa0\\xa0\\xa0\\xa0\\xa0\\xa0\\xa0\\xa0\\xa0\\xa0\\xa0\\xa0\\xa0\\xa0\\xa0\\xa0\\xa0\\xa0\\xa0\\xa0\\xa0\\xa0\\xa0\\xa0\\xa0\\xa0\\xa0\\xa0\\xa0\\xa0\\xa0\\xa0\\xa0\\xa0\\xa0\\xa0 X - RAY CHEST PA VIEW\\nProminent bilateral hilar shadows noted.\\n\\xa0\\nTrachea is in midline.\\nCardiac silhouette maintained.\\xa0\\xa0\\xa0\\xa0\\xa0\\xa0\\xa0\\xa0 \\nBoth CP angles are clear.\\nBoth lung parenchyma are normal.\\nBony cage and soft tissues are normal.\\n\\nIMPRESSION:\\nProminent bilateral hilar shadows noted.\\nFor clinical correlation. \\n\\n\\n')\n",
      "tensor([[0., 0., 0.,  ..., 0., 0., 0.],\n",
      "        [0., 0., 0.,  ..., 0., 0., 0.],\n",
      "        [0., 0., 0.,  ..., 0., 0., 0.],\n",
      "        ...,\n",
      "        [0., 0., 0.,  ..., 0., 0., 0.],\n",
      "        [0., 0., 0.,  ..., 0., 0., 0.],\n",
      "        [0., 0., 0.,  ..., 0., 1., 0.]])\n",
      "Feature batch shape: 32\n",
      "Labels batch shape: 32\n",
      "6434328|5725519|X-Ray Chest PA/AP View of 06-MAY-2018:\n",
      "Results:\n",
      "No focal lesion seen in the lung parenchyma. \n",
      "CP angles and domes of the diaphragm are normal.\n",
      "Both hila are normal. Pulmonary vasculature is normal.\n",
      "Cardiac size and configuration is normal.\n",
      "Trachea is central; no mediastinal shift is seen.\n",
      "Bony thorax and soft tissues of the chest wall are normal.\n",
      "IMPRESSION: No abnormality detected in the view obtained.\n",
      "6434328|5725519|X-Ray Chest PA/AP View of 06-MAY-2018:\n",
      "Results:\n",
      "No focal lesion seen in the lung parenchyma. \n",
      "CP angles and domes of the diaphragm are normal.\n",
      "Both hila are normal. Pulmonary vasculature is normal.\n",
      "Cardiac size and configuration is normal.\n",
      "Trachea is central; no mediastinal shift is seen.\n",
      "Bony thorax and soft tissues of the chest wall are normal.\n",
      "IMPRESSION: No abnormality detected in the view obtained.\n",
      "Label: tensor([0., 0., 0., 0., 0., 0., 0., 0., 0., 0., 0., 0., 0., 0., 0., 0., 0., 0., 0., 0., 0., 0., 0., 0., 0., 0., 0., 0., 0., 0., 0., 0., 0., 0., 0., 0., 0., 0., 0., 0., 0., 0., 0., 0., 0., 0., 0., 0.,\n",
      "        0., 0., 0., 0., 0., 0., 0., 0., 0., 0., 0., 0., 0., 0., 0., 0., 0., 0., 0., 0., 0., 0., 0., 0., 0., 0., 0., 0., 0., 0., 0., 0., 0., 0., 0., 0., 0., 0., 0., 0., 0., 0., 0., 0., 0., 0., 0., 0.,\n",
      "        0., 0., 0., 0., 0., 0., 0., 0., 0., 0., 0., 0., 0., 0., 0., 0., 0., 0., 0., 0., 0., 0., 0., 0., 0., 0., 0., 0., 0., 0., 0., 0., 0., 0., 0., 0., 0., 0., 0., 0., 0., 0., 0., 0., 0., 0., 0., 0.,\n",
      "        0., 0., 0., 0., 0., 0., 0., 0., 0., 0., 0., 0., 0., 0., 0., 0., 0., 0., 0., 0., 0., 0., 0., 0., 0., 0., 0., 0., 0., 0., 0., 0., 0., 0., 0., 0., 0., 0., 0., 0., 0., 0., 0., 0., 0., 0., 0., 0.,\n",
      "        0., 0., 0., 0., 0., 0., 0., 0., 0., 0., 0., 0., 0., 0., 0., 0., 0., 0., 0., 0., 0., 0., 0., 0., 0., 0., 0., 0., 0., 0., 0., 0., 1., 0., 0., 0., 0., 0., 0., 0., 0., 0., 0., 0., 0., 0., 0., 0.,\n",
      "        0., 0., 0., 0., 0., 0., 0., 0., 0., 0., 0., 0., 0., 0., 0., 0., 0., 0., 0., 0., 0., 0., 0., 0., 0., 0., 0., 0., 0., 0., 0., 0., 0., 0., 0., 0., 0., 0., 0., 0., 0., 0., 0., 0., 0., 0., 0., 0.,\n",
      "        0., 0., 0., 0., 0., 0., 0., 0., 0., 0., 0., 0., 0., 0., 0., 0., 0., 0., 0., 0., 0., 0., 0., 0., 0., 0., 0., 0., 0., 0., 0., 0., 0., 0.])\n"
     ]
    }
   ],
   "source": [
    "print(train_features)\n",
    "print(train_labels)\n",
    "print(f\"Feature batch shape: {len(train_features)}\")\n",
    "print(f\"Labels batch shape: {len(train_labels)}\")\n",
    "report_text = train_features[0]\n",
    "print(report_text)\n",
    "label = train_labels[0]\n",
    "print(f\"Label: {label}\")"
   ]
  },
  {
   "cell_type": "code",
   "execution_count": 45,
   "metadata": {},
   "outputs": [],
   "source": [
    "logit_tensor = radbert_multi_model(train_features)"
   ]
  },
  {
   "cell_type": "code",
   "execution_count": 47,
   "metadata": {},
   "outputs": [
    {
     "name": "stdout",
     "output_type": "stream",
     "text": [
      "tensor([[-0.1485, -0.3681,  0.0774,  ..., -0.2707, -0.0061, -0.1722],\n",
      "        [-0.1415, -0.3708,  0.1239,  ..., -0.2729, -0.0105, -0.1739],\n",
      "        [-0.1658, -0.3611,  0.0246,  ..., -0.2912,  0.0304, -0.1404],\n",
      "        ...,\n",
      "        [-0.1485, -0.3477,  0.0417,  ..., -0.2952,  0.0045, -0.1395],\n",
      "        [-0.1423, -0.3476,  0.0403,  ..., -0.3019, -0.0042, -0.1491],\n",
      "        [-0.1514, -0.3525,  0.0412,  ..., -0.3050,  0.0014, -0.1509]], grad_fn=<AddmmBackward0>)\n",
      "torch.Size([32, 322])\n"
     ]
    }
   ],
   "source": [
    "print(logit_tensor)\n",
    "print(logit_tensor.shape)"
   ]
  },
  {
   "cell_type": "markdown",
   "metadata": {},
   "source": [
    "## Fine Tuning ##\n",
    "Fine tuning the RadBERT model for tags prediction task"
   ]
  },
  {
   "cell_type": "markdown",
   "metadata": {},
   "source": [
    "### Adam Optimizer ###\n",
    "Using Adam optimizer with learning rate 3e-5, beta1 = 0.9, beta2 = 0.99, l2 weight decay of 0.01"
   ]
  },
  {
   "cell_type": "code",
   "execution_count": 19,
   "metadata": {},
   "outputs": [],
   "source": [
    "lr = 3e-5\n",
    "beta1 = 0.9\n",
    "beta2 = 0.99\n",
    "l2_weight_decay = 0.01"
   ]
  },
  {
   "cell_type": "code",
   "execution_count": 20,
   "metadata": {},
   "outputs": [],
   "source": [
    "optimizer = torch.optim.Adam(radbert_multi_model.parameters(), lr=lr, betas=(beta1, beta2), weight_decay=l2_weight_decay)"
   ]
  },
  {
   "cell_type": "code",
   "execution_count": 21,
   "metadata": {},
   "outputs": [],
   "source": [
    "def train_one_epoch(epoch_index, tb_writer):\n",
    "    running_loss = 0.\n",
    "    last_loss = 0.\n",
    "\n",
    "    for i, data in enumerate(train_dataloader):\n",
    "        inputs, labels = data\n",
    "        optimizer.zero_grad()\n",
    "        outputs = radbert_multi_model(inputs)\n",
    "\n",
    "        # Compute the loss and its gradients\n",
    "        loss = multiclass_multilabel_loss(outputs, labels)\n",
    "        loss.backward()\n",
    "        optimizer.step()\n",
    "\n",
    "        # Gather data and report\n",
    "        running_loss += loss.item()\n",
    "        if i % 100 == 999:\n",
    "            last_loss = running_loss / 100 # loss per batch\n",
    "            print('  batch {} loss: {}'.format(i + 1, last_loss))\n",
    "            tb_x = epoch_index * len(train_dataloader) + i + 1\n",
    "            tb_writer.add_scalar('Loss/train', last_loss, tb_x)\n",
    "            running_loss = 0.\n",
    "\n",
    "    return last_loss"
   ]
  },
  {
   "cell_type": "markdown",
   "metadata": {},
   "source": [
    "### The full fine-tuning loog ###"
   ]
  },
  {
   "cell_type": "code",
   "execution_count": 22,
   "metadata": {},
   "outputs": [],
   "source": [
    "total_epochs = 5"
   ]
  },
  {
   "cell_type": "code",
   "execution_count": 24,
   "metadata": {},
   "outputs": [
    {
     "name": "stdout",
     "output_type": "stream",
     "text": [
      "EPOCH 1:\n"
     ]
    }
   ],
   "source": [
    "# Initializing in a separate cell so we can easily add more epochs to the same run\n",
    "timestamp = datetime.datetime.now().strftime('%Y%m%d_%H%M%S')\n",
    "writer = SummaryWriter('runs/fashion_trainer_{}'.format(timestamp))\n",
    "epoch_number = 0\n",
    "\n",
    "for epoch in range(total_epochs):\n",
    "    # Make sure gradient tracking is on, and do a pass over the data\n",
    "    print('EPOCH {}:'.format(epoch_number + 1))\n",
    "    radbert_multi_model.train(True)\n",
    "    avg_loss = train_one_epoch(epoch_number, writer)\n",
    "\n",
    "    # Set the model to evaluation mode, disabling dropout and using population, statistics for batch normalization\n",
    "    running_vloss = 0.0\n",
    "    radbert_multi_model.eval()\n",
    "\n",
    "    # Disable gradient computation and reduce memory consumption.\n",
    "    with torch.no_grad():\n",
    "        for i, vdata in enumerate(train_dataloader):\n",
    "            vinputs, vlabels = vdata\n",
    "            voutputs = radbert_multi_model(vinputs)\n",
    "            vloss = multiclass_multilabel_loss(voutputs, vlabels)\n",
    "            running_vloss += vloss\n",
    "\n",
    "    avg_vloss = running_vloss / (i + 1)\n",
    "    print('LOSS train {} valid {}'.format(avg_loss, avg_vloss))\n",
    "\n",
    "    # Log the running loss averaged per batch for both training and validation\n",
    "    writer.add_scalars('Training vs. Validation Loss',\n",
    "                    { 'Training' : avg_loss, 'Validation' : avg_vloss },\n",
    "                    epoch_number + 1)\n",
    "    writer.flush()\n",
    "    model_path = '/home/users/pranav.rao/MiniTasks/Radbert/model_{}_{}'.format(timestamp, epoch_number)\n",
    "    torch.save(radbert_multi_model.state_dict(), model_path)\n",
    "    epoch_number += 1"
   ]
  }
 ],
 "metadata": {
  "kernelspec": {
   "display_name": "TutorialCuda",
   "language": "python",
   "name": "python3"
  },
  "language_info": {
   "codemirror_mode": {
    "name": "ipython",
    "version": 3
   },
   "file_extension": ".py",
   "mimetype": "text/x-python",
   "name": "python",
   "nbconvert_exporter": "python",
   "pygments_lexer": "ipython3",
   "version": "3.11.4"
  },
  "orig_nbformat": 4
 },
 "nbformat": 4,
 "nbformat_minor": 2
}
