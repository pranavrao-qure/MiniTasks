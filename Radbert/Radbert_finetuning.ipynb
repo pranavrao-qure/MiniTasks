{
 "cells": [
  {
   "cell_type": "markdown",
   "metadata": {},
   "source": [
    "# Fine-tuning RadBert #\n",
    "Full parameter fine tuning of RadBERT model (RadBERT-RoBERTa-4m model from the RadBERT paper). Fine tuning carried out on the multi-label muti-class classification of reports, where each report can have multiple labels (For ex, a report can havel label consolidation-right and consolidation-2)"
   ]
  },
  {
   "cell_type": "code",
   "execution_count": 1,
   "metadata": {},
   "outputs": [
    {
     "name": "stderr",
     "output_type": "stream",
     "text": [
      "/home/users/pranav.rao/miniconda3/envs/TutorialCuda/lib/python3.11/site-packages/tqdm/auto.py:21: TqdmWarning: IProgress not found. Please update jupyter and ipywidgets. See https://ipywidgets.readthedocs.io/en/stable/user_install.html\n",
      "  from .autonotebook import tqdm as notebook_tqdm\n"
     ]
    }
   ],
   "source": [
    "import os\n",
    "import datetime\n",
    "import codecs\n",
    "from itertools import product\n",
    "\n",
    "import numpy as np\n",
    "import pandas as pd\n",
    "\n",
    "import torch\n",
    "from torch import nn\n",
    "import torch.nn.functional as F\n",
    "from torch.utils.data import Dataset, DataLoader\n",
    "from torch.utils.tensorboard import SummaryWriter\n",
    "\n",
    "import transformers\n",
    "from transformers import AutoTokenizer, AutoModel\n",
    "from transformers import pipeline"
   ]
  },
  {
   "cell_type": "code",
   "execution_count": 2,
   "metadata": {},
   "outputs": [],
   "source": [
    "pd.set_option('display.max_rows', 50)\n",
    "pd.set_option('display.max_columns', 500)\n",
    "pd.set_option('display.width', 1000)\n",
    "\n",
    "torch.set_printoptions(linewidth=200)"
   ]
  },
  {
   "cell_type": "code",
   "execution_count": 3,
   "metadata": {},
   "outputs": [
    {
     "name": "stdout",
     "output_type": "stream",
     "text": [
      "Using cuda device\n"
     ]
    }
   ],
   "source": [
    "# Get cpu, gpu or mps device for training.\n",
    "device = (\n",
    "    \"cuda\"\n",
    "    if torch.cuda.is_available()\n",
    "    else \"mps\"\n",
    "    if torch.backends.mps.is_available()\n",
    "    else \"cpu\"\n",
    ")\n",
    "print(f\"Using {device} device\")"
   ]
  },
  {
   "cell_type": "markdown",
   "metadata": {},
   "source": [
    "## Forward pass ##\n",
    "Implementing RadBERTMultiClassMulti Label PyTorch Model"
   ]
  },
  {
   "cell_type": "code",
   "execution_count": 27,
   "metadata": {},
   "outputs": [],
   "source": [
    "class RadBERTMultiClassMultiLabel(nn.Module):\n",
    "    \"\"\"\n",
    "    RadBERTMultiClassMultiLabel: Model expects batches of natural language sentences, will\n",
    "    classify reports with multiple label\n",
    "    \"\"\"\n",
    "    def __init__(self, num_classes, checkpoint, device):\n",
    "        super().__init__()\n",
    "        self.num_classes = num_classes\n",
    "        self.checkpoint = checkpoint\n",
    "        self.device = device\n",
    "\n",
    "        self.tokenizer = AutoTokenizer.from_pretrained(self.checkpoint)\n",
    "        self.transformer_encoder = AutoModel.from_pretrained(self.checkpoint)\n",
    "        self.transformer_encoder_hidden_size = self.transformer_encoder.config.hidden_size\n",
    "        self.linear_classifier = nn.Linear(self.transformer_encoder_hidden_size, self.num_classes)\n",
    "    \n",
    "    def forward(self, x):\n",
    "        tokenized_inp = self.tokenizer(x, padding=True, truncation=True, return_tensors='pt').to(self.device)\n",
    "        encoder_out = self.transformer_encoder(**tokenized_inp)\n",
    "        logits = self.linear_classifier(encoder_out.last_hidden_state[:, 0, :])\n",
    "        return logits\n"
   ]
  },
  {
   "cell_type": "code",
   "execution_count": 28,
   "metadata": {},
   "outputs": [],
   "source": [
    "checkpoint = 'UCSD-VA-health/RadBERT-RoBERTa-4m'\n",
    "labels_subset = \"normal tuberculosis opacity bronchialdilation density parenchymalopacity ett aorticenlargement mediastinalwidening mediastinalmass\\\n",
    "        copd prominentbronchovascularmarkings bronchitis markings vascularprominence interval interstitiallungdisease bluntedcp effusion cardiomegaly\\\n",
    "        consolidation subtle_normal peffusion lineandtube thickening haziness hilarprominence hilar inhomogenousopacity rotation\\\n",
    "        calcification unfoldedaorta bandlikeopacity aorticcalcification aorticknucklecalcification fibrosis suture cardiacshift degenspine nodule\\\n",
    "        pneumonia inspiration fracture pneumonitis justfibrosis lesion nonaorticcalcification tuberculosispure pleuralthickening feedingtube\".split()\n",
    "num_classes = len(labels_subset)"
   ]
  },
  {
   "cell_type": "code",
   "execution_count": 29,
   "metadata": {},
   "outputs": [
    {
     "name": "stderr",
     "output_type": "stream",
     "text": [
      "Some weights of RobertaModel were not initialized from the model checkpoint at UCSD-VA-health/RadBERT-RoBERTa-4m and are newly initialized: ['roberta.pooler.dense.bias', 'roberta.pooler.dense.weight']\n",
      "You should probably TRAIN this model on a down-stream task to be able to use it for predictions and inference.\n"
     ]
    }
   ],
   "source": [
    "radbert_multi_model = RadBERTMultiClassMultiLabel(num_classes, checkpoint, device).to(device)"
   ]
  },
  {
   "cell_type": "code",
   "execution_count": 30,
   "metadata": {},
   "outputs": [
    {
     "name": "stdout",
     "output_type": "stream",
     "text": [
      "RadBERTMultiClassMultiLabel(\n",
      "  (transformer_encoder): RobertaModel(\n",
      "    (embeddings): RobertaEmbeddings(\n",
      "      (word_embeddings): Embedding(50265, 768, padding_idx=1)\n",
      "      (position_embeddings): Embedding(514, 768, padding_idx=1)\n",
      "      (token_type_embeddings): Embedding(1, 768)\n",
      "      (LayerNorm): LayerNorm((768,), eps=1e-05, elementwise_affine=True)\n",
      "      (dropout): Dropout(p=0.1, inplace=False)\n",
      "    )\n",
      "    (encoder): RobertaEncoder(\n",
      "      (layer): ModuleList(\n",
      "        (0-11): 12 x RobertaLayer(\n",
      "          (attention): RobertaAttention(\n",
      "            (self): RobertaSelfAttention(\n",
      "              (query): Linear(in_features=768, out_features=768, bias=True)\n",
      "              (key): Linear(in_features=768, out_features=768, bias=True)\n",
      "              (value): Linear(in_features=768, out_features=768, bias=True)\n",
      "              (dropout): Dropout(p=0.1, inplace=False)\n",
      "            )\n",
      "            (output): RobertaSelfOutput(\n",
      "              (dense): Linear(in_features=768, out_features=768, bias=True)\n",
      "              (LayerNorm): LayerNorm((768,), eps=1e-05, elementwise_affine=True)\n",
      "              (dropout): Dropout(p=0.1, inplace=False)\n",
      "            )\n",
      "          )\n",
      "          (intermediate): RobertaIntermediate(\n",
      "            (dense): Linear(in_features=768, out_features=3072, bias=True)\n",
      "            (intermediate_act_fn): GELUActivation()\n",
      "          )\n",
      "          (output): RobertaOutput(\n",
      "            (dense): Linear(in_features=3072, out_features=768, bias=True)\n",
      "            (LayerNorm): LayerNorm((768,), eps=1e-05, elementwise_affine=True)\n",
      "            (dropout): Dropout(p=0.1, inplace=False)\n",
      "          )\n",
      "        )\n",
      "      )\n",
      "    )\n",
      "    (pooler): RobertaPooler(\n",
      "      (dense): Linear(in_features=768, out_features=768, bias=True)\n",
      "      (activation): Tanh()\n",
      "    )\n",
      "  )\n",
      "  (linear_classifier): Linear(in_features=768, out_features=50, bias=True)\n",
      ")\n",
      "[torch.Size([50265, 768]), torch.Size([514, 768]), torch.Size([1, 768]), torch.Size([768]), torch.Size([768]), torch.Size([768, 768]), torch.Size([768]), torch.Size([768, 768]), torch.Size([768]), torch.Size([768, 768]), torch.Size([768]), torch.Size([768, 768]), torch.Size([768]), torch.Size([768]), torch.Size([768]), torch.Size([3072, 768]), torch.Size([3072]), torch.Size([768, 3072]), torch.Size([768]), torch.Size([768]), torch.Size([768]), torch.Size([768, 768]), torch.Size([768]), torch.Size([768, 768]), torch.Size([768]), torch.Size([768, 768]), torch.Size([768]), torch.Size([768, 768]), torch.Size([768]), torch.Size([768]), torch.Size([768]), torch.Size([3072, 768]), torch.Size([3072]), torch.Size([768, 3072]), torch.Size([768]), torch.Size([768]), torch.Size([768]), torch.Size([768, 768]), torch.Size([768]), torch.Size([768, 768]), torch.Size([768]), torch.Size([768, 768]), torch.Size([768]), torch.Size([768, 768]), torch.Size([768]), torch.Size([768]), torch.Size([768]), torch.Size([3072, 768]), torch.Size([3072]), torch.Size([768, 3072]), torch.Size([768]), torch.Size([768]), torch.Size([768]), torch.Size([768, 768]), torch.Size([768]), torch.Size([768, 768]), torch.Size([768]), torch.Size([768, 768]), torch.Size([768]), torch.Size([768, 768]), torch.Size([768]), torch.Size([768]), torch.Size([768]), torch.Size([3072, 768]), torch.Size([3072]), torch.Size([768, 3072]), torch.Size([768]), torch.Size([768]), torch.Size([768]), torch.Size([768, 768]), torch.Size([768]), torch.Size([768, 768]), torch.Size([768]), torch.Size([768, 768]), torch.Size([768]), torch.Size([768, 768]), torch.Size([768]), torch.Size([768]), torch.Size([768]), torch.Size([3072, 768]), torch.Size([3072]), torch.Size([768, 3072]), torch.Size([768]), torch.Size([768]), torch.Size([768]), torch.Size([768, 768]), torch.Size([768]), torch.Size([768, 768]), torch.Size([768]), torch.Size([768, 768]), torch.Size([768]), torch.Size([768, 768]), torch.Size([768]), torch.Size([768]), torch.Size([768]), torch.Size([3072, 768]), torch.Size([3072]), torch.Size([768, 3072]), torch.Size([768]), torch.Size([768]), torch.Size([768]), torch.Size([768, 768]), torch.Size([768]), torch.Size([768, 768]), torch.Size([768]), torch.Size([768, 768]), torch.Size([768]), torch.Size([768, 768]), torch.Size([768]), torch.Size([768]), torch.Size([768]), torch.Size([3072, 768]), torch.Size([3072]), torch.Size([768, 3072]), torch.Size([768]), torch.Size([768]), torch.Size([768]), torch.Size([768, 768]), torch.Size([768]), torch.Size([768, 768]), torch.Size([768]), torch.Size([768, 768]), torch.Size([768]), torch.Size([768, 768]), torch.Size([768]), torch.Size([768]), torch.Size([768]), torch.Size([3072, 768]), torch.Size([3072]), torch.Size([768, 3072]), torch.Size([768]), torch.Size([768]), torch.Size([768]), torch.Size([768, 768]), torch.Size([768]), torch.Size([768, 768]), torch.Size([768]), torch.Size([768, 768]), torch.Size([768]), torch.Size([768, 768]), torch.Size([768]), torch.Size([768]), torch.Size([768]), torch.Size([3072, 768]), torch.Size([3072]), torch.Size([768, 3072]), torch.Size([768]), torch.Size([768]), torch.Size([768]), torch.Size([768, 768]), torch.Size([768]), torch.Size([768, 768]), torch.Size([768]), torch.Size([768, 768]), torch.Size([768]), torch.Size([768, 768]), torch.Size([768]), torch.Size([768]), torch.Size([768]), torch.Size([3072, 768]), torch.Size([3072]), torch.Size([768, 3072]), torch.Size([768]), torch.Size([768]), torch.Size([768]), torch.Size([768, 768]), torch.Size([768]), torch.Size([768, 768]), torch.Size([768]), torch.Size([768, 768]), torch.Size([768]), torch.Size([768, 768]), torch.Size([768]), torch.Size([768]), torch.Size([768]), torch.Size([3072, 768]), torch.Size([3072]), torch.Size([768, 3072]), torch.Size([768]), torch.Size([768]), torch.Size([768]), torch.Size([768, 768]), torch.Size([768]), torch.Size([768, 768]), torch.Size([768]), torch.Size([768, 768]), torch.Size([768]), torch.Size([768, 768]), torch.Size([768]), torch.Size([768]), torch.Size([768]), torch.Size([3072, 768]), torch.Size([3072]), torch.Size([768, 3072]), torch.Size([768]), torch.Size([768]), torch.Size([768]), torch.Size([768, 768]), torch.Size([768]), torch.Size([50, 768]), torch.Size([50])]\n"
     ]
    }
   ],
   "source": [
    "print(radbert_multi_model)\n",
    "print(list(map(lambda x : x.shape, radbert_multi_model.parameters())))"
   ]
  },
  {
   "cell_type": "markdown",
   "metadata": {},
   "source": [
    "## Custom Loss function ##\n",
    "Custom loss function for multi class multi label classification to handle uncertain tags (tags have value 0 -> absent, 1 -> present, -100 -> uncertain)"
   ]
  },
  {
   "cell_type": "code",
   "execution_count": 31,
   "metadata": {},
   "outputs": [],
   "source": [
    "class MultiClassMultiLabel(nn.Module):\n",
    "    def __init__(self, uncertain_label):\n",
    "        super(MultiClassMultiLabel, self).__init__()\n",
    "        self.uncertain_label = uncertain_label\n",
    "    \n",
    "    def forward(self, output, target):\n",
    "        certain_mask = (target != self.uncertain_label)\n",
    "        loss_func = nn.MultiLabelSoftMarginLoss(weight=certain_mask.type(torch.float))\n",
    "        return loss_func(output, target)"
   ]
  },
  {
   "cell_type": "code",
   "execution_count": 32,
   "metadata": {},
   "outputs": [],
   "source": [
    "multiclass_multilabel_loss = MultiClassMultiLabel(-100).to(device)"
   ]
  },
  {
   "cell_type": "markdown",
   "metadata": {},
   "source": [
    "### Testing MultiClassMultiLabel loss function ###"
   ]
  },
  {
   "cell_type": "code",
   "execution_count": 34,
   "metadata": {},
   "outputs": [],
   "source": [
    "logit_tensor = torch.Tensor([[-1.0, 2.0, 1.0, 5.0, -3.0], [4.0, -2.0, 1.0, -1.0, 2.5]]).to(device)\n",
    "target_tensor_act = torch.Tensor([[0, 1, -100, 0, 0], [1, -100, 0, 0, 1]]).to(device)"
   ]
  },
  {
   "cell_type": "code",
   "execution_count": 35,
   "metadata": {},
   "outputs": [
    {
     "name": "stdout",
     "output_type": "stream",
     "text": [
      "tensor(0.7219, device='cuda:0')\n"
     ]
    }
   ],
   "source": [
    "#certain_mask = (target_tensor_act != -100)\n",
    "#print(certain_mask.type(torch.float))\n",
    "#loss_func = nn.MultiLabelSoftMarginLoss(weight=(certain_mask).type(torch.float))\n",
    "#print(loss_func(logit_tensor, target_tensor_act))\n",
    "print(multiclass_multilabel_loss(logit_tensor, target_tensor_act))"
   ]
  },
  {
   "cell_type": "code",
   "execution_count": 36,
   "metadata": {},
   "outputs": [],
   "source": [
    "import math\n",
    "from math import log, exp\n",
    "\n",
    "def log_sigmoid(x):\n",
    "    return log(1/(1+exp(-1*x)))"
   ]
  },
  {
   "cell_type": "code",
   "execution_count": 37,
   "metadata": {},
   "outputs": [
    {
     "name": "stdout",
     "output_type": "stream",
     "text": [
      "1.0990984797248111\n",
      "0.34471260744936094\n",
      "0.721905543587086\n"
     ]
    }
   ],
   "source": [
    "loss1 = -1 * (1.0 * log_sigmoid(1.0) + 1.0 * log_sigmoid(2.0) + 0.0 * log_sigmoid(-1.0) + 1.0 * log_sigmoid(-5.0) + 1.0 * log_sigmoid(3.0)) / 5.0\n",
    "loss2 = -1 * (1.0 * log_sigmoid(4.0) + 0.0 * log_sigmoid(2.0) + 1.0 * log_sigmoid(-1.0) + 1.0 * log_sigmoid(1.0) + 1.0 * log_sigmoid(2.5)) / 5.0\n",
    "\n",
    "print(loss1)\n",
    "print(loss2)\n",
    "print((loss1 + loss2)/2.0)"
   ]
  },
  {
   "cell_type": "markdown",
   "metadata": {},
   "source": [
    "## Custom DataLoader and Dataset ##\n",
    "Read csv file, get the report from path and prepare the data"
   ]
  },
  {
   "cell_type": "code",
   "execution_count": 38,
   "metadata": {},
   "outputs": [],
   "source": [
    "class ReportTagsDataset(Dataset):\n",
    "    def __init__(self, tags_csv_file, report_base_path, labels_subset=None, text_transform=None, target_transform=None):\n",
    "        self.report_base_path = report_base_path\n",
    "        self.tags_csv_file = tags_csv_file\n",
    "\n",
    "        self.tags_df = pd.read_csv(self.tags_csv_file)\n",
    "        self.column_names = list(self.tags_df.columns.values)\n",
    "        self.column_names[0] = 'filename'\n",
    "        self.tags_df.columns = self.column_names\n",
    "\n",
    "        self.labels_subset = labels_subset\n",
    "        self.text_transform = text_transform\n",
    "        self.target_transform = target_transform\n",
    "    \n",
    "    def __len__(self):\n",
    "        return self.tags_df.shape[0]\n",
    "    \n",
    "    def __getitem__(self, index):\n",
    "        report_path = os.path.join(self.report_base_path, self.tags_df.iloc[index, 0].split('/')[-1] + '.txt')\n",
    "        #report_text = open(report_path).read()\n",
    "        report_text = codecs.open(report_path, 'r', encoding='utf-8', errors='ignore').read()\n",
    "        if self.labels_subset is None:\n",
    "            target_list = torch.Tensor(list(self.tags_df.iloc[index][1:]))\n",
    "        else:\n",
    "            target_list = torch.Tensor(list(self.tags_df[self.labels_subset].iloc[index]))\n",
    "        return report_text, target_list"
   ]
  },
  {
   "cell_type": "code",
   "execution_count": 39,
   "metadata": {},
   "outputs": [],
   "source": [
    "#report_base_path = \"/models_common_e2e/cxr_data/reports/training\"\n",
    "train_reports_base_path = '/home/users/pranav.rao/MiniTasks/Radbert/data/train'\n",
    "test_reports_base_path = '/home/users/pranav.rao/MiniTasks/Radbert/data/test'\n",
    "train_tags_file = '/home/users/pranav.rao/Downloads/report_tags_25k_train.csv'\n",
    "test_tags_file = '/home/users/pranav.rao/Downloads/report_tags_25k_train.csv'"
   ]
  },
  {
   "cell_type": "code",
   "execution_count": 40,
   "metadata": {},
   "outputs": [],
   "source": [
    "train_data = ReportTagsDataset(train_tags_file, train_reports_base_path, labels_subset=labels_subset)\n",
    "test_data = ReportTagsDataset(test_tags_file, test_reports_base_path, labels_subset=labels_subset)"
   ]
  },
  {
   "cell_type": "code",
   "execution_count": 51,
   "metadata": {},
   "outputs": [],
   "source": [
    "train_dataloader = DataLoader(train_data, batch_size=32, shuffle=True, num_workers=2)\n",
    "test_dataloader = DataLoader(test_data, batch_size=32, shuffle=True, num_workers=2)"
   ]
  },
  {
   "cell_type": "markdown",
   "metadata": {},
   "source": [
    "### Testing Dataset and DataLoader ###"
   ]
  },
  {
   "cell_type": "code",
   "execution_count": null,
   "metadata": {},
   "outputs": [],
   "source": [
    "# Display image and label.\n",
    "train_features, train_labels = next(iter(train_dataloader))"
   ]
  },
  {
   "cell_type": "code",
   "execution_count": 43,
   "metadata": {},
   "outputs": [
    {
     "name": "stdout",
     "output_type": "stream",
     "text": [
      "('XR- CHEST PA VIEW\\n\\nFINDINGS:\\n\\nLUNGS: Normal.\\nTRACHEA: Normal. \\nCARINA: Normal. \\nRIGHT AND LEFT MAIN BRONCHI: Normal. \\nPLEURA: Normal. \\n\\nHEART: Normal. \\nRIGHT HEART BORDER: Normal. \\nLEFT HEART BORDER: Normal. \\nPULMONARY BAY: Normal. \\nPULMONARY HILA: Normal. \\nAORTA: Normal. \\n\\nTHORACIC SPINE: Normal.\\nOTHER VISUALIZED BONES: Normal. \\nVISUALIZED SOFT TISSUES: Normal. \\n\\nDIAPHRAGM: Normal. \\n\\nVISUALIZED ABDOMEN: Normal. \\nVISUALIZED NECK: Normal.', 'Patient ID 6f6c6ca33ee7bd64f140633025a4051e86dfbe7985bcf9f2ba4c245a\\r\\nPatient Name ccd620b0c42218c3fa6b1067d18694eb7f777d1cf40b2c498e098274 51Y\\r\\nAge :\\r\\nSex :F\\r\\nAccession Number 21f8861d6df137bb07d47c0fec31dad975e4f89c5ba5c163e04c4cf9\\r\\nModality :CR\\r\\nReferring Physician 21f8861d6df137bb07d47c0fec31dad975e4f89c5ba5c163e04c4cf9\\r\\nStudy :CHEST\\r\\nStudy Date 1741ca7c811cee8c3691fce71e91411d170009d920b58244a4d63e4c\\r\\n\\r\\n\\r\\n\\r\\n\\r\\n\\r\\nX-RAY CHEST PA VIEW\\r\\n\\r\\n\\r\\nThe lungs on the either side show equal translucency.  \\r\\nThe peripheral pulmonary vasculature is normal.\\r\\nNo focal lung lesion is seen.\\r\\nBilateral CP angles are normal.\\r\\nBoth hila are normal in size, have equal density and bear normal relationship.\\r\\nThe heart and trachea are central in position and no mediastinal abnormality is visible.\\r\\nThe cardiac size is normal.\\r\\nThe domes of the diaphragms are normal in position,and show smooth outline.\\r\\n\\r\\nIMPRESSION  :\\r\\nNo significant abnormality detected.\\r\\nSuggested clinical correlation.\\r\\n', 'X - RAY CHEST PA VIEW\\n\\nBilateral lung fields appear normal.\\n\\nCardiac size is within normal limits.\\n\\nBilateral hilar regions appear normal.\\n\\nBilateral domes of diaphragm and costophrenic angles are normal.\\n\\nVisualised bones and soft tissues appear normal.\\n\\nImpression: Essentially normal study\\n\\n\\n\\nCONSULTANT RADIOLOGISTS \\n\\nDR. S. RADHESH DR. L.S.PRAVEEN DR. H.K. ANAND DR. H.T.GURURAJ RAO\\n\\n\\n\\nDR. JYOTHI M. R\\nJmr/sv\\n\\n\\n________________________________________________________', 'Patient ID 5e89fafa29928a779970f92b4a4b594ba552b7f6fc8404318cb8e1b3\\r\\nPatient Name 7e5ed43cd52c1b98d728ca183b2ce6283558ed4cce0ee7e70a19f4e0 25 Y\\r\\nAge :\\r\\nSex :F\\r\\nAccession Number 21f8861d6df137bb07d47c0fec31dad975e4f89c5ba5c163e04c4cf9\\r\\nModality :CR\\r\\nReferring Physician 21f8861d6df137bb07d47c0fec31dad975e4f89c5ba5c163e04c4cf9\\r\\nStudy :CHEST\\r\\nStudy Date 9274b7d0b3e6ac187a532b303d6366ce8e172b2ba5ee4ada5fbbba1b\\r\\n\\r\\n\\r\\n\\r\\n\\r\\n\\r\\nX-RAY CHEST\\xa0PA VIEW\\r\\n\\xa0\\r\\nFINDINGS :\\xa0\\xa0\\xa0  \\xa0 Lung fields are clear. \\xa0 Both hila appear normal. \\xa0 Mediastinum is normal. \\xa0 Cardiac size is normal. \\xa0 Both domes of diaphragm are normal. \\xa0 CP angles are clear.\\r\\n\\xa0 Impression\\xa0:- NO SIGNIFICANT ABNNORMALITY DETECTED \\xa0\\xa0\\xa0 Suggested clinical correlation and follow up.\\r\\n\\r\\n\\r\\n\\r\\n\\r\\n\\r\\n', 'Patient ID 7efea26d24d1cfbf932a17efd160308c2127ee41bfa9a08f884b6dcd\\r\\nPatient Name 21a9fe905db7622d7ecd9abd9a6e6da9b5d8b25b7bc15d9fd093c0a0\\r\\nAge :\\r\\nSex :F\\r\\nAccession Number 55e405760523ed82b6e2e443cae16fea1ee16ede12674084412ddbee\\r\\nModality :CR\\r\\nReferring Physician 21f8861d6df137bb07d47c0fec31dad975e4f89c5ba5c163e04c4cf9\\r\\nStudy :CHEST\\r\\nStudy Date 7b0f051c7f6767a78bcf5c40fc2924e5dcc33cd70e9aaa8318751e3e\\r\\n\\r\\n\\r\\n\\r\\n\\r\\n\\r\\nX-RAY CHEST \\r\\nThe lungs on the either side show equal translucency.  \\r\\nThe peripheral pulmonary vasculature is normal.\\r\\nNo focal lung lesion is seen.\\r\\nBilateral CP angles are normal.\\r\\nBoth hila are normal in size, have equal density and bear normal relationship.\\r\\nThe heart and trachea are central in position and no mediastinal abnormality is visible.\\r\\nThe cardiac size is normal.\\r\\nThe domes of the diaphragms are normal in position,and show smooth outline.\\r\\n\\r\\nIMPRESSION  :\\r\\nNo significant abnormality detected.\\r\\nSuggested clinical correlation. \\r\\n \\r\\n \\r\\r\\nDate: 29-Feb-2020 12:11:17\\r\\n', '6365103|4403918|X-Ray Chest PA/AP View of 11-APR-2018:\\nResults:\\nHaziness in lower zones attributable to overlying breast shadows.\\nNo focal lesion seen in the lung parenchyma. \\nCP angles and domes of the diaphragm are normal.\\nCardiac size and configuration is normal.\\nTrachea is central; no mediastinal shift is seen.\\n6365103|4403918|X-Ray Chest PA/AP View of 11-APR-2018:\\nResults:\\nHaziness in lower zones attributable to overlying breast shadows.\\nNo focal lesion seen in the lung parenchyma. \\nCP angles and domes of the diaphragm are normal.\\nCardiac size and configuration is normal.\\nTrachea is central; no mediastinal shift is seen.', 'Patient ID 6ad7716766a2ea1c0c8fdff2a3f90a89326feaa5cc2545e2e69339af\\r\\nPatient Name a1db24bdfc79cc29fe775b40f51da6904a28c79ddf0882998bdd86c7 55YRS\\r\\nAge :\\r\\nSex :M\\r\\nAccession Number 21f8861d6df137bb07d47c0fec31dad975e4f89c5ba5c163e04c4cf9\\r\\nModality :CR\\r\\nReferring Physician 21f8861d6df137bb07d47c0fec31dad975e4f89c5ba5c163e04c4cf9\\r\\nStudy :CHEST\\r\\nStudy Date 9ce3f866dcfd9d5757259143a19ad91c22e303702a53ec837389bfe4\\r\\n\\r\\n\\r\\n\\r\\n\\r\\n\\r\\n\\xa0\\xa0\\xa0\\xa0\\xa0\\xa0\\xa0\\xa0\\xa0\\xa0\\xa0\\xa0\\xa0\\xa0\\xa0\\xa0\\xa0\\xa0\\xa0\\xa0\\xa0\\xa0\\xa0\\xa0\\xa0\\xa0\\xa0\\xa0\\xa0\\xa0\\xa0\\xa0\\xa0\\xa0\\xa0\\xa0\\xa0\\xa0\\xa0\\xa0\\xa0\\xa0\\xa0\\xa0\\xa0\\xa0\\xa0\\xa0\\xa0\\xa0\\xa0\\xa0  X - RAY CHEST PA VIEW\\r\\n\\xa0\\xa0\\xa0\\xa0\\xa0\\xa0\\xa0\\xa0\\xa0\\xa0\\xa0\\xa0\\xa0\\xa0\\xa0\\xa0\\xa0\\xa0\\xa0\\xa0\\xa0\\xa0\\xa0\\xa0\\xa0\\xa0\\xa0\\xa0\\xa0\\xa0\\xa0\\xa0\\xa0\\xa0\\xa0\\xa0\\xa0\\xa0\\xa0\\xa0\\xa0\\xa0\\xa0\\xa0\\xa0\\xa0\\xa0\\xa0\\xa0\\xa0\\xa0\\xa0\\xa0\\xa0\\xa0\\xa0\\xa0\\xa0\\xa0\\xa0\\xa0\\xa0\\xa0\\xa0\\xa0\\xa0\\xa0\\xa0 \\r\\nBilateral prominent hila with prominent bronchovascular \\xa0markings in bilateral lung fields - ? Pneumonitis.\\r\\n\\xa0\\r\\nBlunting of right CP angle noted -\\xa0Pleural Effusion.\\r\\n\\xa0\\r\\nRest of lung fields are normal\\r\\n\\xa0\\r\\nTrachea is in midline.\\r\\n\\xa0\\r\\nCardiac silhouette maintained.\\xa0\\xa0\\xa0\\xa0\\xa0\\xa0\\xa0\\xa0 \\r\\n\\xa0\\r\\nFor clinical correlation.and usg thorax\\xa0\\r\\n\\r\\n\\r\\n \\r\\n \\r\\r\\nDate: 09-Dec-2019 15:01:33\\r\\n', 'Patient ID a04affd232a0c12a4c1dbe458098ca58e4132ece0574bc24566e14ac\\r\\nPatient Name 34dd98b8df4c048d72aa185d65263fa2ff9d33514377a6de3392d661 54y\\r\\nAge :\\r\\nSex :M\\r\\nAccession Number 21f8861d6df137bb07d47c0fec31dad975e4f89c5ba5c163e04c4cf9\\r\\nModality :CR\\r\\nReferring Physician 21f8861d6df137bb07d47c0fec31dad975e4f89c5ba5c163e04c4cf9\\r\\nStudy :CHEST\\r\\nStudy Date ff5b2a929c2b756e1ddac2d819ac953edc00a04bf47b66cf76509e20\\r\\n\\r\\n\\r\\n\\r\\n\\r\\n\\r\\n\\xa0\\xa0  X - RAY CHEST PA VIEW\\r\\n\\r\\n\\r\\nMild haziness noted in right lower lung zone - -? Infective.\\r\\nRight diaphragmatic hump noted.\\r\\n\\xa0Trachea is in midline\\r\\nBoth hila normal in density.\\r\\nCardiac silhouette maintained.\\xa0\\xa0\\xa0\\xa0\\xa0\\xa0\\xa0\\xa0\\r\\nBoth CP angles are clear.\\r\\nRest of\\xa0lung parenchyma appears normal.\\r\\nBony cage and soft tissues are normal For clinical correlation.\\r\\n\\r\\n\\r\\n', 'X-RAY CHEST (PA VIEW)\\n\\n\\nThe heart size and configuration are within normal limits. The aortic arch is normal.\\n\\nThe lung fields show normal broncho-vascular markings.\\n\\nBoth the pulmonary hila are normal in size.\\n\\nThe costophrenic and cardiophrenic recesses and the domes of diaphragm are normal.\\n\\nThe bones and soft tissues of the chest wall show no abnormality.\\n\\n\\nIMPRESSION: \\n\"        \\nNormal study.\\n\\n\\n\\nPSK dr. CHINCHU PREM.L. DNB (RD).,\\n CONSULTANT radiologist\\n\\n\\n\\n\\n________________________________________________________', 'X-RAY CHEST (PA VIEW)\\n\\n\\nThe cardio thoracic ratio is normal.\\n\\nThe lung fields show normal broncho-vascular markings.\\n\\nBoth the pulmonary hila are normal in size.\\n\\nThe costophrenic and cardiophrenic recesses and the domes of \\n\\ndiaphragm are normal.\\n\\nThe bones and soft tissues of the chest wall show no abnormality.\\n\\n\\nIMPRESSION : \\n\\nNormal study.\\n\\n\\n\\n\\n\\n\\nDr. M.S. ANAND\\nRADIOLOGIST\\n\\n\\nGK \\n\\n\\n\\n\\n\\n\\n\\n\\n\\n________________________________________________________', '\\r\\nPatient ID 114c8322eaf6bc00d661abf0dd733a9dfcf4aa75bd9d5fdcd3b9e49d\\r\\nPatient ID 7ceea3ee733db4b93d921000c9ce39215cc0700e325f6fd08f5a3a30\\r\\nPatient Name bcf537e8e9fa6baecafa3c18840b92d5f67c0162184e4aee740a55b8 68y icu\\r\\nAge :\\r\\nSex :M\\r\\nAccession Number 21f8861d6df137bb07d47c0fec31dad975e4f89c5ba5c163e04c4cf9\\r\\nModality :CR\\r\\nReferring Physician 21f8861d6df137bb07d47c0fec31dad975e4f89c5ba5c163e04c4cf9\\r\\nStudy :CHEST PA VIEW\\r\\nStudy Date c20c725450eb00956f145d7abbdc7e744b86e020eed88175c065c135\\r\\n\\r\\n\\r\\n\\r\\n\\r\\n\\r\\n\\r\\n\\xa0\\xa0\\xa0\\xa0\\xa0\\xa0\\xa0\\xa0\\xa0\\xa0\\xa0\\xa0\\xa0\\xa0\\xa0\\xa0\\xa0\\xa0\\xa0\\xa0\\xa0\\xa0\\xa0\\xa0\\xa0\\xa0\\xa0\\xa0\\xa0\\xa0\\xa0\\xa0\\xa0\\xa0\\xa0\\xa0\\xa0\\xa0\\xa0\\xa0\\xa0\\xa0\\xa0\\xa0\\xa0\\xa0\\xa0\\xa0\\xa0\\xa0\\xa0\\xa0\\xa0\\xa0\\xa0\\xa0\\xa0  X - RAY CHEST PA VIEW\\r\\n\\r\\n\\r\\nProminent bronchovascular markings noted.\\r\\nTrachea is in midline.\\r\\n\\r\\nCardiac silhouette maintained.\\xa0\\xa0\\xa0\\xa0\\xa0\\xa0\\xa0\\xa0 \\r\\nBoth CP angles are clear.\\r\\nRest of lung parenchyma are normal.\\r\\nBony cage and soft tissues are normal.\\r\\n\\r\\nFor clinical correlation. \\r\\n', '6760236|6011998|X-Ray Chest PA/AP View of 06-SEP-2018:\\nResults:\\nNo focal lesion seen in the lung parenchyma. \\nCP angles and domes of the diaphragm are normal.\\nBoth hila are normal. Pulmonary vasculature is normal.\\nCardiac size and configuration is normal.\\nTrachea is central; no mediastinal shift is seen.\\nBony thorax and soft tissues of the chest wall are normal.\\nIMPRESSION: No abnormality detected in the view obtained.\\n6760236|6011998|X-Ray Chest PA/AP View of 06-SEP-2018:\\nResults:\\nNo focal lesion seen in the lung parenchyma. \\nCP angles and domes of the diaphragm are normal.\\nBoth hila are normal. Pulmonary vasculature is normal.\\nCardiac size and configuration is normal.\\nTrachea is central; no mediastinal shift is seen.\\nBony thorax and soft tissues of the chest wall are normal.\\nIMPRESSION: No abnormality detected in the view obtained.', '6868611|6103991|X-Ray Chest PA/AP View of 13-OCT-2018:\\nResults:\\nNo focal lesion seen in the lung parenchyma. \\nCP angles and domes of the diaphragm are normal.\\nBoth hila are normal. Pulmonary vasculature is normal.\\nCardiac size and configuration is normal.\\nTrachea is central; no mediastinal shift is seen.\\nBony thorax and soft tissues of the chest wall are normal.\\nIMPRESSION: No abnormality detected in the view obtained.\\n6868611|6103991|X-Ray Chest PA/AP View of 13-OCT-2018:\\nResults:\\nNo focal lesion seen in the lung parenchyma. \\nCP angles and domes of the diaphragm are normal.\\nBoth hila are normal. Pulmonary vasculature is normal.\\nCardiac size and configuration is normal.\\nTrachea is central; no mediastinal shift is seen.\\nBony thorax and soft tissues of the chest wall are normal.\\nIMPRESSION: No abnormality detected in the view obtained.', '###  Translation from RTF performed by UnRTF, version 0.21.9 \\n### font table contains 4 fonts total\\n\\n-----------------\\nX- RAY CHEST PA VIEW\\n\\nTrachea in mid line. \\nCardiothoracic ratio is within normal limits.\\nLung fields show patchy ground glass opacities seen in upper and mid zones . \\nCosto and cardiophrenic angles appear normal.\\nVisualised bony structures appear normal.\\nExtra thoracic soft tissues shadow grossly appears normal.\\nIMPRESSION:\\n\\n        \\nAlveolar patchy pneumonitis.\\n        \\nPC to be considered. \\n\\n        \\n DR.M.Alavudeen.,DMRD \\n        \\n        \\nConsultant Radiologist\\n\\n', '\\r\\nPatient ID ed98ed032d9c13aefd4b07a9db8c7d84b445bd4c290bbf7d6eec70d9\\r\\nPatient ID a5116877a2caeba4293611afe4061d7661f45034af65967434ffd220\\r\\nPatient Name 856cb3d3b6ea27d99b4560ff7c2eca2a56942fa1a512ca7fcda62fb8\\r\\nAge :28 Years\\r\\nSex :F\\r\\nAccession Number 21f8861d6df137bb07d47c0fec31dad975e4f89c5ba5c163e04c4cf9\\r\\nModality :CR\\r\\nReferring Physician c03185a684b64511a4ab854e0b8f4dc0fb4ea1a23f380ad3eb6b0920\\r\\nStudy :CHEST PA VIEW\\r\\nStudy Date b330aa7fcc7791e0eb92560d26c20ba8637be63634b065c9fec96a85\\r\\n\\r\\n\\r\\n\\r\\n\\r\\n\\r\\n\\r\\n\\xa0\\xa0\\xa0\\xa0\\xa0\\xa0\\xa0\\xa0\\xa0\\xa0\\xa0\\xa0\\xa0\\xa0\\xa0\\xa0\\xa0\\xa0\\xa0\\xa0\\xa0\\xa0\\xa0\\xa0\\xa0\\xa0\\xa0\\xa0\\xa0\\xa0\\xa0\\xa0\\xa0\\xa0\\xa0\\xa0\\xa0\\xa0\\xa0\\xa0\\xa0\\xa0\\xa0\\xa0\\xa0\\xa0\\xa0\\xa0\\xa0\\xa0\\xa0\\xa0\\xa0\\xa0\\xa0\\xa0\\xa0  X - RAY CHEST PA VIEW\\r\\n\\r\\n\\r\\n\\r\\n\\r\\nTrachea is in midline.\\r\\n\\r\\nBoth hila normal in density.\\r\\nCardiac silhouette maintained.\\xa0\\xa0\\xa0\\xa0\\xa0\\xa0\\xa0\\xa0 \\r\\nBoth CP angles are clear.\\r\\nBoth lung parenchyma are normal.\\r\\n\\r\\nBony cage and soft tissues appear normal\\r\\nIMPRESSION :\\xa0\\xa0  NORMAL STUDY. \\r\\nFor clinical correlation. \\r\\n', 'XR- CHEST PA  VIEW\\n\\nFINDINGS\\n\\nLUNGS: Normal.\\nTRACHEA: Normal. \\nCARINA: Normal. \\nRIGHT AND LEFT MAIN BRONCHI: Normal. \\nPLEURA: Normal. \\n\\nHEART: Normal. \\nRIGHT HEART BORDER: Normal. \\nLEFT HEART BORDER: Normal. \\nPULMONARY BAY: Normal. \\nPULMONARY HILA: Normal. \\nAORTA: Normal. \\n\\nTHORACIC SPINE: Normal.\\nOTHER VISUALIZED BONES: Normal. \\nVISUALIZED SOFT TISSUES: Normal. \\n\\nDIAPHRAGM: Elevated left hemidiaphragm.\\n\\nVISUALIZED ABDOMEN:  Normal. \\nVISUALIZED NECK: Normal.\\n\\nReport Impression: \\nXR- CHEST PA  VIEW\\n\\nFINDINGS\\n\\nLUNGS: Normal.\\nTRACHEA: Normal. \\nCARINA: Normal. \\nRIGHT AND LEFT MAIN BRONCHI: Normal. \\nPLEURA: Normal. \\n\\nHEART: Normal. \\nRIGHT HEART BORDER: Normal. \\nLEFT HEART BORDER: Normal. \\nPULMONARY BAY: Normal. \\nPULMONARY HILA: Normal. \\nAORTA: Normal. \\n\\nTHORACIC SPINE: Normal.\\nOTHER VISUALIZED BONES: Normal. \\nVISUALIZED SOFT TISSUES: Normal. \\n\\nDIAPHRAGM: Elevated left hemidiaphragm.\\n\\nVISUALIZED ABDOMEN:  Normal. \\nVISUALIZED NECK: Normal.\\n', 'X-ray Chest PA view:\\n\\nLUNGS: Normal.\\nTRACHEA: Normal. \\nCARINA: Normal. \\nRIGHT AND LEFT MAIN BRONCHI: Normal. \\nPLEURA: Normal. \\n\\nHEART: Normal. \\nRIGHT HEART BORDER: Normal. \\nLEFT HEART BORDER: Normal. \\nPULMONARY BAY: Normal. \\nPULMONARY HILA: Normal. \\nAORTA: Normal. \\n\\nTHORACIC SPINE: Normal.\\nOTHER VISUALIZED BONES: Normal. \\nVISUALIZED SOFT TISSUES: Normal. \\n\\nDIAPHRAGM: Normal. \\n\\nVISUALIZED ABDOMEN:  Normal. \\nVISUALIZED NECK: Normal.\\nReport Impression: \\n Normal x-ray of the chest.', 'XR- CHEST PA / AP VIEW\\n\\nFINDINGS\\nLUNGS: Small inhomogenous patchy opacities seen in left upper zone and perihilar region.\\nRest lung fields are clear.\\nTRACHEA: Normal. \\nCARINA: Normal. \\nRIGHT AND LEFT MAIN BRONCHI: Normal. \\nPLEURA: Normal. \\n\\nHEART: Normal. \\nRIGHT HEART BORDER: Normal. \\nLEFT HEART BORDER: Normal. \\nPULMONARY BAY: Normal. \\nPULMONARY HILA: Normal. \\nAORTA: Normal. \\n\\nTHORACIC SPINE: Normal.\\nOTHER VISUALIZED BONES: Normal. \\nVISUALIZED SOFT TISSUES: Normal. \\n\\nDIAPHRAGM: Normal. \\n\\nVISUALIZED ABDOMEN:  Normal. \\nVISUALIZED NECK: Normal.', '5107576|88086|X-Ray Chest PA/AP View of 27-DEC-2016:\\nResults:\\nNodular opacities seen in  left upper zone.Few fibrotic lesions seen in right mid zone .\\nCP angles and domes of the diaphragm are normal.\\nBoth hila are normal. Pulmonary vasculature is normal.\\nTrachea is central; no mediastinal shift is seen.\\nSternal sutures seen with evidence of mitral valve replacement .\\n5107576|88086|X-Ray Chest PA/AP View of 27-DEC-2016:\\nResults:\\nNodular opacities seen in  left upper zone.Few fibrotic lesions seen in right mid zone .\\nCP angles and domes of the diaphragm are normal.\\nBoth hila are normal. Pulmonary vasculature is normal.\\nTrachea is central; no mediastinal shift is seen.\\nSternal sutures seen with evidence of mitral valve replacement .', '5735523|666335|X-Ray Chest PA/AP View of 24-AUG-2017:\\nResults:\\nMild scoliosis of dorsal spine to right. \\nNo focal lesion seen in the lung parenchyma. \\nCP angles and domes of the diaphragm are normal.\\nBoth hila are normal. Pulmonary vasculature is normal.\\nCardiac size and configuration is normal.\\nTrachea is central; no mediastinal shift is seen.\\nRest of the bony thorax and soft tissues of the chest wall are normal.\\nIMPRESSION: No significant abnormality detected in the view obtained.\\n5735523|666335|X-Ray Chest PA/AP View of 24-AUG-2017:\\nResults:\\nMild scoliosis of dorsal spine to right. \\nNo focal lesion seen in the lung parenchyma. \\nCP angles and domes of the diaphragm are normal.\\nBoth hila are normal. Pulmonary vasculature is normal.\\nCardiac size and configuration is normal.\\nTrachea is central; no mediastinal shift is seen.\\nRest of the bony thorax and soft tissues of the chest wall are normal.\\nIMPRESSION: No significant abnormality detected in the view obtained.', '6366680|4407365|X-Ray Chest PA/AP View of 12-APR-2018:\\nResults:\\nNo focal lesion seen in the lung parenchyma. \\nCP angles and domes of the diaphragm are normal.\\nBoth hila are normal. Pulmonary vasculature is normal.\\nCardiac size and configuration is normal.\\nTrachea is central; no mediastinal shift is seen.\\nBony thorax and soft tissues of the chest wall are normal.\\nIMPRESSION: No abnormality detected in the view obtained.\\n6366680|4407365|X-Ray Chest PA/AP View of 12-APR-2018:\\nResults:\\nNo focal lesion seen in the lung parenchyma. \\nCP angles and domes of the diaphragm are normal.\\nBoth hila are normal. Pulmonary vasculature is normal.\\nCardiac size and configuration is normal.\\nTrachea is central; no mediastinal shift is seen.\\nBony thorax and soft tissues of the chest wall are normal.\\nIMPRESSION: No abnormality detected in the view obtained.', '6253185|4305244|X-Ray Chest PA/AP View of 04-MAR-2018:\\nCentral line seen in situ. Non homogenous opacities are seen in both lung fields with obscuration of right CP angle suggestive of effusion with underlying collapse with consolidative changes and bilateral parahilar haziness. Left CP angle is minimally blunted.\\n6253185|4305244|X-Ray Chest PA/AP View of 04-MAR-2018:\\nCentral line seen in situ. Non homogenous opacities are seen in both lung fields with obscuration of right CP angle suggestive of effusion with underlying collapse with consolidative changes and bilateral parahilar haziness. Left CP angle is minimally blunted.', '\\r\\nPatient ID 0293b7858417ca894f8b90d9da5be65ebda036a3bb291d0f71bfd7d7\\r\\nPatient ID 54f60d1e964633103c99b6863e996f5e0c03174638c02ceefd7f4ce8\\r\\nPatient Name 9497b875996eb776e9f809c1b8766be9951ad6a9ce246e32d5f1be7e 30Y\\r\\nAge : Days\\r\\nSex :F\\r\\nAccession Number 21f8861d6df137bb07d47c0fec31dad975e4f89c5ba5c163e04c4cf9\\r\\nModality :CR\\r\\nReferring Physician 2775599daf2ca1b793766f698bc453f693be916ffdf21feeb336adeb\\r\\nStudy :CHEST PA\\r\\nStudy Date ef12f41f305d2e895c3b8f16dc4bf5a0e8f062c2e9e49feee2db20e2\\r\\n\\r\\n\\r\\n\\r\\n\\r\\n\\r\\n\\r\\n\\r\\nX-RAY CHEST PA VIEW\\r\\n\\r\\nFINDINGS :\\xa0\\xa0\\xa0   \\xa0  Lung fields are clear.  \\xa0  Both hila appear normal.  \\xa0  Mediastinum is normal.  \\xa0  Cardiac size is normal.  \\xa0  Both domes of diaphragm are normal.  \\xa0  CP angles are clear.  \\xa0  Soft tissues and bony cage appear normal.\\xa0  \\xa0 IMPRESSION :\\xa0 NORMAL CHEST RADIOGRAPH.  \\xa0\\xa0\\xa0 Suggested clinical correlation and follow up.\\r\\n\\xa0\\r\\n', \"6232476|4285186|X-Ray Chest AP View of 24-FEB-2018:\\nResult:\\nRyle's tube, CVP line and ET seen in situ. \\nChest leads are seen.\\n Inhomogeneous opacities are seen in bilateral lung fields. \\nBoth CP angles are ill defined.\\n Both hila are normal. Pulmonary vasculature is normal.\\n Trachea is central; no mediastinal shift is seen.\\n6232476|4285186|X-Ray Chest AP View of 24-FEB-2018:\\nResult:\\nRyle's tube, CVP line and ET seen in situ. \\nChest leads are seen.\\n Inhomogeneous opacities are seen in bilateral lung fields. \\nBoth CP angles are ill defined.\\n Both hila are normal. Pulmonary vasculature is normal.\\n Trachea is central; no mediastinal shift is seen.\", 'Patient ID cf091a8e2485b4d1bdbe87bfc3b93a253f5b5b8eddf0f537e01cf1de\\r\\nPatient Name 4f235d1c02e67767adabef70576bedee89b87ce2d07efc5b85c99175 42YRS\\r\\nAge :\\r\\nSex :M\\r\\nAccession Number 21f8861d6df137bb07d47c0fec31dad975e4f89c5ba5c163e04c4cf9\\r\\nModality :CR\\r\\nReferring Physician 21f8861d6df137bb07d47c0fec31dad975e4f89c5ba5c163e04c4cf9\\r\\nStudy :CHEST PA\\r\\nStudy Date 3beafb9399d5328ea75e0a4c484dc60028a2a5934c3dec4c5b3dfcab\\r\\n\\r\\n\\r\\n\\r\\n\\r\\n\\r\\nX-RAY CHEST\\xa0PA VIEW\\r\\n\\xa0\\r\\nFINDINGS :\\xa0\\xa0\\xa0  \\xa0 Lung fields are clear. \\xa0 Both hila appear normal. \\xa0 Mediastinum is normal. \\xa0 Cardiac size is normal. \\xa0 Both domes of diaphragm are normal. \\xa0 CP angles are clear.\\r\\n\\xa0 Impression\\xa0:- NO SIGNIFICANT ABNNORMALITY DETECTED \\xa0\\xa0\\xa0 Suggested clinical correlation and follow up.\\r\\n\\r\\n\\r\\n', '5293938|246845|X-Ray Chest PA/AP View of 17-MAR-2017:\\n(Positional rotation present)\\nMultiple smoothly marginated rounded soft tissue density lesions are seen in both lung fields( ? metastatic).\\nCardiac size and pulmoanry vasculature cannot be assessed ( AP View).\\n Visualised bones appear normal.\\n5293938|246845|X-Ray Chest PA/AP View of 17-MAR-2017:\\n(Positional rotation present)\\nMultiple smoothly marginated rounded soft tissue density lesions are seen in both lung fields( ? metastatic).\\nCardiac size and pulmoanry vasculature cannot be assessed ( AP View).\\n Visualised bones appear normal.', '6642235|5909132|X-Ray Chest PA/AP View of 25-JUL-2018:\\nNo significant interval changes as compared to the X ray dated  24-7-18, except for minimal reduction in right pleural effusion.  \\n6642235|5909132|X-Ray Chest PA/AP View of 25-JUL-2018:\\nNo significant interval changes as compared to the X ray dated  24-7-18, except for minimal reduction in right pleural effusion.  ', 'X-ray Chest PA view:\\n\\nLUNGS: Normal.\\nTRACHEA: Normal. \\nCARINA: Normal. \\nRIGHT AND LEFT MAIN BRONCHI: Normal. \\nPLEURA: Normal. \\n\\nHEART: Normal. \\nPULMONARY BAY: Normal. \\nPULMONARY HILA: Normal. \\nAORTA: Normal. \\n\\nVISUALIZED BONES: Normal. \\nVISUALIZED SOFT TISSUES: Normal. \\n\\nDIAPHRAGM: Normal.\\nReport Impression: \\nNormal x-ray of the chest.', 'X - RAY CHEST PA VIEW\\n\\nBilateral lung fields appear normal.\\n\\nCardiac size is within normal limits.\\n\\nBilateral hilar regions appear normal.\\n\\nBilateral domes of diaphragm and costophrenic angles are normal.\\n\\nVisualised bones and soft tissues appear normal.\\n\\nIMPRESSION: ESSENTIALLY NORMAL STUDY.\\n\\n\\nCONSULTANT RADIOLOGISTS: \\n\\nDR. RADHESH. S DR. L.S. PRAVEEN DR. H.K. ANAND DR. H.T. GURURAJ RAO\\n\\n\\n\\nDR. VAMSI KRISHNA.P\\nVk/rl\\n\\n\\n\\n\\n\\n\\n\\n________________________________________________________', \"\\r\\nPatient ID 9a6f588f951414848f8792c27d37779ee6cd7c305f77bdf48645ad38\\r\\nPatient ID d4c2b5fafa8652a9f83451f0c8ea29d1061f16259328955c0d2a28d4\\r\\nPatient Name 0af05455c2edcf5983a6339bd235ce190c46a673c8543dd35deab0cc 38\\r\\nAge :\\r\\nSex :M\\r\\nAccession Number d35c8df9ba408c21d7b17e5659b836b09d65f4702a8d25f93cef6001\\r\\nModality :CR\\r\\nReferring Physician 21f8861d6df137bb07d47c0fec31dad975e4f89c5ba5c163e04c4cf9\\r\\nStudy :CHEST PA\\r\\nStudy Date 776ecfdd065d6c983c3cac524a840ca395ba913ade67272be1d44f76\\r\\n\\r\\n\\r\\n\\r\\n\\r\\n\\r\\n\\r\\nX-RAY CHEST PA VIEW\\r\\n\\r\\nFINDINGS :\\xa0\\xa0\\xa0   \\xa0  Lung fields shows ill defined opacities both mid zones and right hilar region - Koch's.  \\xa0  Both hila appear normal.  \\xa0  Mediastinum is normal.  \\xa0  Cardiac size is normal.  \\xa0  Both domes of diaphragm are normal.  \\xa0  CP angles are clear.  \\xa0  Soft tissues and bony cage appear normal.\\xa0 \\xa0\\xa0 \\xa0\\xa0\\xa0\\xa0 Suggested clinical correlation and follow up.\\r\\n\\xa0\\r\\n\", '6709302|5968862|X-Ray Chest PA/AP View of 18-AUG-2018:\\nRotated towards right side.\\nResults:\\nNo obvious focal lesion seen in the lung parenchyma. \\nCP angles and domes of the diaphragm are normal.\\nBoth hila are normal. Pulmonary vasculature is normal.\\nCardiac size and configuration is normal.\\nTrachea is central; no mediastinal shift is seen.\\nBony thorax and soft tissues of the chest wall are normal.\\nIMPRESSION: No abnormality detected in the view obtained.\\n6709302|5968862|X-Ray Chest PA/AP View of 18-AUG-2018:\\nRotated towards right side.\\nResults:\\nNo obvious focal lesion seen in the lung parenchyma. \\nCP angles and domes of the diaphragm are normal.\\nBoth hila are normal. Pulmonary vasculature is normal.\\nCardiac size and configuration is normal.\\nTrachea is central; no mediastinal shift is seen.\\nBony thorax and soft tissues of the chest wall are normal.\\nIMPRESSION: No abnormality detected in the view obtained.', 'Patient ID b6901deb486090a56ee597d3d9ef9e662796f81101bd9aff50be80f9\\r\\nPatient Name 1a95ad2702ed0144f882dc3ceea45662821ab0083dfe06d4ab8c54d1 68Y\\r\\nAge :\\r\\nSex :M\\r\\nAccession Number 21f8861d6df137bb07d47c0fec31dad975e4f89c5ba5c163e04c4cf9\\r\\nModality :CR\\r\\nReferring Physician 21f8861d6df137bb07d47c0fec31dad975e4f89c5ba5c163e04c4cf9\\r\\nStudy :CHEST\\r\\nStudy Date f0391fd24f179c8733a866e9cb53b559d39011fb331dbe7419bc1a95\\r\\n\\r\\n\\r\\n\\r\\n\\r\\n\\r\\n\\xa0 X - RAY CHEST\\r\\n\\xa0\\r\\n\\r\\nUnfolding arch of aorta noted.\\r\\nConsolidation noted at\\xa0right perihilar zone - Infective etiology.\\r\\nTrachea is in midline.\\r\\n\\xa0\\r\\nBoth hila normal in density.\\r\\nCardiac silhouette maintained.\\xa0\\xa0\\xa0\\xa0\\xa0\\xa0\\xa0\\xa0 \\r\\nBoth CP angles are clear.\\r\\nRest of lung parenchyma are normal.\\r\\n\\r\\nFor clinical correlation.  \\r\\n \\r\\n \\r\\r\\nDate: 11-Feb-2020 11:19:37\\r\\n')\n",
      "tensor([[1., 0., 0.,  ..., 0., 0., 0.],\n",
      "        [0., 0., 0.,  ..., 0., 0., 0.],\n",
      "        [1., 0., 0.,  ..., 0., 0., 0.],\n",
      "        ...,\n",
      "        [0., 1., 1.,  ..., 1., 0., 0.],\n",
      "        [1., 0., 0.,  ..., 0., 0., 0.],\n",
      "        [0., 1., 1.,  ..., 0., 0., 0.]])\n",
      "Feature batch shape: 32\n",
      "Labels batch shape: 32\n",
      "XR- CHEST PA VIEW\n",
      "\n",
      "FINDINGS:\n",
      "\n",
      "LUNGS: Normal.\n",
      "TRACHEA: Normal. \n",
      "CARINA: Normal. \n",
      "RIGHT AND LEFT MAIN BRONCHI: Normal. \n",
      "PLEURA: Normal. \n",
      "\n",
      "HEART: Normal. \n",
      "RIGHT HEART BORDER: Normal. \n",
      "LEFT HEART BORDER: Normal. \n",
      "PULMONARY BAY: Normal. \n",
      "PULMONARY HILA: Normal. \n",
      "AORTA: Normal. \n",
      "\n",
      "THORACIC SPINE: Normal.\n",
      "OTHER VISUALIZED BONES: Normal. \n",
      "VISUALIZED SOFT TISSUES: Normal. \n",
      "\n",
      "DIAPHRAGM: Normal. \n",
      "\n",
      "VISUALIZED ABDOMEN: Normal. \n",
      "VISUALIZED NECK: Normal.\n",
      "Label: tensor([1., 0., 0., 0., 0., 0., 0., 0., 0., 0., 0., 0., 0., 0., 0., 0., 0., 0., 0., 0., 0., 0., 0., 0., 0., 0., 0., 0., 0., 0., 0., 0., 0., 0., 0., 0., 0., 0., 0., 0., 0., 0., 0., 0., 0., 0., 0., 0.,\n",
      "        0., 0.])\n"
     ]
    }
   ],
   "source": [
    "print(train_features)\n",
    "print(train_labels)\n",
    "print(f\"Feature batch shape: {len(train_features)}\")\n",
    "print(f\"Labels batch shape: {len(train_labels)}\")\n",
    "report_text = train_features[0]\n",
    "print(report_text)\n",
    "label = train_labels[0]\n",
    "print(f\"Label: {label}\")"
   ]
  },
  {
   "cell_type": "code",
   "execution_count": null,
   "metadata": {},
   "outputs": [],
   "source": [
    "logit_tensor = radbert_multi_model(train_features)"
   ]
  },
  {
   "cell_type": "code",
   "execution_count": null,
   "metadata": {},
   "outputs": [
    {
     "name": "stdout",
     "output_type": "stream",
     "text": [
      "tensor([[-0.1485, -0.3681,  0.0774,  ..., -0.2707, -0.0061, -0.1722],\n",
      "        [-0.1415, -0.3708,  0.1239,  ..., -0.2729, -0.0105, -0.1739],\n",
      "        [-0.1658, -0.3611,  0.0246,  ..., -0.2912,  0.0304, -0.1404],\n",
      "        ...,\n",
      "        [-0.1485, -0.3477,  0.0417,  ..., -0.2952,  0.0045, -0.1395],\n",
      "        [-0.1423, -0.3476,  0.0403,  ..., -0.3019, -0.0042, -0.1491],\n",
      "        [-0.1514, -0.3525,  0.0412,  ..., -0.3050,  0.0014, -0.1509]], grad_fn=<AddmmBackward0>)\n",
      "torch.Size([32, 322])\n"
     ]
    }
   ],
   "source": [
    "print(logit_tensor)\n",
    "print(logit_tensor.shape)"
   ]
  },
  {
   "cell_type": "markdown",
   "metadata": {},
   "source": [
    "## Fine Tuning ##\n",
    "Fine tuning the RadBERT model for tags prediction task"
   ]
  },
  {
   "cell_type": "markdown",
   "metadata": {},
   "source": [
    "### Adam Optimizer ###\n",
    "Using Adam optimizer with learning rate 3e-5, beta1 = 0.9, beta2 = 0.99, l2 weight decay of 0.01"
   ]
  },
  {
   "cell_type": "code",
   "execution_count": 45,
   "metadata": {},
   "outputs": [],
   "source": [
    "lr = 3e-5\n",
    "beta1 = 0.9\n",
    "beta2 = 0.99\n",
    "l2_weight_decay = 0.01"
   ]
  },
  {
   "cell_type": "code",
   "execution_count": 47,
   "metadata": {},
   "outputs": [],
   "source": [
    "optimizer = torch.optim.Adam(radbert_multi_model.parameters(), lr=lr, betas=(beta1, beta2), weight_decay=l2_weight_decay)"
   ]
  },
  {
   "cell_type": "code",
   "execution_count": 48,
   "metadata": {},
   "outputs": [],
   "source": [
    "def train_one_epoch(epoch_index, tb_writer):\n",
    "    running_loss = 0.\n",
    "    last_loss = 0.\n",
    "\n",
    "    for i, data in enumerate(train_dataloader):\n",
    "        inputs, labels = data\n",
    "        labels = labels.to(device)\n",
    "        optimizer.zero_grad()\n",
    "        outputs = radbert_multi_model(inputs)\n",
    "\n",
    "        # Compute the loss and its gradients\n",
    "        loss = multiclass_multilabel_loss(outputs, labels)\n",
    "        loss.backward()\n",
    "        optimizer.step()\n",
    "\n",
    "        # Gather data and report\n",
    "        running_loss += loss.item()\n",
    "        if i % 100 == 99:\n",
    "            last_loss = running_loss / 100 # loss per batch\n",
    "            print('  batch {} loss: {}'.format(i + 1, last_loss))\n",
    "            tb_x = epoch_index * len(train_dataloader) + i + 1\n",
    "            tb_writer.add_scalar('Loss/train', last_loss, tb_x)\n",
    "            running_loss = 0.\n",
    "\n",
    "    return last_loss"
   ]
  },
  {
   "cell_type": "markdown",
   "metadata": {},
   "source": [
    "### The full fine-tuning loog ###"
   ]
  },
  {
   "cell_type": "code",
   "execution_count": 49,
   "metadata": {},
   "outputs": [],
   "source": [
    "total_epochs = 5"
   ]
  },
  {
   "cell_type": "code",
   "execution_count": null,
   "metadata": {},
   "outputs": [],
   "source": [
    "# Initializing in a separate cell so we can easily add more epochs to the same run\n",
    "timestamp = datetime.datetime.now().strftime('%Y%m%d_%H%M%S')\n",
    "writer = SummaryWriter('runs/fashion_trainer_{}'.format(timestamp))\n",
    "epoch_number = 0\n",
    "\n",
    "for epoch in range(total_epochs):\n",
    "    # Make sure gradient tracking is on, and do a pass over the data\n",
    "    print('EPOCH {}:'.format(epoch_number + 1))\n",
    "    radbert_multi_model.train(True)\n",
    "    avg_loss = train_one_epoch(epoch_number, writer)\n",
    "\n",
    "    # Set the model to evaluation mode, disabling dropout and using population, statistics for batch normalization\n",
    "    running_vloss = 0.0\n",
    "    radbert_multi_model.eval()\n",
    "\n",
    "    # Disable gradient computation and reduce memory consumption.\n",
    "    with torch.no_grad():\n",
    "        for i, vdata in enumerate(test_dataloader):\n",
    "            vinputs, vlabels = vdata\n",
    "            vlabels = vlabels.to(device)\n",
    "            voutputs = radbert_multi_model(vinputs)\n",
    "            vloss = multiclass_multilabel_loss(voutputs, vlabels)\n",
    "            running_vloss += vloss\n",
    "\n",
    "    avg_vloss = running_vloss / (i + 1)\n",
    "    print('LOSS train {} valid {}'.format(avg_loss, avg_vloss))\n",
    "\n",
    "    # Log the running loss averaged per batch for both training and validation\n",
    "    writer.add_scalars('Training vs. Validation Loss',\n",
    "                    { 'Training' : avg_loss, 'Validation' : avg_vloss },\n",
    "                    epoch_number + 1)\n",
    "    writer.flush()\n",
    "    model_path = '/home/users/pranav.rao/MiniTasks/Radbert/model_{}_{}'.format(timestamp, epoch_number)\n",
    "    torch.save(radbert_multi_model.state_dict(), model_path)\n",
    "    epoch_number += 1"
   ]
  },
  {
   "cell_type": "markdown",
   "metadata": {},
   "source": [
    "## Analyzing fine-tuned models ##"
   ]
  },
  {
   "cell_type": "code",
   "execution_count": 5,
   "metadata": {},
   "outputs": [],
   "source": [
    "sentence_list = [\"The report shows small right-sided pleural effusion\", \"The report shows small left-sided pleural effusion\",\\\n",
    "    \"The report shows large right-sided pleural effusion\", \"The report shows large left-sided pleural effusion\",\\\n",
    "    \"There are no abnormalities in the report\",\\\n",
    "    \"There is severe consolidation in the left side\",\"There is severe consolidation in the right side\",\\\n",
    "    \"There is mild consolidation in the right side\", \"There is mild consolidation in the left side\"\n",
    "]\n",
    "\n",
    "sentence1_base = \"A <SizeModifier> <AbnormalReport> can be seen in the report in the <LocationModifier> part\"\n",
    "sentence2_base = \"The report shows a <SizeModifier> <LocationModifier> <AbnormalReport>\"\n",
    "size_modifiers = ['small', 'large']\n",
    "loc_modifiers = ['upper-left', 'lower-left', 'right-sided', 'left-sided']\n",
    "abnormal_report = ['pleural effusion']\n",
    "\n",
    "l1 = [sentence1_base.replace('<SizeModifier>', size_mod).replace('<LocationModifier>', loc_mod).replace('<AbnormalReport>', ab_rep) for size_mod, loc_mod, ab_rep in product(size_modifiers, loc_modifiers, abnormal_report)]\n",
    "l2 = [sentence2_base.replace('<SizeModifier>', size_mod).replace('<LocationModifier>', loc_mod).replace('<AbnormalReport>', ab_rep) for size_mod, loc_mod, ab_rep in product(size_modifiers, loc_modifiers, abnormal_report)]\n",
    "\n",
    "negative_sentences = ['The report shows no pleural effusion', 'The report shows no consolidation on any side']\n",
    "all_sentence_list = l1 + l2 + negative_sentences + sentence_list[4:]"
   ]
  },
  {
   "cell_type": "code",
   "execution_count": 6,
   "metadata": {},
   "outputs": [
    {
     "name": "stdout",
     "output_type": "stream",
     "text": [
      "A small pleural effusion can be seen in the report in the upper-left part\n",
      "A small pleural effusion can be seen in the report in the lower-left part\n",
      "A small pleural effusion can be seen in the report in the right-sided part\n",
      "A small pleural effusion can be seen in the report in the left-sided part\n",
      "A large pleural effusion can be seen in the report in the upper-left part\n",
      "A large pleural effusion can be seen in the report in the lower-left part\n",
      "A large pleural effusion can be seen in the report in the right-sided part\n",
      "A large pleural effusion can be seen in the report in the left-sided part\n",
      "The report shows a small upper-left pleural effusion\n",
      "The report shows a small lower-left pleural effusion\n",
      "The report shows a small right-sided pleural effusion\n",
      "The report shows a small left-sided pleural effusion\n",
      "The report shows a large upper-left pleural effusion\n",
      "The report shows a large lower-left pleural effusion\n",
      "The report shows a large right-sided pleural effusion\n",
      "The report shows a large left-sided pleural effusion\n",
      "The report shows no pleural effusion\n",
      "The report shows no consolidation on any side\n",
      "There are no abnormalities in the report\n",
      "There is severe consolidation in the left side\n",
      "There is severe consolidation in the right side\n",
      "There is mild consolidation in the right side\n",
      "There is mild consolidation in the left side\n"
     ]
    }
   ],
   "source": [
    "print('\\n'.join(all_sentence_list))"
   ]
  },
  {
   "cell_type": "code",
   "execution_count": 7,
   "metadata": {},
   "outputs": [],
   "source": [
    "def calc_cosine_sim_matrix(sentence_embeddings):\n",
    "    #stacked_sentence_embeddings = torch.stack(sentence_embeddings)\n",
    "    stacked_sentence_embeddings = sentence_embeddings\n",
    "    # Calculate the cosine similarity matrix\n",
    "    cosine_sim_matrix = F.cosine_similarity(stacked_sentence_embeddings.unsqueeze(1), stacked_sentence_embeddings.unsqueeze(0), dim=2)\n",
    "    return stacked_sentence_embeddings, cosine_sim_matrix"
   ]
  },
  {
   "cell_type": "code",
   "execution_count": 38,
   "metadata": {},
   "outputs": [],
   "source": [
    "def get_sentence_embeddings(model, input):\n",
    "    with torch.no_grad():\n",
    "        tokenized_inp = model.tokenizer(input, padding=True, truncation=True, return_tensors='pt')\n",
    "        encoder_out = model.transformer_encoder(**tokenized_inp)\n",
    "    return encoder_out.last_hidden_state[:, 0, :]"
   ]
  },
  {
   "cell_type": "code",
   "execution_count": 69,
   "metadata": {},
   "outputs": [
    {
     "name": "stderr",
     "output_type": "stream",
     "text": [
      "Some weights of RobertaModel were not initialized from the model checkpoint at UCSD-VA-health/RadBERT-RoBERTa-4m and are newly initialized: ['roberta.pooler.dense.weight', 'roberta.pooler.dense.bias']\n",
      "You should probably TRAIN this model on a down-stream task to be able to use it for predictions and inference.\n"
     ]
    },
    {
     "data": {
      "text/plain": [
       "<All keys matched successfully>"
      ]
     },
     "execution_count": 69,
     "metadata": {},
     "output_type": "execute_result"
    }
   ],
   "source": [
    "model_path = '/home/users/pranav.rao/MiniTasks/Radbert/ModelPool/model_20230912_143355_0'\n",
    "checkpoint = 'UCSD-VA-health/RadBERT-RoBERTa-4m'\n",
    "radbert_multi_model = RadBERTMultiClassMultiLabel(num_classes, checkpoint)\n",
    "radbert_multi_model.load_state_dict(torch.load(model_path))"
   ]
  },
  {
   "cell_type": "code",
   "execution_count": 70,
   "metadata": {},
   "outputs": [],
   "source": [
    "all_embeddings = get_sentence_embeddings(radbert_multi_model, all_sentence_list)"
   ]
  },
  {
   "cell_type": "code",
   "execution_count": 71,
   "metadata": {},
   "outputs": [
    {
     "name": "stdout",
     "output_type": "stream",
     "text": [
      "tensor([[-0.2269,  0.5868, -0.1304,  ..., -2.0488, -0.0445,  0.8514],\n",
      "        [-0.2324,  0.5791, -0.1244,  ..., -2.0475, -0.0269,  0.8427],\n",
      "        [-0.2332,  0.5618, -0.1264,  ..., -2.0692, -0.0282,  0.8331],\n",
      "        ...,\n",
      "        [-0.3256,  0.5269, -0.2196,  ..., -2.1573,  0.0720,  0.7191],\n",
      "        [-0.3190,  0.5626, -0.2126,  ..., -2.1307,  0.0728,  0.6843],\n",
      "        [-0.3230,  0.5576, -0.2204,  ..., -2.1268,  0.0858,  0.6670]])\n",
      "torch.Size([23, 768])\n"
     ]
    }
   ],
   "source": [
    "print(all_embeddings)\n",
    "print(all_embeddings.shape)"
   ]
  },
  {
   "cell_type": "code",
   "execution_count": 72,
   "metadata": {},
   "outputs": [],
   "source": [
    "_, cosine_sim = calc_cosine_sim_matrix(all_embeddings)"
   ]
  },
  {
   "cell_type": "code",
   "execution_count": 73,
   "metadata": {},
   "outputs": [
    {
     "name": "stdout",
     "output_type": "stream",
     "text": [
      "tensor([[1.0000, 0.9999, 0.9997, 0.9998, 0.9999, 0.9998, 0.9996, 0.9997, 0.9982, 0.9983, 0.9976, 0.9977, 0.9979, 0.9981, 0.9973, 0.9974, 0.9937, 0.9922, 0.9903, 0.9940, 0.9938, 0.9939, 0.9940],\n",
      "        [0.9999, 1.0000, 0.9997, 0.9998, 0.9997, 0.9999, 0.9996, 0.9997, 0.9979, 0.9983, 0.9975, 0.9975, 0.9975, 0.9980, 0.9971, 0.9972, 0.9933, 0.9919, 0.9902, 0.9937, 0.9935, 0.9937, 0.9938],\n",
      "        [0.9997, 0.9997, 1.0000, 0.9999, 0.9996, 0.9997, 0.9999, 0.9998, 0.9982, 0.9984, 0.9982, 0.9981, 0.9978, 0.9982, 0.9979, 0.9978, 0.9940, 0.9925, 0.9906, 0.9944, 0.9945, 0.9946, 0.9945],\n",
      "        [0.9998, 0.9998, 0.9999, 1.0000, 0.9997, 0.9997, 0.9998, 0.9999, 0.9982, 0.9984, 0.9981, 0.9981, 0.9978, 0.9982, 0.9977, 0.9978, 0.9940, 0.9924, 0.9905, 0.9944, 0.9942, 0.9943, 0.9945],\n",
      "        [0.9999, 0.9997, 0.9996, 0.9997, 1.0000, 0.9999, 0.9998, 0.9998, 0.9983, 0.9983, 0.9977, 0.9977, 0.9982, 0.9984, 0.9977, 0.9977, 0.9941, 0.9924, 0.9905, 0.9942, 0.9941, 0.9940, 0.9941],\n",
      "        [0.9998, 0.9999, 0.9997, 0.9997, 0.9999, 1.0000, 0.9998, 0.9998, 0.9980, 0.9983, 0.9975, 0.9976, 0.9979, 0.9983, 0.9975, 0.9975, 0.9937, 0.9921, 0.9904, 0.9940, 0.9938, 0.9938, 0.9939],\n",
      "        [0.9996, 0.9996, 0.9999, 0.9998, 0.9998, 0.9998, 1.0000, 0.9999, 0.9982, 0.9984, 0.9982, 0.9981, 0.9981, 0.9984, 0.9982, 0.9981, 0.9943, 0.9927, 0.9909, 0.9946, 0.9947, 0.9947, 0.9945],\n",
      "        [0.9997, 0.9997, 0.9998, 0.9999, 0.9998, 0.9998, 0.9999, 1.0000, 0.9983, 0.9984, 0.9981, 0.9982, 0.9982, 0.9984, 0.9981, 0.9981, 0.9943, 0.9927, 0.9908, 0.9946, 0.9945, 0.9944, 0.9945],\n",
      "        [0.9982, 0.9979, 0.9982, 0.9982, 0.9983, 0.9980, 0.9982, 0.9983, 1.0000, 0.9998, 0.9996, 0.9997, 0.9998, 0.9997, 0.9994, 0.9995, 0.9972, 0.9940, 0.9907, 0.9957, 0.9955, 0.9956, 0.9957],\n",
      "        [0.9983, 0.9983, 0.9984, 0.9984, 0.9983, 0.9983, 0.9984, 0.9984, 0.9998, 1.0000, 0.9996, 0.9997, 0.9996, 0.9998, 0.9994, 0.9994, 0.9969, 0.9939, 0.9908, 0.9956, 0.9955, 0.9955, 0.9956],\n",
      "        [0.9976, 0.9975, 0.9982, 0.9981, 0.9977, 0.9975, 0.9982, 0.9981, 0.9996, 0.9996, 1.0000, 0.9999, 0.9994, 0.9995, 0.9998, 0.9997, 0.9973, 0.9942, 0.9910, 0.9960, 0.9961, 0.9961, 0.9959],\n",
      "        [0.9977, 0.9975, 0.9981, 0.9981, 0.9977, 0.9976, 0.9981, 0.9982, 0.9997, 0.9997, 0.9999, 1.0000, 0.9995, 0.9996, 0.9997, 0.9998, 0.9973, 0.9942, 0.9908, 0.9961, 0.9958, 0.9959, 0.9960],\n",
      "        [0.9979, 0.9975, 0.9978, 0.9978, 0.9982, 0.9979, 0.9981, 0.9982, 0.9998, 0.9996, 0.9994, 0.9995, 1.0000, 0.9998, 0.9996, 0.9997, 0.9974, 0.9941, 0.9908, 0.9958, 0.9957, 0.9954, 0.9955],\n",
      "        [0.9981, 0.9980, 0.9982, 0.9982, 0.9984, 0.9983, 0.9984, 0.9984, 0.9997, 0.9998, 0.9995, 0.9996, 0.9998, 1.0000, 0.9996, 0.9997, 0.9972, 0.9940, 0.9910, 0.9958, 0.9957, 0.9954, 0.9955],\n",
      "        [0.9973, 0.9971, 0.9979, 0.9977, 0.9977, 0.9975, 0.9982, 0.9981, 0.9994, 0.9994, 0.9998, 0.9997, 0.9996, 0.9996, 1.0000, 0.9999, 0.9975, 0.9943, 0.9911, 0.9961, 0.9963, 0.9960, 0.9958],\n",
      "        [0.9974, 0.9972, 0.9978, 0.9978, 0.9977, 0.9975, 0.9981, 0.9981, 0.9995, 0.9994, 0.9997, 0.9998, 0.9997, 0.9997, 0.9999, 1.0000, 0.9975, 0.9943, 0.9909, 0.9962, 0.9960, 0.9958, 0.9959],\n",
      "        [0.9937, 0.9933, 0.9940, 0.9940, 0.9941, 0.9937, 0.9943, 0.9943, 0.9972, 0.9969, 0.9973, 0.9973, 0.9974, 0.9972, 0.9975, 0.9975, 1.0000, 0.9961, 0.9931, 0.9956, 0.9954, 0.9954, 0.9955],\n",
      "        [0.9922, 0.9919, 0.9925, 0.9924, 0.9924, 0.9921, 0.9927, 0.9927, 0.9940, 0.9939, 0.9942, 0.9942, 0.9941, 0.9940, 0.9943, 0.9943, 0.9961, 1.0000, 0.9963, 0.9959, 0.9958, 0.9959, 0.9959],\n",
      "        [0.9903, 0.9902, 0.9906, 0.9905, 0.9905, 0.9904, 0.9909, 0.9908, 0.9907, 0.9908, 0.9910, 0.9908, 0.9908, 0.9910, 0.9911, 0.9909, 0.9931, 0.9963, 1.0000, 0.9952, 0.9951, 0.9952, 0.9952],\n",
      "        [0.9940, 0.9937, 0.9944, 0.9944, 0.9942, 0.9940, 0.9946, 0.9946, 0.9957, 0.9956, 0.9960, 0.9961, 0.9958, 0.9958, 0.9961, 0.9962, 0.9956, 0.9959, 0.9952, 1.0000, 0.9997, 0.9994, 0.9996],\n",
      "        [0.9938, 0.9935, 0.9945, 0.9942, 0.9941, 0.9938, 0.9947, 0.9945, 0.9955, 0.9955, 0.9961, 0.9958, 0.9957, 0.9957, 0.9963, 0.9960, 0.9954, 0.9958, 0.9951, 0.9997, 1.0000, 0.9997, 0.9993],\n",
      "        [0.9939, 0.9937, 0.9946, 0.9943, 0.9940, 0.9938, 0.9947, 0.9944, 0.9956, 0.9955, 0.9961, 0.9959, 0.9954, 0.9954, 0.9960, 0.9958, 0.9954, 0.9959, 0.9952, 0.9994, 0.9997, 1.0000, 0.9997],\n",
      "        [0.9940, 0.9938, 0.9945, 0.9945, 0.9941, 0.9939, 0.9945, 0.9945, 0.9957, 0.9956, 0.9959, 0.9960, 0.9955, 0.9955, 0.9958, 0.9959, 0.9955, 0.9959, 0.9952, 0.9996, 0.9993, 0.9997, 1.0000]])\n"
     ]
    }
   ],
   "source": [
    "print(cosine_sim)"
   ]
  },
  {
   "cell_type": "markdown",
   "metadata": {},
   "source": [
    "## Analysing the predictions ##"
   ]
  },
  {
   "cell_type": "code",
   "execution_count": 74,
   "metadata": {},
   "outputs": [],
   "source": [
    "def get_predictions(model, input):\n",
    "    with torch.no_grad():\n",
    "        tokenized_inp = model.tokenizer(input, padding=True, truncation=True, return_tensors='pt')\n",
    "        encoder_out = model.transformer_encoder(**tokenized_inp)\n",
    "        logits = model.linear_classifier(encoder_out.last_hidden_state[:, 0, :])\n",
    "        return logits"
   ]
  },
  {
   "cell_type": "code",
   "execution_count": 75,
   "metadata": {},
   "outputs": [],
   "source": [
    "predictions = get_predictions(radbert_multi_model, all_sentence_list)"
   ]
  },
  {
   "cell_type": "code",
   "execution_count": 77,
   "metadata": {},
   "outputs": [
    {
     "name": "stdout",
     "output_type": "stream",
     "text": [
      "tensor([[-3.3179, -3.4485, -3.3018,  ..., -3.3865, -2.9830, -3.4156],\n",
      "        [-3.3157, -3.4456, -3.3008,  ..., -3.3809, -2.9793, -3.4176],\n",
      "        [-3.3140, -3.4461, -3.2968,  ..., -3.3888, -2.9813, -3.4179],\n",
      "        ...,\n",
      "        [-3.2344, -3.4549, -3.2411,  ..., -3.3429, -2.9685, -3.4108],\n",
      "        [-3.2331, -3.4431, -3.2351,  ..., -3.3354, -2.9648, -3.4121],\n",
      "        [-3.2290, -3.4323, -3.2309,  ..., -3.3308, -2.9543, -3.4143]])\n",
      "torch.Size([23, 322])\n",
      "tensor([224, 224, 224, 224, 224, 224, 224, 224, 224, 224, 224, 224, 224, 224, 224, 224, 224, 224, 224, 224, 224, 224, 224])\n",
      "tensor([-0.4905, -0.4914, -0.4824, -0.4777, -0.4883, -0.4893, -0.4806, -0.4756, -0.4617, -0.4617, -0.4504, -0.4428, -0.4608, -0.4609, -0.4503, -0.4424, -0.4080, -0.4365, -0.4165, -0.4053, -0.4172,\n",
      "        -0.4155, -0.4043])\n"
     ]
    }
   ],
   "source": [
    "print(predictions)\n",
    "print(predictions.shape)\n",
    "print(predictions.argmax(dim=-1))\n",
    "print(predictions[:, 224])"
   ]
  },
  {
   "cell_type": "code",
   "execution_count": 78,
   "metadata": {},
   "outputs": [],
   "source": [
    "df_tags = pd.read_csv('/home/users/pranav.rao/MiniTasks/Radbert/report_tags_25k_train.csv')"
   ]
  },
  {
   "cell_type": "code",
   "execution_count": 80,
   "metadata": {},
   "outputs": [
    {
     "name": "stdout",
     "output_type": "stream",
     "text": [
      "       airspacedisease  perihilarairspacedisease  bronchiolitis  vascularprominence  vascularcongestion  perihilarcoarsening  hilarprominence   steeplesign  peribronchialthickening  interstitialthickening  interlobularseptalthickening  tortuousaorta  hyperinflation    emphysema          copd    bronchitis      markings     pneumonia  unfoldedaorta  chroniclungdisease       abscess  airbronchogram  aircrescent   airtrapping     apicalcap  aorticcalcification  atelectasis  azygosfissure     bluntedcp        border  bronchiectasis  bronchocele         bulla  bullousemphysema  calcification     carcinoma  cardiomegaly        cavity  consolidation          cyst    degenspine  diaphragmborder         edema      effusion      fibrosis  justfibrosis  fissuralshift  fissuralthickening      fracture   oldfracture   ribfracture  ribfractureall  claviclefracture  femurfracture    granuloma   groundglass      haziness   heartborder  hydropneumothorax  juxtaphrenicpeak        kerley        lesion  \\\n",
      "count          20000.0                   20000.0        20000.0        20000.000000        20000.000000              20000.0     20000.000000  20000.000000             20000.000000            20000.000000                  20000.000000   20000.000000    20000.000000  20000.00000  20000.000000  20000.000000  20000.000000  20000.000000   20000.000000        20000.000000  20000.000000    20000.000000      20000.0  20000.000000  20000.000000         20000.000000  20000.00000   20000.000000  20000.000000  20000.000000    20000.000000      20000.0  20000.000000       20000.00000    20000.00000  20000.000000  20000.000000  20000.000000   20000.000000  20000.000000  20000.000000     20000.000000  20000.000000  20000.000000  20000.000000   20000.00000   20000.000000        20000.000000  20000.000000  20000.000000  20000.000000    20000.000000      20000.000000   20000.000000  20000.00000  20000.000000  20000.000000  20000.000000       20000.000000           20000.0  20000.000000  20000.000000   \n",
      "mean               0.0                       0.0            0.0            0.084250            0.000900                  0.0         0.033000      0.000050                 0.001200                0.002600                      0.000050       0.001050        0.004400      0.00730      0.104300      0.099100      0.098950      0.016500       0.024900            0.000550      0.000300        0.001900          0.0      0.000200      0.001200             0.021150      0.01095       0.000300      0.058450      0.010300        0.003700          0.0      0.000450           0.00025        0.02595      0.000050      0.053500      0.003600       0.047850      0.001250      0.018300         0.005400      0.001350      0.055050      0.019000       0.01660       0.000050            0.001750      0.016450      0.005750      0.004850        0.007850          0.006200       0.000450      0.00275      0.000950      0.034150      0.005700           0.000550               0.0      0.000050      0.013850   \n",
      "std                0.0                       0.0            0.0            0.277769            0.029987                  0.0         0.178641      0.007071                 0.034621                0.050925                      0.007071       0.032387        0.066188      0.08513      0.305657      0.298804      0.298602      0.127391       0.155824            0.023446      0.017318        0.043549          0.0      0.014141      0.034621             0.143888      0.10407       0.017318      0.234598      0.100967        0.060717          0.0      0.021209           0.01581        0.15899      0.007071      0.225034      0.059893       0.213454      0.035334      0.134037         0.073288      0.036718      0.228084      0.136528       0.12777       0.007071            0.041797      0.127201      0.075612      0.069475        0.088254          0.078498       0.021209      0.05237      0.030808      0.181619      0.075285           0.023446               0.0      0.007071      0.116871   \n",
      "min                0.0                       0.0            0.0            0.000000            0.000000                  0.0         0.000000      0.000000                 0.000000                0.000000                      0.000000       0.000000        0.000000      0.00000      0.000000      0.000000      0.000000      0.000000       0.000000            0.000000      0.000000        0.000000          0.0      0.000000      0.000000             0.000000      0.00000       0.000000      0.000000      0.000000        0.000000          0.0      0.000000           0.00000        0.00000      0.000000      0.000000      0.000000       0.000000      0.000000      0.000000         0.000000      0.000000      0.000000      0.000000       0.00000       0.000000            0.000000      0.000000      0.000000      0.000000        0.000000          0.000000       0.000000      0.00000      0.000000      0.000000      0.000000           0.000000               0.0      0.000000      0.000000   \n",
      "25%                0.0                       0.0            0.0            0.000000            0.000000                  0.0         0.000000      0.000000                 0.000000                0.000000                      0.000000       0.000000        0.000000      0.00000      0.000000      0.000000      0.000000      0.000000       0.000000            0.000000      0.000000        0.000000          0.0      0.000000      0.000000             0.000000      0.00000       0.000000      0.000000      0.000000        0.000000          0.0      0.000000           0.00000        0.00000      0.000000      0.000000      0.000000       0.000000      0.000000      0.000000         0.000000      0.000000      0.000000      0.000000       0.00000       0.000000            0.000000      0.000000      0.000000      0.000000        0.000000          0.000000       0.000000      0.00000      0.000000      0.000000      0.000000           0.000000               0.0      0.000000      0.000000   \n",
      "50%                0.0                       0.0            0.0            0.000000            0.000000                  0.0         0.000000      0.000000                 0.000000                0.000000                      0.000000       0.000000        0.000000      0.00000      0.000000      0.000000      0.000000      0.000000       0.000000            0.000000      0.000000        0.000000          0.0      0.000000      0.000000             0.000000      0.00000       0.000000      0.000000      0.000000        0.000000          0.0      0.000000           0.00000        0.00000      0.000000      0.000000      0.000000       0.000000      0.000000      0.000000         0.000000      0.000000      0.000000      0.000000       0.00000       0.000000            0.000000      0.000000      0.000000      0.000000        0.000000          0.000000       0.000000      0.00000      0.000000      0.000000      0.000000           0.000000               0.0      0.000000      0.000000   \n",
      "75%                0.0                       0.0            0.0            0.000000            0.000000                  0.0         0.000000      0.000000                 0.000000                0.000000                      0.000000       0.000000        0.000000      0.00000      0.000000      0.000000      0.000000      0.000000       0.000000            0.000000      0.000000        0.000000          0.0      0.000000      0.000000             0.000000      0.00000       0.000000      0.000000      0.000000        0.000000          0.0      0.000000           0.00000        0.00000      0.000000      0.000000      0.000000       0.000000      0.000000      0.000000         0.000000      0.000000      0.000000      0.000000       0.00000       0.000000            0.000000      0.000000      0.000000      0.000000        0.000000          0.000000       0.000000      0.00000      0.000000      0.000000      0.000000           0.000000               0.0      0.000000      0.000000   \n",
      "max                0.0                       0.0            0.0            1.000000            1.000000                  0.0         1.000000      1.000000                 1.000000                1.000000                      1.000000       1.000000        1.000000      1.00000      1.000000      1.000000      1.000000      1.000000       1.000000            1.000000      1.000000        1.000000          0.0      1.000000      1.000000             1.000000      1.00000       1.000000      1.000000      1.000000        1.000000          0.0      1.000000           1.00000        1.00000      1.000000      1.000000      1.000000       1.000000      1.000000      1.000000         1.000000      1.000000      1.000000      1.000000       1.00000       1.000000            1.000000      1.000000      1.000000      1.000000        1.000000          1.000000       1.000000      1.00000      1.000000      1.000000      1.000000           1.000000               0.0      1.000000      1.000000   \n",
      "\n",
      "       bullouslesion  lymphadenopathy          mass  bonemetastasis    metastases  mediastinalshift  miliarypattern        nodule  nonaorticcalcification  oligemia       opacity       density    thickening    osteopenia     pacemaker     peffusion  pleuralplaque  pleuralthickening  pneumatocele  pneumomediastinum  pneumopericardium  pneumothorax  pulmonaryfibrosis  raiseddiaphragm  tenteddiaphragm  humpdiaphragm     scoliosis         shift        suture  tensionpneumothorax  tuberculosispure  tuberculosis  trachealshift   volumeloss   cervicalrib  hilarlymphadenopathy        hernia      scarring  reticulonodularpattern  pulmonaryedema        loculi      interval  inspiration      rotation      exposure   foreignbody   lineandtube        hilar      surgery  subtle_normal  pneumoperitoneum  inhomogenousopacity  parenchymalopacity  bandlikeopacity  reticulation  reticularopacity  honeycombing  lobaratelectasis  segmentalatelectasis  prominentbronchovascularmarkings  \\\n",
      "count        20000.0     20000.000000  20000.000000    20000.000000  20000.000000      20000.000000     20000.00000  20000.000000            20000.000000   20000.0  20000.000000  20000.000000  20000.000000  20000.000000  20000.000000  20000.000000   20000.000000       20000.000000    20000.0000       20000.000000            20000.0   20000.00000        20000.00000     20000.000000     20000.000000   20000.000000  20000.000000  20000.000000  20000.000000              20000.0      20000.000000  20000.000000   20000.000000  20000.00000  20000.000000           20000.00000  20000.000000  20000.000000            20000.000000    20000.000000  20000.000000  20000.000000  20000.00000  20000.000000  20000.000000  20000.000000  20000.000000  20000.00000  20000.00000   20000.000000      20000.000000         20000.000000        20000.000000     20000.000000  20000.000000      20000.000000  20000.000000      20000.000000          20000.000000                      20000.000000   \n",
      "mean             0.0         0.005700      0.005400        0.000050      0.000800          0.003200         0.00025      0.017000                0.013050       0.0      0.192050      0.157400      0.037850      0.003150      0.002850      0.047400       0.000600           0.012400        0.0001           0.000050                0.0       0.00275            0.00025         0.005800         0.000650       0.002000      0.005250      0.006550      0.018550                  0.0          0.011600      0.225800       0.004350      0.00885      0.004100               0.00390      0.005550      0.000750                0.008750        0.001950      0.001350      0.063150      0.01740      0.031350      0.000600      0.000300      0.043550      0.03295      0.00025       0.047550          0.000500             0.033900            0.141700         0.026650      0.009250          0.008750      0.000050          0.000550              0.000700                          0.100450   \n",
      "std              0.0         0.075285      0.073288        0.007071      0.028274          0.056479         0.01581      0.129274                0.113492       0.0      0.393922      0.364187      0.190838      0.056038      0.053311      0.212498       0.024488           0.110665        0.0100           0.007071                0.0       0.05237            0.01581         0.075938         0.025487       0.044678      0.072268      0.080669      0.134933                  0.0          0.107079      0.418119       0.065813      0.09366      0.063901               0.06233      0.074293      0.027377                0.093134        0.044117      0.036718      0.243239      0.13076      0.174266      0.024488      0.017318      0.204097      0.17851      0.01581       0.212817          0.022356             0.180976            0.348751         0.161062      0.095733          0.093134      0.007071          0.023446              0.026449                          0.300607   \n",
      "min              0.0         0.000000      0.000000        0.000000      0.000000          0.000000         0.00000      0.000000                0.000000       0.0      0.000000      0.000000      0.000000      0.000000      0.000000      0.000000       0.000000           0.000000        0.0000           0.000000                0.0       0.00000            0.00000         0.000000         0.000000       0.000000      0.000000      0.000000      0.000000                  0.0          0.000000      0.000000       0.000000      0.00000      0.000000               0.00000      0.000000      0.000000                0.000000        0.000000      0.000000      0.000000      0.00000      0.000000      0.000000      0.000000      0.000000      0.00000      0.00000       0.000000          0.000000             0.000000            0.000000         0.000000      0.000000          0.000000      0.000000          0.000000              0.000000                          0.000000   \n",
      "25%              0.0         0.000000      0.000000        0.000000      0.000000          0.000000         0.00000      0.000000                0.000000       0.0      0.000000      0.000000      0.000000      0.000000      0.000000      0.000000       0.000000           0.000000        0.0000           0.000000                0.0       0.00000            0.00000         0.000000         0.000000       0.000000      0.000000      0.000000      0.000000                  0.0          0.000000      0.000000       0.000000      0.00000      0.000000               0.00000      0.000000      0.000000                0.000000        0.000000      0.000000      0.000000      0.00000      0.000000      0.000000      0.000000      0.000000      0.00000      0.00000       0.000000          0.000000             0.000000            0.000000         0.000000      0.000000          0.000000      0.000000          0.000000              0.000000                          0.000000   \n",
      "50%              0.0         0.000000      0.000000        0.000000      0.000000          0.000000         0.00000      0.000000                0.000000       0.0      0.000000      0.000000      0.000000      0.000000      0.000000      0.000000       0.000000           0.000000        0.0000           0.000000                0.0       0.00000            0.00000         0.000000         0.000000       0.000000      0.000000      0.000000      0.000000                  0.0          0.000000      0.000000       0.000000      0.00000      0.000000               0.00000      0.000000      0.000000                0.000000        0.000000      0.000000      0.000000      0.00000      0.000000      0.000000      0.000000      0.000000      0.00000      0.00000       0.000000          0.000000             0.000000            0.000000         0.000000      0.000000          0.000000      0.000000          0.000000              0.000000                          0.000000   \n",
      "75%              0.0         0.000000      0.000000        0.000000      0.000000          0.000000         0.00000      0.000000                0.000000       0.0      0.000000      0.000000      0.000000      0.000000      0.000000      0.000000       0.000000           0.000000        0.0000           0.000000                0.0       0.00000            0.00000         0.000000         0.000000       0.000000      0.000000      0.000000      0.000000                  0.0          0.000000      0.000000       0.000000      0.00000      0.000000               0.00000      0.000000      0.000000                0.000000        0.000000      0.000000      0.000000      0.00000      0.000000      0.000000      0.000000      0.000000      0.00000      0.00000       0.000000          0.000000             0.000000            0.000000         0.000000      0.000000          0.000000      0.000000          0.000000              0.000000                          0.000000   \n",
      "max              0.0         1.000000      1.000000        1.000000      1.000000          1.000000         1.00000      1.000000                1.000000       0.0      1.000000      1.000000      1.000000      1.000000      1.000000      1.000000       1.000000           1.000000        1.0000           1.000000                0.0       1.00000            1.00000         1.000000         1.000000       1.000000      1.000000      1.000000      1.000000                  0.0          1.000000      1.000000       1.000000      1.00000      1.000000               1.00000      1.000000      1.000000                1.000000        1.000000      1.000000      1.000000      1.00000      1.000000      1.000000      1.000000      1.000000      1.00000      1.00000       1.000000          1.000000             1.000000            1.000000         1.000000      1.000000          1.000000      1.000000          1.000000              1.000000                          1.000000   \n",
      "\n",
      "       interstitiallungdisease  pneumonitis  sarcoidosis  asbestosis  silicosis  pneumoconiosis    infiltrate  parenchymalcalcification  calcifiednodule  septallines  vascularindistinctness  cephalization  diffusedecreaselungdensity  bronchialdilation  dilatedtubularshapedopacity  cysticlungdisease  discoidatelectasis  flatdiaphragm  lamellarpeffusion  loculatedeffusion  subpulmoniceffusion  empyema  pleuralnodule  pleuralmass  diffusepleuralthickining  focalpleuralthickining  pleuralcalcification  visiblehumerus      vertebra  vertebralcompression  curvaturespine  crowdingofribs     bonetumor   ribnotching  blasticosseouslesion  lyticosseouslesion  decreasedbonedensity  pectusexcavatum  pectuscarinatum  vertebralbodyfracture  sternumfracture  scapulafracture  leadlesspacemaker  valvereplacements           ngt           tst           ett   gastrictube   feedingtube   centralline  jugularline  subclavianline          picc  portcatheter       implant     cabgclips  sternotomywires  \\\n",
      "count              20000.00000  20000.00000      20000.0     20000.0    20000.0         20000.0  20000.000000               20000.00000      20000.00000   20000.0000            20000.000000   20000.000000                     20000.0       20000.000000                      20000.0       20000.000000        20000.000000   20000.000000       20000.000000       20000.000000           20000.0000  20000.0   20000.000000  20000.00000                   20000.0              20000.0000          20000.000000     20000.00000  20000.000000          20000.000000         20000.0    20000.000000  20000.000000  20000.000000               20000.0             20000.0          20000.000000          20000.0          20000.0           20000.000000          20000.0     20000.000000            20000.0       20000.000000  20000.000000  20000.000000  20000.000000  20000.000000  20000.000000  20000.000000      20000.0         20000.0  20000.000000       20000.0  20000.000000  20000.000000     20000.000000   \n",
      "mean                   0.05835      0.01565          0.0         0.0        0.0             0.0      0.005000                   0.00550          0.00535       0.0001                0.000050       0.001000                         0.0           0.183350                          0.0           0.001900            0.003000       0.008100           0.000200           0.000900               0.0001      0.0       0.000400      0.00025                       0.0                  0.0001              0.001050         0.00155      0.006000              0.000300             0.0        0.001850      0.000950      0.000500                   0.0                 0.0              0.003450              0.0              0.0               0.000150              0.0         0.000300                0.0           0.000950      0.011600      0.009150      0.140150      0.011600      0.011600      0.010850          0.0             0.0      0.000550           0.0      0.000300      0.000200         0.000900   \n",
      "std                    0.23441      0.12412          0.0         0.0        0.0             0.0      0.070535                   0.07396          0.07295       0.0100                0.007071       0.031608                         0.0           0.386963                          0.0           0.043549            0.054691       0.089637           0.014141           0.029987               0.0100      0.0       0.019996      0.01581                       0.0                  0.0100              0.032387         0.03934      0.077229              0.017318             0.0        0.042973      0.030808      0.022356                   0.0                 0.0              0.058637              0.0              0.0               0.012247              0.0         0.017318                0.0           0.030808      0.107079      0.095219      0.347151      0.107079      0.107079      0.103599          0.0             0.0      0.023446           0.0      0.017318      0.014141         0.029987   \n",
      "min                    0.00000      0.00000          0.0         0.0        0.0             0.0      0.000000                   0.00000          0.00000       0.0000                0.000000       0.000000                         0.0           0.000000                          0.0           0.000000            0.000000       0.000000           0.000000           0.000000               0.0000      0.0       0.000000      0.00000                       0.0                  0.0000              0.000000         0.00000      0.000000              0.000000             0.0        0.000000      0.000000      0.000000                   0.0                 0.0              0.000000              0.0              0.0               0.000000              0.0         0.000000                0.0           0.000000      0.000000      0.000000      0.000000      0.000000      0.000000      0.000000          0.0             0.0      0.000000           0.0      0.000000      0.000000         0.000000   \n",
      "25%                    0.00000      0.00000          0.0         0.0        0.0             0.0      0.000000                   0.00000          0.00000       0.0000                0.000000       0.000000                         0.0           0.000000                          0.0           0.000000            0.000000       0.000000           0.000000           0.000000               0.0000      0.0       0.000000      0.00000                       0.0                  0.0000              0.000000         0.00000      0.000000              0.000000             0.0        0.000000      0.000000      0.000000                   0.0                 0.0              0.000000              0.0              0.0               0.000000              0.0         0.000000                0.0           0.000000      0.000000      0.000000      0.000000      0.000000      0.000000      0.000000          0.0             0.0      0.000000           0.0      0.000000      0.000000         0.000000   \n",
      "50%                    0.00000      0.00000          0.0         0.0        0.0             0.0      0.000000                   0.00000          0.00000       0.0000                0.000000       0.000000                         0.0           0.000000                          0.0           0.000000            0.000000       0.000000           0.000000           0.000000               0.0000      0.0       0.000000      0.00000                       0.0                  0.0000              0.000000         0.00000      0.000000              0.000000             0.0        0.000000      0.000000      0.000000                   0.0                 0.0              0.000000              0.0              0.0               0.000000              0.0         0.000000                0.0           0.000000      0.000000      0.000000      0.000000      0.000000      0.000000      0.000000          0.0             0.0      0.000000           0.0      0.000000      0.000000         0.000000   \n",
      "75%                    0.00000      0.00000          0.0         0.0        0.0             0.0      0.000000                   0.00000          0.00000       0.0000                0.000000       0.000000                         0.0           0.000000                          0.0           0.000000            0.000000       0.000000           0.000000           0.000000               0.0000      0.0       0.000000      0.00000                       0.0                  0.0000              0.000000         0.00000      0.000000              0.000000             0.0        0.000000      0.000000      0.000000                   0.0                 0.0              0.000000              0.0              0.0               0.000000              0.0         0.000000                0.0           0.000000      0.000000      0.000000      0.000000      0.000000      0.000000      0.000000          0.0             0.0      0.000000           0.0      0.000000      0.000000         0.000000   \n",
      "max                    1.00000      1.00000          0.0         0.0        0.0             0.0      1.000000                   1.00000          1.00000       1.0000                1.000000       1.000000                         0.0           1.000000                          0.0           1.000000            1.000000       1.000000           1.000000           1.000000               1.0000      0.0       1.000000      1.00000                       0.0                  1.0000              1.000000         1.00000      1.000000              1.000000             0.0        1.000000      1.000000      1.000000                   0.0                 0.0              1.000000              0.0              0.0               1.000000              0.0         1.000000                0.0           1.000000      1.000000      1.000000      1.000000      1.000000      1.000000      1.000000          0.0             0.0      1.000000           0.0      1.000000      1.000000         1.000000   \n",
      "\n",
      "       epicardialpacingwires         stent  mediastinaldrains  pericardialdrain  osseoushardware           icd  cardiaccalcification  nonvalvularcardialcalcification  valvularcalcification  prostheticvalve  cardiacshift  pericardialeffusion  pericardialcyst  cardiacsilhoutteenlargement  perihilarhaze  cardiophrenicangleopacity  vesselcalcification  branchvesselcalcification  congenitalheartdisease  aorticaneurysm  aorticenlargement  aorticknucklecalcification  hilarlymphnode  hiatalhernia  calcifiedlymphnodes  mediastinalmass  trachealstenosis  trachealdilation  trachealmass  dilatedpulmonarytrunk  mediastinalwidening  trachealnodule  subcutaneousemphysema  surgicalemphysema  skinnodule  skinlesion  nippleshadow  softtissuemass  softtissuecalcification  softtissuetumor  eventrationofdiaphragm  extrapleuralfat  diphragmatichernia  freeairunderdiaphragm         other        normal   no_cat  atelectasis-left  atelectasis-right  atelectasis-0  atelectasis-1  atelectasis-2  atelectasis-3  \\\n",
      "count           20000.000000  20000.000000       20000.000000      20000.000000          20000.0  20000.000000          20000.000000                     20000.000000                20000.0     20000.000000  20000.000000           20000.0000       20000.0000                 20000.000000   20000.000000               20000.000000         20000.000000                    20000.0                 20000.0    20000.000000       20000.000000                20000.000000    20000.000000       20000.0         20000.000000     20000.000000      20000.000000      20000.000000  20000.000000           20000.000000         20000.000000    20000.000000           20000.000000       20000.000000     20000.0     20000.0  20000.000000         20000.0             20000.000000       20000.0000              20000.0000          20000.0        20000.000000           20000.000000  20000.000000  20000.000000  20000.0      20000.000000       20000.000000   20000.000000    20000.00000   20000.000000   20000.000000   \n",
      "mean                0.000150      0.001400           0.000450          0.000150              0.0      0.003750              0.000650                         0.000650                    0.0         0.000750      0.017950               0.0001           0.0001                     0.000200       0.000900                   0.006500             0.000200                        0.0                     0.0        0.000050           0.117350                    0.019700        0.001050           0.0             0.000600         0.108650          0.000050          0.000300      0.000200               0.000350             0.108650        0.000050               0.000900           0.000550         0.0         0.0      0.000300             0.0                 0.001350           0.0001                  0.0001              0.0            0.000300               0.000450      0.000050      0.378650      0.0          0.001950           0.001550      -0.204400       -0.20360      -0.145600      -0.139400   \n",
      "std                 0.012247      0.037391           0.021209          0.012247              0.0      0.061124              0.025487                         0.025487                    0.0         0.027377      0.132773               0.0100           0.0100                     0.014141       0.029987                   0.080362             0.014141                        0.0                     0.0        0.007071           0.321845                    0.138971        0.032387           0.0             0.024488         0.311207          0.007071          0.017318      0.014141               0.018705             0.311207        0.007071               0.029987           0.023446         0.0         0.0      0.017318             0.0                 0.036718           0.0100                  0.0100              0.0            0.017318               0.021209      0.007071      0.485063      0.0          0.712019           0.711739       4.523256        4.52338       3.870911       3.739233   \n",
      "min                 0.000000      0.000000           0.000000          0.000000              0.0      0.000000              0.000000                         0.000000                    0.0         0.000000      0.000000               0.0000           0.0000                     0.000000       0.000000                   0.000000             0.000000                        0.0                     0.0        0.000000           0.000000                    0.000000        0.000000           0.0             0.000000         0.000000          0.000000          0.000000      0.000000               0.000000             0.000000        0.000000               0.000000           0.000000         0.0         0.0      0.000000             0.0                 0.000000           0.0000                  0.0000              0.0            0.000000               0.000000      0.000000      0.000000      0.0       -100.000000        -100.000000    -100.000000     -100.00000    -100.000000    -100.000000   \n",
      "25%                 0.000000      0.000000           0.000000          0.000000              0.0      0.000000              0.000000                         0.000000                    0.0         0.000000      0.000000               0.0000           0.0000                     0.000000       0.000000                   0.000000             0.000000                        0.0                     0.0        0.000000           0.000000                    0.000000        0.000000           0.0             0.000000         0.000000          0.000000          0.000000      0.000000               0.000000             0.000000        0.000000               0.000000           0.000000         0.0         0.0      0.000000             0.0                 0.000000           0.0000                  0.0000              0.0            0.000000               0.000000      0.000000      0.000000      0.0          0.000000           0.000000       0.000000        0.00000       0.000000       0.000000   \n",
      "50%                 0.000000      0.000000           0.000000          0.000000              0.0      0.000000              0.000000                         0.000000                    0.0         0.000000      0.000000               0.0000           0.0000                     0.000000       0.000000                   0.000000             0.000000                        0.0                     0.0        0.000000           0.000000                    0.000000        0.000000           0.0             0.000000         0.000000          0.000000          0.000000      0.000000               0.000000             0.000000        0.000000               0.000000           0.000000         0.0         0.0      0.000000             0.0                 0.000000           0.0000                  0.0000              0.0            0.000000               0.000000      0.000000      0.000000      0.0          0.000000           0.000000       0.000000        0.00000       0.000000       0.000000   \n",
      "75%                 0.000000      0.000000           0.000000          0.000000              0.0      0.000000              0.000000                         0.000000                    0.0         0.000000      0.000000               0.0000           0.0000                     0.000000       0.000000                   0.000000             0.000000                        0.0                     0.0        0.000000           0.000000                    0.000000        0.000000           0.0             0.000000         0.000000          0.000000          0.000000      0.000000               0.000000             0.000000        0.000000               0.000000           0.000000         0.0         0.0      0.000000             0.0                 0.000000           0.0000                  0.0000              0.0            0.000000               0.000000      0.000000      1.000000      0.0          0.000000           0.000000       0.000000        0.00000       0.000000       0.000000   \n",
      "max                 1.000000      1.000000           1.000000          1.000000              0.0      1.000000              1.000000                         1.000000                    0.0         1.000000      1.000000               1.0000           1.0000                     1.000000       1.000000                   1.000000             1.000000                        0.0                     0.0        1.000000           1.000000                    1.000000        1.000000           0.0             1.000000         1.000000          1.000000          1.000000      1.000000               1.000000             1.000000        1.000000               1.000000           1.000000         0.0         0.0      1.000000             0.0                 1.000000           1.0000                  1.0000              0.0            1.000000               1.000000      1.000000      1.000000      0.0          1.000000           1.000000       1.000000        1.00000       1.000000       1.000000   \n",
      "\n",
      "       atelectasis-4  atelectasis-5  bluntedcp-left  bluntedcp-right   bluntedcp-0   bluntedcp-1   bluntedcp-2   bluntedcp-3   bluntedcp-4   bluntedcp-5   cavity-left  cavity-right      cavity-0      cavity-1      cavity-2      cavity-3      cavity-4      cavity-5  consolidation-left  consolidation-right  consolidation-0  consolidation-1  consolidation-2  consolidation-3  consolidation-4  consolidation-5  fibrosis-left  fibrosis-right    fibrosis-0    fibrosis-1    fibrosis-2    fibrosis-3    fibrosis-4   fibrosis-5   nodule-left  nodule-right     nodule-0     nodule-1      nodule-2      nodule-3      nodule-4      nodule-5  nonaorticcalcification-left  nonaorticcalcification-right  nonaorticcalcification-0  nonaorticcalcification-1  nonaorticcalcification-2  nonaorticcalcification-3  nonaorticcalcification-4  nonaorticcalcification-5  opacity-left  opacity-right     opacity-0     opacity-1     opacity-2     opacity-3     opacity-4     opacity-5  peffusion-left  peffusion-right  \\\n",
      "count   20000.000000   20000.000000    20000.000000     20000.000000  20000.000000  20000.000000  20000.000000  20000.000000  20000.000000  20000.000000  20000.000000  20000.000000  20000.000000  20000.000000  20000.000000  20000.000000  20000.000000  20000.000000        20000.000000         20000.000000     20000.000000     20000.000000     20000.000000      20000.00000     20000.000000     20000.000000   20000.000000    20000.000000  20000.000000  20000.000000  20000.000000  20000.000000  20000.000000  20000.00000  20000.000000  20000.000000  20000.00000  20000.00000  20000.000000  20000.000000  20000.000000  20000.000000                 20000.000000                  20000.000000              20000.000000              20000.000000              20000.000000              20000.000000              20000.000000              20000.000000  20000.000000    20000.00000  20000.000000  20000.000000  20000.000000  20000.000000  20000.000000  20000.000000    20000.000000     20000.000000   \n",
      "mean       -0.133500      -0.120950       -0.210100        -0.214300     -0.250000     -0.250000     -0.210100     -0.250000     -0.250000     -0.214300     -0.003150     -0.002600     -0.003900     -0.004300     -0.004550     -0.013450     -0.009300     -0.014500           -0.082550            -0.073700        -0.822950        -0.710550        -0.734300         -0.80420        -0.704500        -0.738400      -0.013200       -0.009400     -0.247900     -0.262450     -0.263250     -0.229750     -0.250700     -0.25290     -0.054000     -0.051950     -0.33685     -0.33490     -0.338850     -0.350750     -0.349750     -0.358200                    -0.151750                     -0.151850                 -0.330800                 -0.332750                 -0.348600                 -0.285650                 -0.292400                 -0.293650     -0.871300       -0.85300     -4.484200     -4.371400     -4.072800     -4.334600     -4.245400     -3.964300       -0.109900        -0.110000   \n",
      "std         3.672105       3.534126        4.999701         4.999102      4.993871      4.993871      4.999701      4.993871      4.993871      4.999102      0.708424      0.708815      0.707891      0.707606      0.707428      1.225334      1.000332      1.224894            3.319817             3.321358         9.073804         8.456249         8.600884          8.99267         8.427202         8.658817       1.584851        1.586076      5.044494      5.141497      5.141378      4.894759      5.044078      5.04375      2.551158      2.551603      5.82163      5.82191      5.821342      5.948361      5.948504      5.989598                     3.998252                      3.998236                  5.778965                  5.778685                  5.906067                  5.378122                  5.423889                  5.423706      9.943313        9.94582     20.771238     20.541435     19.899354     20.463934     20.274164     19.668868        3.744159         3.744142   \n",
      "min      -100.000000    -100.000000     -100.000000      -100.000000   -100.000000   -100.000000   -100.000000   -100.000000   -100.000000   -100.000000   -100.000000   -100.000000   -100.000000   -100.000000   -100.000000   -100.000000   -100.000000   -100.000000         -100.000000          -100.000000      -100.000000      -100.000000      -100.000000       -100.00000      -100.000000      -100.000000    -100.000000     -100.000000   -100.000000   -100.000000   -100.000000   -100.000000   -100.000000   -100.00000   -100.000000   -100.000000   -100.00000   -100.00000   -100.000000   -100.000000   -100.000000   -100.000000                  -100.000000                   -100.000000               -100.000000               -100.000000               -100.000000               -100.000000               -100.000000               -100.000000   -100.000000     -100.00000   -100.000000   -100.000000   -100.000000   -100.000000   -100.000000   -100.000000     -100.000000      -100.000000   \n",
      "25%         0.000000       0.000000        0.000000         0.000000      0.000000      0.000000      0.000000      0.000000      0.000000      0.000000      0.000000      0.000000      0.000000      0.000000      0.000000      0.000000      0.000000      0.000000            0.000000             0.000000         0.000000         0.000000         0.000000          0.00000         0.000000         0.000000       0.000000        0.000000      0.000000      0.000000      0.000000      0.000000      0.000000      0.00000      0.000000      0.000000      0.00000      0.00000      0.000000      0.000000      0.000000      0.000000                     0.000000                      0.000000                  0.000000                  0.000000                  0.000000                  0.000000                  0.000000                  0.000000      0.000000        0.00000      0.000000      0.000000      0.000000      0.000000      0.000000      0.000000        0.000000         0.000000   \n",
      "50%         0.000000       0.000000        0.000000         0.000000      0.000000      0.000000      0.000000      0.000000      0.000000      0.000000      0.000000      0.000000      0.000000      0.000000      0.000000      0.000000      0.000000      0.000000            0.000000             0.000000         0.000000         0.000000         0.000000          0.00000         0.000000         0.000000       0.000000        0.000000      0.000000      0.000000      0.000000      0.000000      0.000000      0.00000      0.000000      0.000000      0.00000      0.00000      0.000000      0.000000      0.000000      0.000000                     0.000000                      0.000000                  0.000000                  0.000000                  0.000000                  0.000000                  0.000000                  0.000000      0.000000        0.00000      0.000000      0.000000      0.000000      0.000000      0.000000      0.000000        0.000000         0.000000   \n",
      "75%         0.000000       0.000000        0.000000         0.000000      0.000000      0.000000      0.000000      0.000000      0.000000      0.000000      0.000000      0.000000      0.000000      0.000000      0.000000      0.000000      0.000000      0.000000            0.000000             0.000000         0.000000         0.000000         0.000000          0.00000         0.000000         0.000000       0.000000        0.000000      0.000000      0.000000      0.000000      0.000000      0.000000      0.00000      0.000000      0.000000      0.00000      0.00000      0.000000      0.000000      0.000000      0.000000                     0.000000                      0.000000                  0.000000                  0.000000                  0.000000                  0.000000                  0.000000                  0.000000      0.000000        0.00000      0.000000      0.000000      0.000000      0.000000      0.000000      0.000000        0.000000         0.000000   \n",
      "max         1.000000       1.000000        1.000000         1.000000      0.000000      0.000000      1.000000      0.000000      0.000000      1.000000      1.000000      1.000000      1.000000      1.000000      1.000000      1.000000      1.000000      1.000000            1.000000             1.000000         1.000000         1.000000         1.000000          1.00000         1.000000         1.000000       1.000000        1.000000      1.000000      1.000000      1.000000      1.000000      1.000000      1.00000      1.000000      1.000000      1.00000      1.00000      1.000000      1.000000      1.000000      1.000000                     1.000000                      1.000000                  1.000000                  1.000000                  1.000000                  1.000000                  1.000000                  1.000000      1.000000        1.00000      1.000000      1.000000      1.000000      1.000000      1.000000      1.000000        1.000000         1.000000   \n",
      "\n",
      "        peffusion-0   peffusion-1   peffusion-2   peffusion-3   peffusion-4   peffusion-5  pneumothorax-left  pneumothorax-right  pneumothorax-0  pneumothorax-1  pneumothorax-2  pneumothorax-3  pneumothorax-4  pneumothorax-5  raiseddiaphragm-left  raiseddiaphragm-right  raiseddiaphragm-0  raiseddiaphragm-1  raiseddiaphragm-2  raiseddiaphragm-3  raiseddiaphragm-4  raiseddiaphragm-5    hilar-left   hilar-right       hilar-0       hilar-1       hilar-2       hilar-3       hilar-4       hilar-5  \n",
      "count  20000.000000  20000.000000  20000.000000  20000.000000  20000.000000  20000.000000       20000.000000        20000.000000    20000.000000    20000.000000    20000.000000    20000.000000    20000.000000    20000.000000           20000.00000           20000.000000       20000.000000       20000.000000       20000.000000       20000.000000       20000.000000        20000.00000  20000.000000  20000.000000  20000.000000  20000.000000  20000.000000  20000.000000  20000.000000  20000.000000  \n",
      "mean      -0.140000     -0.140000     -0.109900     -0.140000     -0.140000     -0.110000          -0.013350           -0.014000       -0.119600       -0.119900       -0.119650       -0.069800       -0.074900       -0.069700               0.00155               0.004450          -0.100000          -0.089350          -0.099950          -0.329900          -0.323800           -0.31465     -0.426300     -0.423600     -0.679750     -0.441650     -0.669400     -0.679900     -0.428850     -0.674300  \n",
      "std        3.739131      3.739131      3.744159      3.739131      3.739131      3.744142           1.225376            1.225104        3.462181        3.462127        3.462172        2.644934        2.737675        2.644956               0.03934               0.066561           3.160775           2.998852           3.160785           5.735234           5.691922            5.60383      6.696582      6.696955      8.218368      6.806659      8.158176      8.218346      6.733833      8.188368  \n",
      "min     -100.000000   -100.000000   -100.000000   -100.000000   -100.000000   -100.000000        -100.000000         -100.000000     -100.000000     -100.000000     -100.000000     -100.000000     -100.000000     -100.000000               0.00000               0.000000        -100.000000        -100.000000        -100.000000        -100.000000        -100.000000         -100.00000   -100.000000   -100.000000   -100.000000   -100.000000   -100.000000   -100.000000   -100.000000   -100.000000  \n",
      "25%        0.000000      0.000000      0.000000      0.000000      0.000000      0.000000           0.000000            0.000000        0.000000        0.000000        0.000000        0.000000        0.000000        0.000000               0.00000               0.000000           0.000000           0.000000           0.000000           0.000000           0.000000            0.00000      0.000000      0.000000      0.000000      0.000000      0.000000      0.000000      0.000000      0.000000  \n",
      "50%        0.000000      0.000000      0.000000      0.000000      0.000000      0.000000           0.000000            0.000000        0.000000        0.000000        0.000000        0.000000        0.000000        0.000000               0.00000               0.000000           0.000000           0.000000           0.000000           0.000000           0.000000            0.00000      0.000000      0.000000      0.000000      0.000000      0.000000      0.000000      0.000000      0.000000  \n",
      "75%        0.000000      0.000000      0.000000      0.000000      0.000000      0.000000           0.000000            0.000000        0.000000        0.000000        0.000000        0.000000        0.000000        0.000000               0.00000               0.000000           0.000000           0.000000           0.000000           0.000000           0.000000            0.00000      0.000000      0.000000      0.000000      0.000000      0.000000      0.000000      0.000000      0.000000  \n",
      "max        0.000000      0.000000      1.000000      0.000000      0.000000      1.000000           1.000000            1.000000        1.000000        1.000000        1.000000        1.000000        1.000000        1.000000               1.00000               1.000000           0.000000           1.000000           1.000000           1.000000           1.000000            1.00000      1.000000      1.000000      1.000000      1.000000      1.000000      1.000000      1.000000      1.000000  \n"
     ]
    }
   ],
   "source": [
    "df_tags.describe()"
   ]
  },
  {
   "cell_type": "code",
   "execution_count": 68,
   "metadata": {},
   "outputs": [
    {
     "name": "stdout",
     "output_type": "stream",
     "text": [
      "other\n"
     ]
    }
   ],
   "source": [
    "columns = list(df_tags.columns.values)\n",
    "print(columns[224])"
   ]
  }
 ],
 "metadata": {
  "kernelspec": {
   "display_name": "TutorialCuda",
   "language": "python",
   "name": "python3"
  },
  "language_info": {
   "codemirror_mode": {
    "name": "ipython",
    "version": 3
   },
   "file_extension": ".py",
   "mimetype": "text/x-python",
   "name": "python",
   "nbconvert_exporter": "python",
   "pygments_lexer": "ipython3",
   "version": "3.11.4"
  },
  "orig_nbformat": 4
 },
 "nbformat": 4,
 "nbformat_minor": 2
}
