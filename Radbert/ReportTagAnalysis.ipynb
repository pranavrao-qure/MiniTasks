{
 "cells": [
  {
   "cell_type": "markdown",
   "metadata": {},
   "source": [
    "# Analysis of Report Tags #\n",
    "The tags of reports in /models_common_e2e/cxr_data/reports/training folder, with their tags extracted by tag_extraction script in /fast_data_e2e_1/cxr/foundation_models_data/extracted_2.02M.csv file"
   ]
  },
  {
   "cell_type": "code",
   "execution_count": 1,
   "metadata": {},
   "outputs": [],
   "source": [
    "import os\n",
    "\n",
    "import numpy as np\n",
    "import pandas as pd"
   ]
  },
  {
   "cell_type": "code",
   "execution_count": 2,
   "metadata": {},
   "outputs": [],
   "source": [
    "pd.set_option('display.max_rows', 50)\n",
    "pd.set_option('display.max_columns', 500)\n",
    "pd.set_option('display.width', 1000)"
   ]
  },
  {
   "cell_type": "markdown",
   "metadata": {},
   "source": [
    "## File paths ##"
   ]
  },
  {
   "cell_type": "code",
   "execution_count": 3,
   "metadata": {},
   "outputs": [],
   "source": [
    "reports_folder = \"/models_common_e2e/cxr_data/reports/training\"\n",
    "tags_file = \"/fast_data_e2e_1/cxr/foundation_models_data/extracted_2.02M.csv\"\n",
    "tags_file_small = \"/home/users/pranav.rao/Downloads/extracted_20K.csv\""
   ]
  },
  {
   "cell_type": "markdown",
   "metadata": {},
   "source": [
    "## Preliminary analysis ##\n",
    "Analysis of tags and sample reports"
   ]
  },
  {
   "cell_type": "code",
   "execution_count": 4,
   "metadata": {},
   "outputs": [],
   "source": [
    "tags_df = pd.read_csv(tags_file_small)"
   ]
  },
  {
   "cell_type": "code",
   "execution_count": 5,
   "metadata": {},
   "outputs": [],
   "source": [
    "col_names = list(tags_df.columns.values)\n",
    "col_names[0] = 'filename'\n",
    "tags_df.columns = col_names"
   ]
  },
  {
   "cell_type": "code",
   "execution_count": 6,
   "metadata": {},
   "outputs": [
    {
     "name": "stdout",
     "output_type": "stream",
     "text": [
      "filename\tairspacedisease\tperihilarairspacedisease\tbronchiolitis\tvascularprominence\tvascularcongestion\tperihilarcoarsening\thilarprominence\tsteeplesign\tperibronchialthickening\tinterstitialthickening\tinterlobularseptalthickening\ttortuousaorta\thyperinflation\temphysema\tcopd\tbronchitis\tmarkings\tpneumonia\tunfoldedaorta\tchroniclungdisease\tabscess\tairbronchogram\taircrescent\tairtrapping\tapicalcap\taorticcalcification\tatelectasis\tazygosfissure\tbluntedcp\tborder\tbronchiectasis\tbronchocele\tbulla\tbullousemphysema\tcalcification\tcarcinoma\tcardiomegaly\tcavity\tconsolidation\tcyst\tdegenspine\tdiaphragmborder\tedema\teffusion\tfibrosis\tjustfibrosis\tfissuralshift\tfissuralthickening\tfracture\toldfracture\tribfracture\tribfractureall\tclaviclefracture\tfemurfracture\tgranuloma\tgroundglass\thaziness\theartborder\thydropneumothorax\tjuxtaphrenicpeak\tkerley\tlesion\tbullouslesion\tlymphadenopathy\tmass\tbonemetastasis\tmetastases\tmediastinalshift\tmiliarypattern\tnodule\tnonaorticcalcification\toligemia\topacity\tdensity\tthickening\tosteopenia\tpacemaker\tpeffusion\tpleuralplaque\tpleuralthickening\tpneumatocele\tpneumomediastinum\tpneumopericardium\tpneumothorax\tpulmonaryfibrosis\traiseddiaphragm\ttenteddiaphragm\thumpdiaphragm\tscoliosis\tshift\tsuture\ttensionpneumothorax\ttuberculosispure\ttuberculosis\ttrachealshift\tvolumeloss\tcervicalrib\thilarlymphadenopathy\thernia\tscarring\treticulonodularpattern\tpulmonaryedema\tloculi\tinterval\tinspiration\trotation\texposure\tforeignbody\tlineandtube\thilar\tsurgery\tsubtle_normal\tpneumoperitoneum\tinhomogenousopacity\tparenchymalopacity\tbandlikeopacity\treticulation\treticularopacity\thoneycombing\tlobaratelectasis\tsegmentalatelectasis\tprominentbronchovascularmarkings\tinterstitiallungdisease\tpneumonitis\tsarcoidosis\tasbestosis\tsilicosis\tpneumoconiosis\tinfiltrate\tparenchymalcalcification\tcalcifiednodule\tseptallines\tvascularindistinctness\tcephalization\tdiffusedecreaselungdensity\tbronchialdilation\tdilatedtubularshapedopacity\tcysticlungdisease\tdiscoidatelectasis\tflatdiaphragm\tlamellarpeffusion\tloculatedeffusion\tsubpulmoniceffusion\tempyema\tpleuralnodule\tpleuralmass\tdiffusepleuralthickining\tfocalpleuralthickining\tpleuralcalcification\tvisiblehumerus\tvertebra\tvertebralcompression\tcurvaturespine\tcrowdingofribs\tbonetumor\tribnotching\tblasticosseouslesion\tlyticosseouslesion\tdecreasedbonedensity\tpectusexcavatum\tpectuscarinatum\tvertebralbodyfracture\tsternumfracture\tscapulafracture\tleadlesspacemaker\tvalvereplacements\tngt\ttst\tett\tgastrictube\tfeedingtube\tcentralline\tjugularline\tsubclavianline\tpicc\tportcatheter\timplant\tcabgclips\tsternotomywires\tepicardialpacingwires\tstent\tmediastinaldrains\tpericardialdrain\tosseoushardware\ticd\tcardiaccalcification\tnonvalvularcardialcalcification\tvalvularcalcification\tprostheticvalve\tcardiacshift\tpericardialeffusion\tpericardialcyst\tcardiacsilhoutteenlargement\tperihilarhaze\tcardiophrenicangleopacity\tvesselcalcification\tbranchvesselcalcification\tcongenitalheartdisease\taorticaneurysm\taorticenlargement\taorticknucklecalcification\thilarlymphnode\thiatalhernia\tcalcifiedlymphnodes\tmediastinalmass\ttrachealstenosis\ttrachealdilation\ttrachealmass\tdilatedpulmonarytrunk\tmediastinalwidening\ttrachealnodule\tsubcutaneousemphysema\tsurgicalemphysema\tskinnodule\tskinlesion\tnippleshadow\tsofttissuemass\tsofttissuecalcification\tsofttissuetumor\teventrationofdiaphragm\textrapleuralfat\tdiphragmatichernia\tfreeairunderdiaphragm\tother\tnormal\tno_cat\tatelectasis-left\tatelectasis-right\tatelectasis-0\tatelectasis-1\tatelectasis-2\tatelectasis-3\tatelectasis-4\tatelectasis-5\tbluntedcp-left\tbluntedcp-right\tbluntedcp-0\tbluntedcp-1\tbluntedcp-2\tbluntedcp-3\tbluntedcp-4\tbluntedcp-5\tcavity-left\tcavity-right\tcavity-0\tcavity-1\tcavity-2\tcavity-3\tcavity-4\tcavity-5\tconsolidation-left\tconsolidation-right\tconsolidation-0\tconsolidation-1\tconsolidation-2\tconsolidation-3\tconsolidation-4\tconsolidation-5\tfibrosis-left\tfibrosis-right\tfibrosis-0\tfibrosis-1\tfibrosis-2\tfibrosis-3\tfibrosis-4\tfibrosis-5\tnodule-left\tnodule-right\tnodule-0\tnodule-1\tnodule-2\tnodule-3\tnodule-4\tnodule-5\tnonaorticcalcification-left\tnonaorticcalcification-right\tnonaorticcalcification-0\tnonaorticcalcification-1\tnonaorticcalcification-2\tnonaorticcalcification-3\tnonaorticcalcification-4\tnonaorticcalcification-5\topacity-left\topacity-right\topacity-0\topacity-1\topacity-2\topacity-3\topacity-4\topacity-5\tpeffusion-left\tpeffusion-right\tpeffusion-0\tpeffusion-1\tpeffusion-2\tpeffusion-3\tpeffusion-4\tpeffusion-5\tpneumothorax-left\tpneumothorax-right\tpneumothorax-0\tpneumothorax-1\tpneumothorax-2\tpneumothorax-3\tpneumothorax-4\tpneumothorax-5\traiseddiaphragm-left\traiseddiaphragm-right\traiseddiaphragm-0\traiseddiaphragm-1\traiseddiaphragm-2\traiseddiaphragm-3\traiseddiaphragm-4\traiseddiaphragm-5\thilar-left\thilar-right\thilar-0\thilar-1\thilar-2\thilar-3\thilar-4\thilar-5\n",
      "323\n"
     ]
    }
   ],
   "source": [
    "print('\\t'.join(col_names))\n",
    "print(len(col_names))"
   ]
  },
  {
   "cell_type": "code",
   "execution_count": 7,
   "metadata": {},
   "outputs": [
    {
     "name": "stdout",
     "output_type": "stream",
     "text": [
      "       airspacedisease  perihilarairspacedisease  bronchiolitis  vascularprominence  vascularcongestion  perihilarcoarsening  hilarprominence   steeplesign  peribronchialthickening  interstitialthickening  interlobularseptalthickening  tortuousaorta  hyperinflation    emphysema          copd    bronchitis      markings     pneumonia  unfoldedaorta  chroniclungdisease       abscess  airbronchogram  aircrescent   airtrapping     apicalcap  aorticcalcification  atelectasis  azygosfissure     bluntedcp        border  bronchiectasis  bronchocele         bulla  bullousemphysema  calcification     carcinoma  cardiomegaly        cavity  consolidation          cyst    degenspine  diaphragmborder         edema      effusion      fibrosis  justfibrosis  fissuralshift  fissuralthickening      fracture   oldfracture   ribfracture  ribfractureall  claviclefracture  femurfracture    granuloma   groundglass      haziness   heartborder  hydropneumothorax  juxtaphrenicpeak        kerley        lesion  \\\n",
      "count          20000.0                   20000.0        20000.0        20000.000000        20000.000000              20000.0     20000.000000  20000.000000             20000.000000            20000.000000                  20000.000000   20000.000000    20000.000000  20000.00000  20000.000000  20000.000000  20000.000000  20000.000000   20000.000000        20000.000000  20000.000000    20000.000000      20000.0  20000.000000  20000.000000         20000.000000  20000.00000   20000.000000  20000.000000  20000.000000    20000.000000      20000.0  20000.000000       20000.00000    20000.00000  20000.000000  20000.000000  20000.000000   20000.000000  20000.000000  20000.000000     20000.000000  20000.000000  20000.000000  20000.000000   20000.00000   20000.000000        20000.000000  20000.000000  20000.000000  20000.000000    20000.000000      20000.000000   20000.000000  20000.00000  20000.000000  20000.000000  20000.000000       20000.000000           20000.0  20000.000000  20000.000000   \n",
      "mean               0.0                       0.0            0.0            0.084250            0.000900                  0.0         0.033000      0.000050                 0.001200                0.002600                      0.000050       0.001050        0.004400      0.00730      0.104300      0.099100      0.098950      0.016500       0.024900            0.000550      0.000300        0.001900          0.0      0.000200      0.001200             0.021150      0.01095       0.000300      0.058450      0.010300        0.003700          0.0      0.000450           0.00025        0.02595      0.000050      0.053500      0.003600       0.047850      0.001250      0.018300         0.005400      0.001350      0.055050      0.019000       0.01660       0.000050            0.001750      0.016450      0.005750      0.004850        0.007850          0.006200       0.000450      0.00275      0.000950      0.034150      0.005700           0.000550               0.0      0.000050      0.013850   \n",
      "std                0.0                       0.0            0.0            0.277769            0.029987                  0.0         0.178641      0.007071                 0.034621                0.050925                      0.007071       0.032387        0.066188      0.08513      0.305657      0.298804      0.298602      0.127391       0.155824            0.023446      0.017318        0.043549          0.0      0.014141      0.034621             0.143888      0.10407       0.017318      0.234598      0.100967        0.060717          0.0      0.021209           0.01581        0.15899      0.007071      0.225034      0.059893       0.213454      0.035334      0.134037         0.073288      0.036718      0.228084      0.136528       0.12777       0.007071            0.041797      0.127201      0.075612      0.069475        0.088254          0.078498       0.021209      0.05237      0.030808      0.181619      0.075285           0.023446               0.0      0.007071      0.116871   \n",
      "min                0.0                       0.0            0.0            0.000000            0.000000                  0.0         0.000000      0.000000                 0.000000                0.000000                      0.000000       0.000000        0.000000      0.00000      0.000000      0.000000      0.000000      0.000000       0.000000            0.000000      0.000000        0.000000          0.0      0.000000      0.000000             0.000000      0.00000       0.000000      0.000000      0.000000        0.000000          0.0      0.000000           0.00000        0.00000      0.000000      0.000000      0.000000       0.000000      0.000000      0.000000         0.000000      0.000000      0.000000      0.000000       0.00000       0.000000            0.000000      0.000000      0.000000      0.000000        0.000000          0.000000       0.000000      0.00000      0.000000      0.000000      0.000000           0.000000               0.0      0.000000      0.000000   \n",
      "25%                0.0                       0.0            0.0            0.000000            0.000000                  0.0         0.000000      0.000000                 0.000000                0.000000                      0.000000       0.000000        0.000000      0.00000      0.000000      0.000000      0.000000      0.000000       0.000000            0.000000      0.000000        0.000000          0.0      0.000000      0.000000             0.000000      0.00000       0.000000      0.000000      0.000000        0.000000          0.0      0.000000           0.00000        0.00000      0.000000      0.000000      0.000000       0.000000      0.000000      0.000000         0.000000      0.000000      0.000000      0.000000       0.00000       0.000000            0.000000      0.000000      0.000000      0.000000        0.000000          0.000000       0.000000      0.00000      0.000000      0.000000      0.000000           0.000000               0.0      0.000000      0.000000   \n",
      "50%                0.0                       0.0            0.0            0.000000            0.000000                  0.0         0.000000      0.000000                 0.000000                0.000000                      0.000000       0.000000        0.000000      0.00000      0.000000      0.000000      0.000000      0.000000       0.000000            0.000000      0.000000        0.000000          0.0      0.000000      0.000000             0.000000      0.00000       0.000000      0.000000      0.000000        0.000000          0.0      0.000000           0.00000        0.00000      0.000000      0.000000      0.000000       0.000000      0.000000      0.000000         0.000000      0.000000      0.000000      0.000000       0.00000       0.000000            0.000000      0.000000      0.000000      0.000000        0.000000          0.000000       0.000000      0.00000      0.000000      0.000000      0.000000           0.000000               0.0      0.000000      0.000000   \n",
      "75%                0.0                       0.0            0.0            0.000000            0.000000                  0.0         0.000000      0.000000                 0.000000                0.000000                      0.000000       0.000000        0.000000      0.00000      0.000000      0.000000      0.000000      0.000000       0.000000            0.000000      0.000000        0.000000          0.0      0.000000      0.000000             0.000000      0.00000       0.000000      0.000000      0.000000        0.000000          0.0      0.000000           0.00000        0.00000      0.000000      0.000000      0.000000       0.000000      0.000000      0.000000         0.000000      0.000000      0.000000      0.000000       0.00000       0.000000            0.000000      0.000000      0.000000      0.000000        0.000000          0.000000       0.000000      0.00000      0.000000      0.000000      0.000000           0.000000               0.0      0.000000      0.000000   \n",
      "max                0.0                       0.0            0.0            1.000000            1.000000                  0.0         1.000000      1.000000                 1.000000                1.000000                      1.000000       1.000000        1.000000      1.00000      1.000000      1.000000      1.000000      1.000000       1.000000            1.000000      1.000000        1.000000          0.0      1.000000      1.000000             1.000000      1.00000       1.000000      1.000000      1.000000        1.000000          0.0      1.000000           1.00000        1.00000      1.000000      1.000000      1.000000       1.000000      1.000000      1.000000         1.000000      1.000000      1.000000      1.000000       1.00000       1.000000            1.000000      1.000000      1.000000      1.000000        1.000000          1.000000       1.000000      1.00000      1.000000      1.000000      1.000000           1.000000               0.0      1.000000      1.000000   \n",
      "\n",
      "       bullouslesion  lymphadenopathy          mass  bonemetastasis    metastases  mediastinalshift  miliarypattern        nodule  nonaorticcalcification  oligemia       opacity       density    thickening    osteopenia     pacemaker     peffusion  pleuralplaque  pleuralthickening  pneumatocele  pneumomediastinum  pneumopericardium  pneumothorax  pulmonaryfibrosis  raiseddiaphragm  tenteddiaphragm  humpdiaphragm     scoliosis         shift        suture  tensionpneumothorax  tuberculosispure  tuberculosis  trachealshift   volumeloss   cervicalrib  hilarlymphadenopathy        hernia      scarring  reticulonodularpattern  pulmonaryedema        loculi      interval  inspiration      rotation      exposure   foreignbody   lineandtube        hilar      surgery  subtle_normal  pneumoperitoneum  inhomogenousopacity  parenchymalopacity  bandlikeopacity  reticulation  reticularopacity  honeycombing  lobaratelectasis  segmentalatelectasis  prominentbronchovascularmarkings  \\\n",
      "count        20000.0     20000.000000  20000.000000    20000.000000  20000.000000      20000.000000     20000.00000  20000.000000            20000.000000   20000.0  20000.000000  20000.000000  20000.000000  20000.000000  20000.000000  20000.000000   20000.000000       20000.000000    20000.0000       20000.000000            20000.0   20000.00000        20000.00000     20000.000000     20000.000000   20000.000000  20000.000000  20000.000000  20000.000000              20000.0      20000.000000  20000.000000   20000.000000  20000.00000  20000.000000           20000.00000  20000.000000  20000.000000            20000.000000    20000.000000  20000.000000  20000.000000  20000.00000  20000.000000  20000.000000  20000.000000  20000.000000  20000.00000  20000.00000   20000.000000      20000.000000         20000.000000        20000.000000     20000.000000  20000.000000      20000.000000  20000.000000      20000.000000          20000.000000                      20000.000000   \n",
      "mean             0.0         0.005700      0.005400        0.000050      0.000800          0.003200         0.00025      0.017000                0.013050       0.0      0.192050      0.157400      0.037850      0.003150      0.002850      0.047400       0.000600           0.012400        0.0001           0.000050                0.0       0.00275            0.00025         0.005800         0.000650       0.002000      0.005250      0.006550      0.018550                  0.0          0.011600      0.225800       0.004350      0.00885      0.004100               0.00390      0.005550      0.000750                0.008750        0.001950      0.001350      0.063150      0.01740      0.031350      0.000600      0.000300      0.043550      0.03295      0.00025       0.047550          0.000500             0.033900            0.141700         0.026650      0.009250          0.008750      0.000050          0.000550              0.000700                          0.100450   \n",
      "std              0.0         0.075285      0.073288        0.007071      0.028274          0.056479         0.01581      0.129274                0.113492       0.0      0.393922      0.364187      0.190838      0.056038      0.053311      0.212498       0.024488           0.110665        0.0100           0.007071                0.0       0.05237            0.01581         0.075938         0.025487       0.044678      0.072268      0.080669      0.134933                  0.0          0.107079      0.418119       0.065813      0.09366      0.063901               0.06233      0.074293      0.027377                0.093134        0.044117      0.036718      0.243239      0.13076      0.174266      0.024488      0.017318      0.204097      0.17851      0.01581       0.212817          0.022356             0.180976            0.348751         0.161062      0.095733          0.093134      0.007071          0.023446              0.026449                          0.300607   \n",
      "min              0.0         0.000000      0.000000        0.000000      0.000000          0.000000         0.00000      0.000000                0.000000       0.0      0.000000      0.000000      0.000000      0.000000      0.000000      0.000000       0.000000           0.000000        0.0000           0.000000                0.0       0.00000            0.00000         0.000000         0.000000       0.000000      0.000000      0.000000      0.000000                  0.0          0.000000      0.000000       0.000000      0.00000      0.000000               0.00000      0.000000      0.000000                0.000000        0.000000      0.000000      0.000000      0.00000      0.000000      0.000000      0.000000      0.000000      0.00000      0.00000       0.000000          0.000000             0.000000            0.000000         0.000000      0.000000          0.000000      0.000000          0.000000              0.000000                          0.000000   \n",
      "25%              0.0         0.000000      0.000000        0.000000      0.000000          0.000000         0.00000      0.000000                0.000000       0.0      0.000000      0.000000      0.000000      0.000000      0.000000      0.000000       0.000000           0.000000        0.0000           0.000000                0.0       0.00000            0.00000         0.000000         0.000000       0.000000      0.000000      0.000000      0.000000                  0.0          0.000000      0.000000       0.000000      0.00000      0.000000               0.00000      0.000000      0.000000                0.000000        0.000000      0.000000      0.000000      0.00000      0.000000      0.000000      0.000000      0.000000      0.00000      0.00000       0.000000          0.000000             0.000000            0.000000         0.000000      0.000000          0.000000      0.000000          0.000000              0.000000                          0.000000   \n",
      "50%              0.0         0.000000      0.000000        0.000000      0.000000          0.000000         0.00000      0.000000                0.000000       0.0      0.000000      0.000000      0.000000      0.000000      0.000000      0.000000       0.000000           0.000000        0.0000           0.000000                0.0       0.00000            0.00000         0.000000         0.000000       0.000000      0.000000      0.000000      0.000000                  0.0          0.000000      0.000000       0.000000      0.00000      0.000000               0.00000      0.000000      0.000000                0.000000        0.000000      0.000000      0.000000      0.00000      0.000000      0.000000      0.000000      0.000000      0.00000      0.00000       0.000000          0.000000             0.000000            0.000000         0.000000      0.000000          0.000000      0.000000          0.000000              0.000000                          0.000000   \n",
      "75%              0.0         0.000000      0.000000        0.000000      0.000000          0.000000         0.00000      0.000000                0.000000       0.0      0.000000      0.000000      0.000000      0.000000      0.000000      0.000000       0.000000           0.000000        0.0000           0.000000                0.0       0.00000            0.00000         0.000000         0.000000       0.000000      0.000000      0.000000      0.000000                  0.0          0.000000      0.000000       0.000000      0.00000      0.000000               0.00000      0.000000      0.000000                0.000000        0.000000      0.000000      0.000000      0.00000      0.000000      0.000000      0.000000      0.000000      0.00000      0.00000       0.000000          0.000000             0.000000            0.000000         0.000000      0.000000          0.000000      0.000000          0.000000              0.000000                          0.000000   \n",
      "max              0.0         1.000000      1.000000        1.000000      1.000000          1.000000         1.00000      1.000000                1.000000       0.0      1.000000      1.000000      1.000000      1.000000      1.000000      1.000000       1.000000           1.000000        1.0000           1.000000                0.0       1.00000            1.00000         1.000000         1.000000       1.000000      1.000000      1.000000      1.000000                  0.0          1.000000      1.000000       1.000000      1.00000      1.000000               1.00000      1.000000      1.000000                1.000000        1.000000      1.000000      1.000000      1.00000      1.000000      1.000000      1.000000      1.000000      1.00000      1.00000       1.000000          1.000000             1.000000            1.000000         1.000000      1.000000          1.000000      1.000000          1.000000              1.000000                          1.000000   \n",
      "\n",
      "       interstitiallungdisease  pneumonitis  sarcoidosis  asbestosis  silicosis  pneumoconiosis    infiltrate  parenchymalcalcification  calcifiednodule  septallines  vascularindistinctness  cephalization  diffusedecreaselungdensity  bronchialdilation  dilatedtubularshapedopacity  cysticlungdisease  discoidatelectasis  flatdiaphragm  lamellarpeffusion  loculatedeffusion  subpulmoniceffusion  empyema  pleuralnodule  pleuralmass  diffusepleuralthickining  focalpleuralthickining  pleuralcalcification  visiblehumerus      vertebra  vertebralcompression  curvaturespine  crowdingofribs     bonetumor   ribnotching  blasticosseouslesion  lyticosseouslesion  decreasedbonedensity  pectusexcavatum  pectuscarinatum  vertebralbodyfracture  sternumfracture  scapulafracture  leadlesspacemaker  valvereplacements           ngt           tst           ett   gastrictube   feedingtube   centralline  jugularline  subclavianline          picc  portcatheter       implant     cabgclips  sternotomywires  \\\n",
      "count              20000.00000  20000.00000      20000.0     20000.0    20000.0         20000.0  20000.000000               20000.00000      20000.00000   20000.0000            20000.000000   20000.000000                     20000.0       20000.000000                      20000.0       20000.000000        20000.000000   20000.000000       20000.000000       20000.000000           20000.0000  20000.0   20000.000000  20000.00000                   20000.0              20000.0000          20000.000000     20000.00000  20000.000000          20000.000000         20000.0    20000.000000  20000.000000  20000.000000               20000.0             20000.0          20000.000000          20000.0          20000.0           20000.000000          20000.0     20000.000000            20000.0       20000.000000  20000.000000  20000.000000  20000.000000  20000.000000  20000.000000  20000.000000      20000.0         20000.0  20000.000000       20000.0  20000.000000  20000.000000     20000.000000   \n",
      "mean                   0.05835      0.01565          0.0         0.0        0.0             0.0      0.005000                   0.00550          0.00535       0.0001                0.000050       0.001000                         0.0           0.183350                          0.0           0.001900            0.003000       0.008100           0.000200           0.000900               0.0001      0.0       0.000400      0.00025                       0.0                  0.0001              0.001050         0.00155      0.006000              0.000300             0.0        0.001850      0.000950      0.000500                   0.0                 0.0              0.003450              0.0              0.0               0.000150              0.0         0.000300                0.0           0.000950      0.011600      0.009150      0.140150      0.011600      0.011600      0.010850          0.0             0.0      0.000550           0.0      0.000300      0.000200         0.000900   \n",
      "std                    0.23441      0.12412          0.0         0.0        0.0             0.0      0.070535                   0.07396          0.07295       0.0100                0.007071       0.031608                         0.0           0.386963                          0.0           0.043549            0.054691       0.089637           0.014141           0.029987               0.0100      0.0       0.019996      0.01581                       0.0                  0.0100              0.032387         0.03934      0.077229              0.017318             0.0        0.042973      0.030808      0.022356                   0.0                 0.0              0.058637              0.0              0.0               0.012247              0.0         0.017318                0.0           0.030808      0.107079      0.095219      0.347151      0.107079      0.107079      0.103599          0.0             0.0      0.023446           0.0      0.017318      0.014141         0.029987   \n",
      "min                    0.00000      0.00000          0.0         0.0        0.0             0.0      0.000000                   0.00000          0.00000       0.0000                0.000000       0.000000                         0.0           0.000000                          0.0           0.000000            0.000000       0.000000           0.000000           0.000000               0.0000      0.0       0.000000      0.00000                       0.0                  0.0000              0.000000         0.00000      0.000000              0.000000             0.0        0.000000      0.000000      0.000000                   0.0                 0.0              0.000000              0.0              0.0               0.000000              0.0         0.000000                0.0           0.000000      0.000000      0.000000      0.000000      0.000000      0.000000      0.000000          0.0             0.0      0.000000           0.0      0.000000      0.000000         0.000000   \n",
      "25%                    0.00000      0.00000          0.0         0.0        0.0             0.0      0.000000                   0.00000          0.00000       0.0000                0.000000       0.000000                         0.0           0.000000                          0.0           0.000000            0.000000       0.000000           0.000000           0.000000               0.0000      0.0       0.000000      0.00000                       0.0                  0.0000              0.000000         0.00000      0.000000              0.000000             0.0        0.000000      0.000000      0.000000                   0.0                 0.0              0.000000              0.0              0.0               0.000000              0.0         0.000000                0.0           0.000000      0.000000      0.000000      0.000000      0.000000      0.000000      0.000000          0.0             0.0      0.000000           0.0      0.000000      0.000000         0.000000   \n",
      "50%                    0.00000      0.00000          0.0         0.0        0.0             0.0      0.000000                   0.00000          0.00000       0.0000                0.000000       0.000000                         0.0           0.000000                          0.0           0.000000            0.000000       0.000000           0.000000           0.000000               0.0000      0.0       0.000000      0.00000                       0.0                  0.0000              0.000000         0.00000      0.000000              0.000000             0.0        0.000000      0.000000      0.000000                   0.0                 0.0              0.000000              0.0              0.0               0.000000              0.0         0.000000                0.0           0.000000      0.000000      0.000000      0.000000      0.000000      0.000000      0.000000          0.0             0.0      0.000000           0.0      0.000000      0.000000         0.000000   \n",
      "75%                    0.00000      0.00000          0.0         0.0        0.0             0.0      0.000000                   0.00000          0.00000       0.0000                0.000000       0.000000                         0.0           0.000000                          0.0           0.000000            0.000000       0.000000           0.000000           0.000000               0.0000      0.0       0.000000      0.00000                       0.0                  0.0000              0.000000         0.00000      0.000000              0.000000             0.0        0.000000      0.000000      0.000000                   0.0                 0.0              0.000000              0.0              0.0               0.000000              0.0         0.000000                0.0           0.000000      0.000000      0.000000      0.000000      0.000000      0.000000      0.000000          0.0             0.0      0.000000           0.0      0.000000      0.000000         0.000000   \n",
      "max                    1.00000      1.00000          0.0         0.0        0.0             0.0      1.000000                   1.00000          1.00000       1.0000                1.000000       1.000000                         0.0           1.000000                          0.0           1.000000            1.000000       1.000000           1.000000           1.000000               1.0000      0.0       1.000000      1.00000                       0.0                  1.0000              1.000000         1.00000      1.000000              1.000000             0.0        1.000000      1.000000      1.000000                   0.0                 0.0              1.000000              0.0              0.0               1.000000              0.0         1.000000                0.0           1.000000      1.000000      1.000000      1.000000      1.000000      1.000000      1.000000          0.0             0.0      1.000000           0.0      1.000000      1.000000         1.000000   \n",
      "\n",
      "       epicardialpacingwires         stent  mediastinaldrains  pericardialdrain  osseoushardware           icd  cardiaccalcification  nonvalvularcardialcalcification  valvularcalcification  prostheticvalve  cardiacshift  pericardialeffusion  pericardialcyst  cardiacsilhoutteenlargement  perihilarhaze  cardiophrenicangleopacity  vesselcalcification  branchvesselcalcification  congenitalheartdisease  aorticaneurysm  aorticenlargement  aorticknucklecalcification  hilarlymphnode  hiatalhernia  calcifiedlymphnodes  mediastinalmass  trachealstenosis  trachealdilation  trachealmass  dilatedpulmonarytrunk  mediastinalwidening  trachealnodule  subcutaneousemphysema  surgicalemphysema  skinnodule  skinlesion  nippleshadow  softtissuemass  softtissuecalcification  softtissuetumor  eventrationofdiaphragm  extrapleuralfat  diphragmatichernia  freeairunderdiaphragm         other        normal   no_cat  atelectasis-left  atelectasis-right  atelectasis-0  atelectasis-1  atelectasis-2  atelectasis-3  \\\n",
      "count           20000.000000  20000.000000       20000.000000      20000.000000          20000.0  20000.000000          20000.000000                     20000.000000                20000.0     20000.000000  20000.000000           20000.0000       20000.0000                 20000.000000   20000.000000               20000.000000         20000.000000                    20000.0                 20000.0    20000.000000       20000.000000                20000.000000    20000.000000       20000.0         20000.000000     20000.000000      20000.000000      20000.000000  20000.000000           20000.000000         20000.000000    20000.000000           20000.000000       20000.000000     20000.0     20000.0  20000.000000         20000.0             20000.000000       20000.0000              20000.0000          20000.0        20000.000000           20000.000000  20000.000000  20000.000000  20000.0      20000.000000       20000.000000   20000.000000    20000.00000   20000.000000   20000.000000   \n",
      "mean                0.000150      0.001400           0.000450          0.000150              0.0      0.003750              0.000650                         0.000650                    0.0         0.000750      0.017950               0.0001           0.0001                     0.000200       0.000900                   0.006500             0.000200                        0.0                     0.0        0.000050           0.117350                    0.019700        0.001050           0.0             0.000600         0.108650          0.000050          0.000300      0.000200               0.000350             0.108650        0.000050               0.000900           0.000550         0.0         0.0      0.000300             0.0                 0.001350           0.0001                  0.0001              0.0            0.000300               0.000450      0.000050      0.378650      0.0          0.001950           0.001550      -0.204400       -0.20360      -0.145600      -0.139400   \n",
      "std                 0.012247      0.037391           0.021209          0.012247              0.0      0.061124              0.025487                         0.025487                    0.0         0.027377      0.132773               0.0100           0.0100                     0.014141       0.029987                   0.080362             0.014141                        0.0                     0.0        0.007071           0.321845                    0.138971        0.032387           0.0             0.024488         0.311207          0.007071          0.017318      0.014141               0.018705             0.311207        0.007071               0.029987           0.023446         0.0         0.0      0.017318             0.0                 0.036718           0.0100                  0.0100              0.0            0.017318               0.021209      0.007071      0.485063      0.0          0.712019           0.711739       4.523256        4.52338       3.870911       3.739233   \n",
      "min                 0.000000      0.000000           0.000000          0.000000              0.0      0.000000              0.000000                         0.000000                    0.0         0.000000      0.000000               0.0000           0.0000                     0.000000       0.000000                   0.000000             0.000000                        0.0                     0.0        0.000000           0.000000                    0.000000        0.000000           0.0             0.000000         0.000000          0.000000          0.000000      0.000000               0.000000             0.000000        0.000000               0.000000           0.000000         0.0         0.0      0.000000             0.0                 0.000000           0.0000                  0.0000              0.0            0.000000               0.000000      0.000000      0.000000      0.0       -100.000000        -100.000000    -100.000000     -100.00000    -100.000000    -100.000000   \n",
      "25%                 0.000000      0.000000           0.000000          0.000000              0.0      0.000000              0.000000                         0.000000                    0.0         0.000000      0.000000               0.0000           0.0000                     0.000000       0.000000                   0.000000             0.000000                        0.0                     0.0        0.000000           0.000000                    0.000000        0.000000           0.0             0.000000         0.000000          0.000000          0.000000      0.000000               0.000000             0.000000        0.000000               0.000000           0.000000         0.0         0.0      0.000000             0.0                 0.000000           0.0000                  0.0000              0.0            0.000000               0.000000      0.000000      0.000000      0.0          0.000000           0.000000       0.000000        0.00000       0.000000       0.000000   \n",
      "50%                 0.000000      0.000000           0.000000          0.000000              0.0      0.000000              0.000000                         0.000000                    0.0         0.000000      0.000000               0.0000           0.0000                     0.000000       0.000000                   0.000000             0.000000                        0.0                     0.0        0.000000           0.000000                    0.000000        0.000000           0.0             0.000000         0.000000          0.000000          0.000000      0.000000               0.000000             0.000000        0.000000               0.000000           0.000000         0.0         0.0      0.000000             0.0                 0.000000           0.0000                  0.0000              0.0            0.000000               0.000000      0.000000      0.000000      0.0          0.000000           0.000000       0.000000        0.00000       0.000000       0.000000   \n",
      "75%                 0.000000      0.000000           0.000000          0.000000              0.0      0.000000              0.000000                         0.000000                    0.0         0.000000      0.000000               0.0000           0.0000                     0.000000       0.000000                   0.000000             0.000000                        0.0                     0.0        0.000000           0.000000                    0.000000        0.000000           0.0             0.000000         0.000000          0.000000          0.000000      0.000000               0.000000             0.000000        0.000000               0.000000           0.000000         0.0         0.0      0.000000             0.0                 0.000000           0.0000                  0.0000              0.0            0.000000               0.000000      0.000000      1.000000      0.0          0.000000           0.000000       0.000000        0.00000       0.000000       0.000000   \n",
      "max                 1.000000      1.000000           1.000000          1.000000              0.0      1.000000              1.000000                         1.000000                    0.0         1.000000      1.000000               1.0000           1.0000                     1.000000       1.000000                   1.000000             1.000000                        0.0                     0.0        1.000000           1.000000                    1.000000        1.000000           0.0             1.000000         1.000000          1.000000          1.000000      1.000000               1.000000             1.000000        1.000000               1.000000           1.000000         0.0         0.0      1.000000             0.0                 1.000000           1.0000                  1.0000              0.0            1.000000               1.000000      1.000000      1.000000      0.0          1.000000           1.000000       1.000000        1.00000       1.000000       1.000000   \n",
      "\n",
      "       atelectasis-4  atelectasis-5  bluntedcp-left  bluntedcp-right   bluntedcp-0   bluntedcp-1   bluntedcp-2   bluntedcp-3   bluntedcp-4   bluntedcp-5   cavity-left  cavity-right      cavity-0      cavity-1      cavity-2      cavity-3      cavity-4      cavity-5  consolidation-left  consolidation-right  consolidation-0  consolidation-1  consolidation-2  consolidation-3  consolidation-4  consolidation-5  fibrosis-left  fibrosis-right    fibrosis-0    fibrosis-1    fibrosis-2    fibrosis-3    fibrosis-4   fibrosis-5   nodule-left  nodule-right     nodule-0     nodule-1      nodule-2      nodule-3      nodule-4      nodule-5  nonaorticcalcification-left  nonaorticcalcification-right  nonaorticcalcification-0  nonaorticcalcification-1  nonaorticcalcification-2  nonaorticcalcification-3  nonaorticcalcification-4  nonaorticcalcification-5  opacity-left  opacity-right     opacity-0     opacity-1     opacity-2     opacity-3     opacity-4     opacity-5  peffusion-left  peffusion-right  \\\n",
      "count   20000.000000   20000.000000    20000.000000     20000.000000  20000.000000  20000.000000  20000.000000  20000.000000  20000.000000  20000.000000  20000.000000  20000.000000  20000.000000  20000.000000  20000.000000  20000.000000  20000.000000  20000.000000        20000.000000         20000.000000     20000.000000     20000.000000     20000.000000      20000.00000     20000.000000     20000.000000   20000.000000    20000.000000  20000.000000  20000.000000  20000.000000  20000.000000  20000.000000  20000.00000  20000.000000  20000.000000  20000.00000  20000.00000  20000.000000  20000.000000  20000.000000  20000.000000                 20000.000000                  20000.000000              20000.000000              20000.000000              20000.000000              20000.000000              20000.000000              20000.000000  20000.000000    20000.00000  20000.000000  20000.000000  20000.000000  20000.000000  20000.000000  20000.000000    20000.000000     20000.000000   \n",
      "mean       -0.133500      -0.120950       -0.210100        -0.214300     -0.250000     -0.250000     -0.210100     -0.250000     -0.250000     -0.214300     -0.003150     -0.002600     -0.003900     -0.004300     -0.004550     -0.013450     -0.009300     -0.014500           -0.082550            -0.073700        -0.822950        -0.710550        -0.734300         -0.80420        -0.704500        -0.738400      -0.013200       -0.009400     -0.247900     -0.262450     -0.263250     -0.229750     -0.250700     -0.25290     -0.054000     -0.051950     -0.33685     -0.33490     -0.338850     -0.350750     -0.349750     -0.358200                    -0.151750                     -0.151850                 -0.330800                 -0.332750                 -0.348600                 -0.285650                 -0.292400                 -0.293650     -0.871300       -0.85300     -4.484200     -4.371400     -4.072800     -4.334600     -4.245400     -3.964300       -0.109900        -0.110000   \n",
      "std         3.672105       3.534126        4.999701         4.999102      4.993871      4.993871      4.999701      4.993871      4.993871      4.999102      0.708424      0.708815      0.707891      0.707606      0.707428      1.225334      1.000332      1.224894            3.319817             3.321358         9.073804         8.456249         8.600884          8.99267         8.427202         8.658817       1.584851        1.586076      5.044494      5.141497      5.141378      4.894759      5.044078      5.04375      2.551158      2.551603      5.82163      5.82191      5.821342      5.948361      5.948504      5.989598                     3.998252                      3.998236                  5.778965                  5.778685                  5.906067                  5.378122                  5.423889                  5.423706      9.943313        9.94582     20.771238     20.541435     19.899354     20.463934     20.274164     19.668868        3.744159         3.744142   \n",
      "min      -100.000000    -100.000000     -100.000000      -100.000000   -100.000000   -100.000000   -100.000000   -100.000000   -100.000000   -100.000000   -100.000000   -100.000000   -100.000000   -100.000000   -100.000000   -100.000000   -100.000000   -100.000000         -100.000000          -100.000000      -100.000000      -100.000000      -100.000000       -100.00000      -100.000000      -100.000000    -100.000000     -100.000000   -100.000000   -100.000000   -100.000000   -100.000000   -100.000000   -100.00000   -100.000000   -100.000000   -100.00000   -100.00000   -100.000000   -100.000000   -100.000000   -100.000000                  -100.000000                   -100.000000               -100.000000               -100.000000               -100.000000               -100.000000               -100.000000               -100.000000   -100.000000     -100.00000   -100.000000   -100.000000   -100.000000   -100.000000   -100.000000   -100.000000     -100.000000      -100.000000   \n",
      "25%         0.000000       0.000000        0.000000         0.000000      0.000000      0.000000      0.000000      0.000000      0.000000      0.000000      0.000000      0.000000      0.000000      0.000000      0.000000      0.000000      0.000000      0.000000            0.000000             0.000000         0.000000         0.000000         0.000000          0.00000         0.000000         0.000000       0.000000        0.000000      0.000000      0.000000      0.000000      0.000000      0.000000      0.00000      0.000000      0.000000      0.00000      0.00000      0.000000      0.000000      0.000000      0.000000                     0.000000                      0.000000                  0.000000                  0.000000                  0.000000                  0.000000                  0.000000                  0.000000      0.000000        0.00000      0.000000      0.000000      0.000000      0.000000      0.000000      0.000000        0.000000         0.000000   \n",
      "50%         0.000000       0.000000        0.000000         0.000000      0.000000      0.000000      0.000000      0.000000      0.000000      0.000000      0.000000      0.000000      0.000000      0.000000      0.000000      0.000000      0.000000      0.000000            0.000000             0.000000         0.000000         0.000000         0.000000          0.00000         0.000000         0.000000       0.000000        0.000000      0.000000      0.000000      0.000000      0.000000      0.000000      0.00000      0.000000      0.000000      0.00000      0.00000      0.000000      0.000000      0.000000      0.000000                     0.000000                      0.000000                  0.000000                  0.000000                  0.000000                  0.000000                  0.000000                  0.000000      0.000000        0.00000      0.000000      0.000000      0.000000      0.000000      0.000000      0.000000        0.000000         0.000000   \n",
      "75%         0.000000       0.000000        0.000000         0.000000      0.000000      0.000000      0.000000      0.000000      0.000000      0.000000      0.000000      0.000000      0.000000      0.000000      0.000000      0.000000      0.000000      0.000000            0.000000             0.000000         0.000000         0.000000         0.000000          0.00000         0.000000         0.000000       0.000000        0.000000      0.000000      0.000000      0.000000      0.000000      0.000000      0.00000      0.000000      0.000000      0.00000      0.00000      0.000000      0.000000      0.000000      0.000000                     0.000000                      0.000000                  0.000000                  0.000000                  0.000000                  0.000000                  0.000000                  0.000000      0.000000        0.00000      0.000000      0.000000      0.000000      0.000000      0.000000      0.000000        0.000000         0.000000   \n",
      "max         1.000000       1.000000        1.000000         1.000000      0.000000      0.000000      1.000000      0.000000      0.000000      1.000000      1.000000      1.000000      1.000000      1.000000      1.000000      1.000000      1.000000      1.000000            1.000000             1.000000         1.000000         1.000000         1.000000          1.00000         1.000000         1.000000       1.000000        1.000000      1.000000      1.000000      1.000000      1.000000      1.000000      1.00000      1.000000      1.000000      1.00000      1.00000      1.000000      1.000000      1.000000      1.000000                     1.000000                      1.000000                  1.000000                  1.000000                  1.000000                  1.000000                  1.000000                  1.000000      1.000000        1.00000      1.000000      1.000000      1.000000      1.000000      1.000000      1.000000        1.000000         1.000000   \n",
      "\n",
      "        peffusion-0   peffusion-1   peffusion-2   peffusion-3   peffusion-4   peffusion-5  pneumothorax-left  pneumothorax-right  pneumothorax-0  pneumothorax-1  pneumothorax-2  pneumothorax-3  pneumothorax-4  pneumothorax-5  raiseddiaphragm-left  raiseddiaphragm-right  raiseddiaphragm-0  raiseddiaphragm-1  raiseddiaphragm-2  raiseddiaphragm-3  raiseddiaphragm-4  raiseddiaphragm-5    hilar-left   hilar-right       hilar-0       hilar-1       hilar-2       hilar-3       hilar-4       hilar-5  \n",
      "count  20000.000000  20000.000000  20000.000000  20000.000000  20000.000000  20000.000000       20000.000000        20000.000000    20000.000000    20000.000000    20000.000000    20000.000000    20000.000000    20000.000000           20000.00000           20000.000000       20000.000000       20000.000000       20000.000000       20000.000000       20000.000000        20000.00000  20000.000000  20000.000000  20000.000000  20000.000000  20000.000000  20000.000000  20000.000000  20000.000000  \n",
      "mean      -0.140000     -0.140000     -0.109900     -0.140000     -0.140000     -0.110000          -0.013350           -0.014000       -0.119600       -0.119900       -0.119650       -0.069800       -0.074900       -0.069700               0.00155               0.004450          -0.100000          -0.089350          -0.099950          -0.329900          -0.323800           -0.31465     -0.426300     -0.423600     -0.679750     -0.441650     -0.669400     -0.679900     -0.428850     -0.674300  \n",
      "std        3.739131      3.739131      3.744159      3.739131      3.739131      3.744142           1.225376            1.225104        3.462181        3.462127        3.462172        2.644934        2.737675        2.644956               0.03934               0.066561           3.160775           2.998852           3.160785           5.735234           5.691922            5.60383      6.696582      6.696955      8.218368      6.806659      8.158176      8.218346      6.733833      8.188368  \n",
      "min     -100.000000   -100.000000   -100.000000   -100.000000   -100.000000   -100.000000        -100.000000         -100.000000     -100.000000     -100.000000     -100.000000     -100.000000     -100.000000     -100.000000               0.00000               0.000000        -100.000000        -100.000000        -100.000000        -100.000000        -100.000000         -100.00000   -100.000000   -100.000000   -100.000000   -100.000000   -100.000000   -100.000000   -100.000000   -100.000000  \n",
      "25%        0.000000      0.000000      0.000000      0.000000      0.000000      0.000000           0.000000            0.000000        0.000000        0.000000        0.000000        0.000000        0.000000        0.000000               0.00000               0.000000           0.000000           0.000000           0.000000           0.000000           0.000000            0.00000      0.000000      0.000000      0.000000      0.000000      0.000000      0.000000      0.000000      0.000000  \n",
      "50%        0.000000      0.000000      0.000000      0.000000      0.000000      0.000000           0.000000            0.000000        0.000000        0.000000        0.000000        0.000000        0.000000        0.000000               0.00000               0.000000           0.000000           0.000000           0.000000           0.000000           0.000000            0.00000      0.000000      0.000000      0.000000      0.000000      0.000000      0.000000      0.000000      0.000000  \n",
      "75%        0.000000      0.000000      0.000000      0.000000      0.000000      0.000000           0.000000            0.000000        0.000000        0.000000        0.000000        0.000000        0.000000        0.000000               0.00000               0.000000           0.000000           0.000000           0.000000           0.000000           0.000000            0.00000      0.000000      0.000000      0.000000      0.000000      0.000000      0.000000      0.000000      0.000000  \n",
      "max        0.000000      0.000000      1.000000      0.000000      0.000000      1.000000           1.000000            1.000000        1.000000        1.000000        1.000000        1.000000        1.000000        1.000000               1.00000               1.000000           0.000000           1.000000           1.000000           1.000000           1.000000            1.00000      1.000000      1.000000      1.000000      1.000000      1.000000      1.000000      1.000000      1.000000  \n",
      "                                            filename  airspacedisease  perihilarairspacedisease  bronchiolitis  vascularprominence  vascularcongestion  perihilarcoarsening  hilarprominence  steeplesign  peribronchialthickening  interstitialthickening  interlobularseptalthickening  tortuousaorta  hyperinflation  emphysema  copd  bronchitis  markings  pneumonia  unfoldedaorta  chroniclungdisease  abscess  airbronchogram  aircrescent  airtrapping  apicalcap  aorticcalcification  atelectasis  azygosfissure  bluntedcp  border  bronchiectasis  bronchocele  bulla  bullousemphysema  calcification  carcinoma  cardiomegaly  cavity  consolidation  cyst  degenspine  diaphragmborder  edema  effusion  fibrosis  justfibrosis  fissuralshift  fissuralthickening  fracture  oldfracture  ribfracture  ribfractureall  claviclefracture  femurfracture  granuloma  groundglass  haziness  heartborder  hydropneumothorax  juxtaphrenicpeak  kerley  lesion  bullouslesion  lymphadenopathy  mass  bonemetastasis  \\\n",
      "0  /cache/fast_data121/ChestXRays/krsnaa_extracte...                0                         0              0                   0                   0                    0                0            0                        0                       0                             0              0               0          0     0           0         0          0              0                   0        0               0            0            0          0                    0            0              0          0       0               0            0      0                 0              0          0             1       0              0     0           0                0      0         0         0             0              0                   0         0            0            0               0                 0              0          0            0         0            0                  0                 0       0       0              0                0     0               0   \n",
      "1  /cache/fast_data5_2/processed/ChestXRays/repor...                0                         0              0                   0                   0                    0                0            0                        0                       0                             0              0               0          0     0           0         0          0              0                   0        0               0            0            0          0                    0            0              0          0       0               0            0      0                 0              0          0             0       0              0     0           0                0      0         0         0             0              0                   0         0            0            0               0                 0              0          0            0         0            0                  0                 0       0       0              0                0     0               0   \n",
      "2  /cache/fast_data5_2/processed/ChestXRays/repor...                0                         0              0                   0                   0                    0                0            0                        0                       0                             0              0               0          0     0           0         0          0              0                   0        0               0            0            0          0                    0            0              0          0       0               0            0      0                 0              0          0             0       0              0     0           0                0      0         0         0             0              0                   0         0            0            0               0                 0              0          0            0         0            0                  0                 0       0       0              0                0     0               0   \n",
      "3  /cache/fast_data5_2/processed/ChestXRays/repor...                0                         0              0                   0                   0                    0                0            0                        0                       0                             0              0               0          0     0           0         0          0              0                   0        0               0            0            0          0                    0            0              0          0       0               0            0      0                 0              0          0             0       0              0     0           0                0      0         0         0             0              0                   0         0            0            0               0                 0              0          0            0         0            0                  0                 0       0       0              0                0     0               0   \n",
      "4  /cache/fast_data5_2/processed/ChestXRays/repor...                0                         0              0                   0                   0                    0                0            0                        0                       0                             0              0               0          0     0           0         0          0              0                   0        0               0            0            0          0                    0            0              0          0       0               0            0      0                 0              0          0             0       0              0     0           0                0      0         0         0             0              0                   0         0            0            0               0                 0              0          0            0         0            0                  0                 0       0       0              0                0     0               0   \n",
      "\n",
      "   metastases  mediastinalshift  miliarypattern  nodule  nonaorticcalcification  oligemia  opacity  density  thickening  osteopenia  pacemaker  peffusion  pleuralplaque  pleuralthickening  pneumatocele  pneumomediastinum  pneumopericardium  pneumothorax  pulmonaryfibrosis  raiseddiaphragm  tenteddiaphragm  humpdiaphragm  scoliosis  shift  suture  tensionpneumothorax  tuberculosispure  tuberculosis  trachealshift  volumeloss  cervicalrib  hilarlymphadenopathy  hernia  scarring  reticulonodularpattern  pulmonaryedema  loculi  interval  inspiration  rotation  exposure  foreignbody  lineandtube  hilar  surgery  subtle_normal  pneumoperitoneum  inhomogenousopacity  parenchymalopacity  bandlikeopacity  reticulation  reticularopacity  honeycombing  lobaratelectasis  segmentalatelectasis  prominentbronchovascularmarkings  interstitiallungdisease  pneumonitis  sarcoidosis  asbestosis  silicosis  pneumoconiosis  infiltrate  parenchymalcalcification  calcifiednodule  septallines  \\\n",
      "0           0                 0               0       0                       0         0        0        1           0           0          0          0              0                  0             0                  0                  0             0                  0                0                0              0          0      0       0                    0                 0             0              0           0            0                     0       0         0                       0               0       0         0            0         0         0            0            0      0        0              0                 0                    0                   0                0             0                 0             0                 0                     0                                 0                        0            0            0           0          0               0           0                         0                0            0   \n",
      "1           0                 0               0       0                       0         0        0        0           0           0          0          0              0                  0             0                  0                  0             0                  0                0                0              0          0      0       0                    0                 0             0              0           0            0                     0       0         0                       0               0       0         0            0         0         0            0            0      0        0              0                 0                    0                   0                0             0                 0             0                 0                     0                                 0                        0            0            0           0          0               0           0                         0                0            0   \n",
      "2           0                 0               0       0                       0         0        1        0           0           0          0          0              0                  0             0                  0                  0             0                  0                0                0              0          0      0       0                    0                 0             1              0           0            0                     0       0         0                       0               0       0         1            0         0         0            0            0      0        0              0                 0                    0                   0                0             0                 0             0                 0                     0                                 0                        0            0            0           0          0               0           0                         0                0            0   \n",
      "3           0                 0               0       0                       0         0        0        0           0           0          0          0              0                  0             0                  0                  0             0                  0                0                0              0          0      0       0                    0                 0             0              0           0            0                     0       0         0                       0               0       0         0            0         0         0            0            0      0        0              0                 0                    0                   0                0             0                 0             0                 0                     0                                 0                        0            0            0           0          0               0           0                         0                0            0   \n",
      "4           0                 0               0       0                       0         0        0        0           0           0          0          0              0                  0             0                  0                  0             0                  0                0                0              0          0      0       0                    0                 0             0              0           0            0                     0       0         0                       0               0       0         0            0         0         0            0            0      0        0              0                 0                    0                   0                0             0                 0             0                 0                     0                                 0                        0            0            0           0          0               0           0                         0                0            0   \n",
      "\n",
      "   vascularindistinctness  cephalization  diffusedecreaselungdensity  bronchialdilation  dilatedtubularshapedopacity  cysticlungdisease  discoidatelectasis  flatdiaphragm  lamellarpeffusion  loculatedeffusion  subpulmoniceffusion  empyema  pleuralnodule  pleuralmass  diffusepleuralthickining  focalpleuralthickining  pleuralcalcification  visiblehumerus  vertebra  vertebralcompression  curvaturespine  crowdingofribs  bonetumor  ribnotching  blasticosseouslesion  lyticosseouslesion  decreasedbonedensity  pectusexcavatum  pectuscarinatum  vertebralbodyfracture  sternumfracture  scapulafracture  leadlesspacemaker  valvereplacements  ngt  tst  ett  gastrictube  feedingtube  centralline  jugularline  subclavianline  picc  portcatheter  implant  cabgclips  sternotomywires  epicardialpacingwires  stent  mediastinaldrains  pericardialdrain  osseoushardware  icd  cardiaccalcification  nonvalvularcardialcalcification  valvularcalcification  prostheticvalve  cardiacshift  pericardialeffusion  \\\n",
      "0                       0              0                           0                  0                            0                  0                   0              0                  0                  0                    0        0              0            0                         0                       0                     0               0         0                     0               0               0          0            0                     0                   0                     0                0                0                      0                0                0                  0                  0    0    0    0            0            0            0            0               0     0             0        0          0                0                      0      0                  0                 0                0    0                     0                                0                      0                0             0                    0   \n",
      "1                       0              0                           0                  0                            0                  0                   0              0                  0                  0                    0        0              0            0                         0                       0                     0               0         0                     0               0               0          0            0                     0                   0                     0                0                0                      0                0                0                  0                  0    0    0    0            0            0            0            0               0     0             0        0          0                0                      0      0                  0                 0                0    0                     0                                0                      0                0             0                    0   \n",
      "2                       0              0                           0                  1                            0                  0                   0              0                  0                  0                    0        0              0            0                         0                       0                     0               0         0                     0               0               0          0            0                     0                   0                     0                0                0                      0                0                0                  0                  0    0    0    0            0            0            0            0               0     0             0        0          0                0                      0      0                  0                 0                0    0                     0                                0                      0                0             0                    0   \n",
      "3                       0              0                           0                  0                            0                  0                   0              0                  0                  0                    0        0              0            0                         0                       0                     0               0         0                     0               0               0          0            0                     0                   0                     0                0                0                      0                0                0                  0                  0    0    0    0            0            0            0            0               0     0             0        0          0                0                      0      0                  0                 0                0    0                     0                                0                      0                0             0                    0   \n",
      "4                       0              0                           0                  0                            0                  0                   0              0                  0                  0                    0        0              0            0                         0                       0                     0               0         0                     0               0               0          0            0                     0                   0                     0                0                0                      0                0                0                  0                  0    0    0    0            0            0            0            0               0     0             0        0          0                0                      0      0                  0                 0                0    0                     0                                0                      0                0             0                    0   \n",
      "\n",
      "   pericardialcyst  cardiacsilhoutteenlargement  perihilarhaze  cardiophrenicangleopacity  vesselcalcification  branchvesselcalcification  congenitalheartdisease  aorticaneurysm  aorticenlargement  aorticknucklecalcification  hilarlymphnode  hiatalhernia  calcifiedlymphnodes  mediastinalmass  trachealstenosis  trachealdilation  trachealmass  dilatedpulmonarytrunk  mediastinalwidening  trachealnodule  subcutaneousemphysema  surgicalemphysema  skinnodule  skinlesion  nippleshadow  softtissuemass  softtissuecalcification  softtissuetumor  eventrationofdiaphragm  extrapleuralfat  diphragmatichernia  freeairunderdiaphragm  other  normal  no_cat  atelectasis-left  atelectasis-right  atelectasis-0  atelectasis-1  atelectasis-2  atelectasis-3  atelectasis-4  atelectasis-5  bluntedcp-left  bluntedcp-right  bluntedcp-0  bluntedcp-1  bluntedcp-2  bluntedcp-3  bluntedcp-4  bluntedcp-5  cavity-left  cavity-right  cavity-0  cavity-1  cavity-2  cavity-3  cavity-4  cavity-5  consolidation-left  \\\n",
      "0                0                            0              0                          0                    0                          0                       0               0                  1                           0               0             0                    0                0                 0                 0             0                      0                    0               0                      0                  0           0           0             0               0                        0                0                       0                0                   0                      0      0       0       0                 0                  0              0              0              0              0              0              0               0                0            0            0            0            0            0            0            0             0         0         0         0         0         0         0                   0   \n",
      "1                0                            0              0                          0                    0                          0                       0               0                  1                           0               0             0                    0                0                 0                 0             0                      0                    0               0                      0                  0           0           0             0               0                        0                0                       0                0                   0                      0      0       0       0                 0                  0              0              0              0              0              0              0               0                0            0            0            0            0            0            0            0             0         0         0         0         0         0         0                   0   \n",
      "2                0                            0              0                          0                    0                          0                       0               0                  0                           0               0             0                    0                0                 0                 0             0                      0                    0               0                      0                  0           0           0             0               0                        0                0                       0                0                   0                      0      0       0       0                 0                  0              0              0              0              0              0              0               0                0            0            0            0            0            0            0            0             0         0         0         0         0         0         0                   0   \n",
      "3                0                            0              0                          0                    0                          0                       0               0                  0                           0               0             0                    0                0                 0                 0             0                      0                    0               0                      0                  0           0           0             0               0                        0                0                       0                0                   0                      0      0       1       0                 0                  0              0              0              0              0              0              0               0                0            0            0            0            0            0            0            0             0         0         0         0         0         0         0                   0   \n",
      "4                0                            0              0                          0                    0                          0                       0               0                  0                           0               0             0                    0                0                 0                 0             0                      0                    0               0                      0                  0           0           0             0               0                        0                0                       0                0                   0                      0      0       1       0                 0                  0              0              0              0              0              0              0               0                0            0            0            0            0            0            0            0             0         0         0         0         0         0         0                   0   \n",
      "\n",
      "   consolidation-right  consolidation-0  consolidation-1  consolidation-2  consolidation-3  consolidation-4  consolidation-5  fibrosis-left  fibrosis-right  fibrosis-0  fibrosis-1  fibrosis-2  fibrosis-3  fibrosis-4  fibrosis-5  nodule-left  nodule-right  nodule-0  nodule-1  nodule-2  nodule-3  nodule-4  nodule-5  nonaorticcalcification-left  nonaorticcalcification-right  nonaorticcalcification-0  nonaorticcalcification-1  nonaorticcalcification-2  nonaorticcalcification-3  nonaorticcalcification-4  nonaorticcalcification-5  opacity-left  opacity-right  opacity-0  opacity-1  opacity-2  opacity-3  opacity-4  opacity-5  peffusion-left  peffusion-right  peffusion-0  peffusion-1  peffusion-2  peffusion-3  peffusion-4  peffusion-5  pneumothorax-left  pneumothorax-right  pneumothorax-0  pneumothorax-1  pneumothorax-2  pneumothorax-3  pneumothorax-4  pneumothorax-5  raiseddiaphragm-left  raiseddiaphragm-right  raiseddiaphragm-0  raiseddiaphragm-1  raiseddiaphragm-2  raiseddiaphragm-3  \\\n",
      "0                    0                0                0                0                0                0                0              0               0           0           0           0           0           0           0            0             0         0         0         0         0         0         0                            0                             0                         0                         0                         0                         0                         0                         0             0              0          0          0          0          0          0          0               0                0            0            0            0            0            0            0                  0                   0               0               0               0               0               0               0                     0                      0                  0                  0                  0                  0   \n",
      "1                    0                0                0                0                0                0                0              0               0           0           0           0           0           0           0            0             0         0         0         0         0         0         0                            0                             0                         0                         0                         0                         0                         0                         0             0              0          0          0          0          0          0          0               0                0            0            0            0            0            0            0                  0                   0               0               0               0               0               0               0                     0                      0                  0                  0                  0                  0   \n",
      "2                    0                0                0                0                0                0                0              0               0           0           0           0           0           0           0            0             0         0         0         0         0         0         0                            0                             0                         0                         0                         0                         0                         0                         0          -100           -100       -100       -100       -100       -100       -100       -100               0                0            0            0            0            0            0            0                  0                   0               0               0               0               0               0               0                     0                      0                  0                  0                  0                  0   \n",
      "3                    0                0                0                0                0                0                0              0               0           0           0           0           0           0           0            0             0         0         0         0         0         0         0                            0                             0                         0                         0                         0                         0                         0                         0             0              0          0          0          0          0          0          0               0                0            0            0            0            0            0            0                  0                   0               0               0               0               0               0               0                     0                      0                  0                  0                  0                  0   \n",
      "4                    0                0                0                0                0                0                0              0               0           0           0           0           0           0           0            0             0         0         0         0         0         0         0                            0                             0                         0                         0                         0                         0                         0                         0             0              0          0          0          0          0          0          0               0                0            0            0            0            0            0            0                  0                   0               0               0               0               0               0               0                     0                      0                  0                  0                  0                  0   \n",
      "\n",
      "   raiseddiaphragm-4  raiseddiaphragm-5  hilar-left  hilar-right  hilar-0  hilar-1  hilar-2  hilar-3  hilar-4  hilar-5  \n",
      "0                  0                  0           0            0        0        0        0        0        0        0  \n",
      "1                  0                  0           0            0        0        0        0        0        0        0  \n",
      "2                  0                  0           0            0        0        0        0        0        0        0  \n",
      "3                  0                  0           0            0        0        0        0        0        0        0  \n",
      "4                  0                  0           0            0        0        0        0        0        0        0  \n"
     ]
    }
   ],
   "source": [
    "print(tags_df.describe())\n",
    "print(tags_df.head())"
   ]
  },
  {
   "cell_type": "code",
   "execution_count": 8,
   "metadata": {},
   "outputs": [],
   "source": [
    "tag_values = tags_df.values[:, 1:]"
   ]
  },
  {
   "cell_type": "code",
   "execution_count": 9,
   "metadata": {},
   "outputs": [
    {
     "name": "stdout",
     "output_type": "stream",
     "text": [
      "(20000, 322)\n",
      "[-100 -100 -100 ... -100 -100 -100]\n",
      "9820\n",
      "{-100}\n"
     ]
    }
   ],
   "source": [
    "print(tag_values.shape)\n",
    "zero_one_mask = (tag_values == 0) | (tag_values == 1)\n",
    "non_01_vals = tag_values[~zero_one_mask]\n",
    "print(non_01_vals)\n",
    "print(len(non_01_vals))\n",
    "print(set(non_01_vals))\n"
   ]
  },
  {
   "cell_type": "code",
   "execution_count": 19,
   "metadata": {},
   "outputs": [
    {
     "name": "stdout",
     "output_type": "stream",
     "text": [
      "/cache/fast_data5_2/processed/ChestXRays/reports/training/medall.1.2.840.10008.1.148294.90595499.1058233911.600245613\n",
      "[0, 0, 0, 0, 0, 0, 0, 0, 0, 0, 0, 0, 0, 0, 0, 0, 0, 0, 0, 0, 0, 0, 0, 0, 0, 0, 0, 0, 0, 0, 0, 0, 0, 0, 0, 0, 0, 0, 0, 0, 0, 0, 0, 0, 0, 0, 0, 0, 0, 0, 0, 0, 0, 0, 0, 0, 0, 0, 0, 0, 0, 0, 0, 0, 0, 0, 0, 0, 0, 0, 0, 0, 0, 0, 0, 0, 0, 0, 0, 0, 0, 0, 0, 0, 0, 0, 0, 0, 0, 0, 0, 0, 0, 0, 0, 0, 0, 0, 0, 0, 0, 0, 0, 0, 0, 0, 0, 0, 0, 0, 0, 0, 0, 0, 0, 0, 0, 0, 0, 0, 0, 0, 0, 0, 0, 0, 0, 0, 0, 0, 0, 0, 0, 0, 0, 0, 0, 0, 0, 0, 0, 0, 0, 0, 0, 0, 0, 0, 0, 0, 0, 0, 0, 0, 0, 0, 0, 0, 0, 0, 0, 0, 0, 0, 0, 0, 0, 0, 0, 0, 0, 0, 0, 0, 0, 0, 0, 0, 0, 0, 0, 0, 0, 0, 0, 0, 0, 0, 0, 0, 0, 0, 0, 0, 0, 0, 0, 0, 0, 1, 0, 0, 0, 0, 0, 0, 0, 0, 0, 0, 0, 0, 0, 0, 0, 0, 0, 0, 0, 0, 0, 0, 0, 0, 0, 0, 0, 0, 0, 0, 0, 0, 0, 0, 0, 0, 0, 0, 0, 0, 0, 0, 0, 0, 0, 0, 0, 0, 0, 0, 0, 0, 0, 0, 0, 0, 0, 0, 0, 0, 0, 0, 0, 0, 0, 0, 0, 0, 0, 0, 0, 0, 0, 0, 0, 0, 0, 0, 0, 0, 0, 0, 0, 0, 0, 0, 0, 0, 0, 0, 0, 0, 0, 0, 0, 0, 0, 0, 0, 0, 0, 0, 0, 0, 0, 0, 0, 0, 0, 0, 0, 0, 0, 0, 0, 0, 0, 0, 0, 0, 0, 0]\n",
      "322\n"
     ]
    }
   ],
   "source": [
    "index=1\n",
    "print(tags_df.iloc[index, 0])\n",
    "print(list(tags_df.iloc[index][1:]))\n",
    "print(len(list(tags_df.iloc[index][1:])))"
   ]
  },
  {
   "cell_type": "code",
   "execution_count": 26,
   "metadata": {},
   "outputs": [
    {
     "data": {
      "text/plain": [
       "'X-RAY CHEST (PA VIEW)\\n\\nThe heart size and configuration are within normal limits. The aortic arch is normal.\\n\\nThe lung fields show normal broncho-vascular markings.\\n\\nBoth the pulmonary hila are normal in size.\\n\\nThe costophrenic and cardiophrenic recesses and the domes of diaphragm are normal.\\n\\nThe bones and soft tissues of the chest wall show no abnormality.\\n\\nIMPRESSION: \\n\\nvNormal study.\\n\\n\\n\\nrs DR. ARUNAN MURALI, MD (RD) \\nConsultant Radiologist \\n\\n\\n\\n\\n\\n\\n\\n\\n________________________________________________________'"
      ]
     },
     "execution_count": 26,
     "metadata": {},
     "output_type": "execute_result"
    }
   ],
   "source": [
    "base_path = \"/models_common_e2e/cxr_data/reports/training\"\n",
    "open(os.path.join(base_path, tags_df.iloc[1, 0].split('/')[-1]) + '.txt').read()"
   ]
  },
  {
   "cell_type": "code",
   "execution_count": 28,
   "metadata": {},
   "outputs": [
    {
     "name": "stdout",
     "output_type": "stream",
     "text": [
      "20000\n"
     ]
    }
   ],
   "source": [
    "print(len(tags_df))\n",
    "for i in range(len(tags_df)):\n",
    "    try:\n",
    "        text = open(os.path.join(base_path, tags_df.iloc[1, 0].split('/')[-1]) + '.txt').read()\n",
    "    except IOError:\n",
    "        print(f'file not present for index {i}')\n",
    "        continue"
   ]
  },
  {
   "cell_type": "markdown",
   "metadata": {},
   "source": [
    "## Analysis of 250k train and test tags ##\n",
    "Analysing 250k reports and tags, tag value counts and finding best 19, 49 and 99 tags"
   ]
  },
  {
   "cell_type": "code",
   "execution_count": 3,
   "metadata": {},
   "outputs": [],
   "source": [
    "train_file_med = '/home/users/pranav.rao/MiniTasks/Radbert/report_tags_250k_train.csv'\n",
    "test_file_med = '/home/users/pranav.rao/MiniTasks/Radbert/report_tags_250k_test.csv'"
   ]
  },
  {
   "cell_type": "code",
   "execution_count": 7,
   "metadata": {},
   "outputs": [],
   "source": [
    "train_tags_med_df = pd.read_csv(train_file_med)\n",
    "test_tags_med_df = pd.read_csv(test_file_med)"
   ]
  },
  {
   "cell_type": "code",
   "execution_count": 10,
   "metadata": {},
   "outputs": [],
   "source": [
    "tags_med_df = pd.concat([train_tags_med_df, test_tags_med_df], ignore_index=True)"
   ]
  },
  {
   "cell_type": "code",
   "execution_count": null,
   "metadata": {},
   "outputs": [],
   "source": [
    "print(train_tags_med_df.describe())\n",
    "print(test_tags_med_df.describe())\n",
    "print(tags_med_df.describe())"
   ]
  },
  {
   "cell_type": "code",
   "execution_count": 17,
   "metadata": {},
   "outputs": [],
   "source": [
    "col_values_dict = dict([(col, tags_med_df[col].value_counts()) for col in list(tags_med_df.columns.values[1:])])"
   ]
  },
  {
   "cell_type": "code",
   "execution_count": 27,
   "metadata": {},
   "outputs": [],
   "source": [
    "col_prevelance_dict = dict([(col, value_ser.get(1, 0)) for col, value_ser in col_values_dict.items()])"
   ]
  },
  {
   "cell_type": "code",
   "execution_count": 35,
   "metadata": {},
   "outputs": [],
   "source": [
    "sorted_prevelance_list = sorted(col_prevelance_dict.items(), key=lambda x : x[1], reverse=True)\n",
    "suffixes = ['-0', '-1', '-2', '-3', '-4', '-5', '-left', 'right']\n",
    "filtered_sorted_prevelance_list = filter(lambda x : not any([x[0].endswith(suf) for suf in suffixes]), sorted_prevelance_list)\n",
    "tags_count_summary = list(map(lambda x : f'{x[0]}: {x[1]}', filtered_sorted_prevelance_list))"
   ]
  },
  {
   "cell_type": "code",
   "execution_count": 37,
   "metadata": {},
   "outputs": [
    {
     "name": "stdout",
     "output_type": "stream",
     "text": [
      "normal: 94879\n",
      "tuberculosis: 56641\n",
      "opacity: 48532\n",
      "bronchialdilation: 45695\n",
      "density: 39115\n",
      "parenchymalopacity: 36278\n",
      "ett: 34877\n",
      "aorticenlargement: 29144\n",
      "mediastinalwidening: 27737\n",
      "mediastinalmass: 27735\n",
      "copd: 26249\n",
      "prominentbronchovascularmarkings: 25149\n",
      "bronchitis: 24811\n",
      "markings: 24734\n",
      "vascularprominence: 21112\n",
      "interval: 15534\n",
      "interstitiallungdisease: 14824\n",
      "bluntedcp: 14272\n",
      "effusion: 13567\n",
      "cardiomegaly: 13435\n"
     ]
    }
   ],
   "source": [
    "print('\\n'.join(tags_count_summary[:20]))"
   ]
  },
  {
   "cell_type": "code",
   "execution_count": 40,
   "metadata": {},
   "outputs": [
    {
     "name": "stdout",
     "output_type": "stream",
     "text": [
      "aorticcalcification: 5418\n",
      "aorticenlargement: 29144\n",
      "aorticknucklecalcification: 5062\n",
      "bandlikeopacity: 6284\n",
      "bluntedcp: 14272\n",
      "bronchialdilation: 45695\n",
      "bronchitis: 24811\n",
      "calcification: 6515\n",
      "cardiacshift: 4585\n",
      "cardiomegaly: 13435\n",
      "consolidation: 12336\n",
      "copd: 26249\n",
      "degenspine: 4523\n",
      "density: 39115\n",
      "effusion: 13567\n",
      "ett: 34877\n",
      "feedingtube: 2834\n",
      "fibrosis: 4784\n",
      "fracture: 4171\n",
      "haziness: 8591\n",
      "hilar: 8278\n",
      "hilarprominence: 8314\n",
      "inhomogenousopacity: 7918\n",
      "inspiration: 4209\n",
      "interstitiallungdisease: 14824\n",
      "interval: 15534\n",
      "justfibrosis: 4119\n",
      "lesion: 3726\n",
      "lineandtube: 11066\n",
      "markings: 24734\n",
      "mediastinalmass: 27735\n",
      "mediastinalwidening: 27737\n",
      "nodule: 4476\n",
      "nonaorticcalcification: 3372\n",
      "normal: 94879\n",
      "opacity: 48532\n",
      "parenchymalopacity: 36278\n",
      "peffusion: 11488\n",
      "pleuralthickening: 3102\n",
      "pneumonia: 4456\n",
      "pneumonitis: 4168\n",
      "prominentbronchovascularmarkings: 25149\n",
      "rotation: 7676\n",
      "subtle_normal: 11656\n",
      "suture: 4593\n",
      "thickening: 9526\n",
      "tuberculosis: 56641\n",
      "tuberculosispure: 3186\n",
      "unfoldedaorta: 6320\n",
      "vascularprominence: 21112\n"
     ]
    }
   ],
   "source": [
    "print('\\n'.join(sorted(tags_count_summary[:50])))"
   ]
  },
  {
   "cell_type": "code",
   "execution_count": 39,
   "metadata": {},
   "outputs": [
    {
     "name": "stdout",
     "output_type": "stream",
     "text": [
      "normal: 94879\n",
      "tuberculosis: 56641\n",
      "opacity: 48532\n",
      "bronchialdilation: 45695\n",
      "density: 39115\n",
      "parenchymalopacity: 36278\n",
      "ett: 34877\n",
      "aorticenlargement: 29144\n",
      "mediastinalwidening: 27737\n",
      "mediastinalmass: 27735\n",
      "copd: 26249\n",
      "prominentbronchovascularmarkings: 25149\n",
      "bronchitis: 24811\n",
      "markings: 24734\n",
      "vascularprominence: 21112\n",
      "interval: 15534\n",
      "interstitiallungdisease: 14824\n",
      "bluntedcp: 14272\n",
      "effusion: 13567\n",
      "cardiomegaly: 13435\n",
      "consolidation: 12336\n",
      "subtle_normal: 11656\n",
      "peffusion: 11488\n",
      "lineandtube: 11066\n",
      "thickening: 9526\n",
      "haziness: 8591\n",
      "hilarprominence: 8314\n",
      "hilar: 8278\n",
      "inhomogenousopacity: 7918\n",
      "rotation: 7676\n",
      "calcification: 6515\n",
      "unfoldedaorta: 6320\n",
      "bandlikeopacity: 6284\n",
      "aorticcalcification: 5418\n",
      "aorticknucklecalcification: 5062\n",
      "fibrosis: 4784\n",
      "suture: 4593\n",
      "cardiacshift: 4585\n",
      "degenspine: 4523\n",
      "nodule: 4476\n",
      "pneumonia: 4456\n",
      "inspiration: 4209\n",
      "fracture: 4171\n",
      "pneumonitis: 4168\n",
      "justfibrosis: 4119\n",
      "lesion: 3726\n",
      "nonaorticcalcification: 3372\n",
      "tuberculosispure: 3186\n",
      "pleuralthickening: 3102\n",
      "feedingtube: 2834\n",
      "gastrictube: 2833\n",
      "ngt: 2832\n",
      "centralline: 2818\n",
      "atelectasis: 2705\n",
      "border: 2641\n",
      "volumeloss: 2297\n",
      "tst: 2283\n",
      "flatdiaphragm: 2209\n",
      "reticulation: 2194\n",
      "reticulonodularpattern: 2081\n",
      "reticularopacity: 2081\n",
      "ribfractureall: 2074\n",
      "emphysema: 2042\n",
      "cardiophrenicangleopacity: 1653\n",
      "shift: 1611\n",
      "claviclefracture: 1560\n",
      "lymphadenopathy: 1549\n",
      "mass: 1540\n",
      "scoliosis: 1516\n",
      "raiseddiaphragm: 1470\n",
      "diaphragmborder: 1465\n",
      "oldfracture: 1463\n",
      "parenchymalcalcification: 1460\n",
      "heartborder: 1427\n",
      "calcifiednodule: 1412\n",
      "hernia: 1349\n",
      "vertebra: 1340\n",
      "infiltrate: 1287\n",
      "ribfracture: 1277\n",
      "hyperinflation: 1220\n",
      "trachealshift: 1087\n",
      "cavity: 961\n",
      "icd: 929\n",
      "bronchiectasis: 905\n",
      "hilarlymphadenopathy: 894\n",
      "pacemaker: 892\n",
      "decreasedbonedensity: 865\n",
      "cervicalrib: 848\n",
      "discoidatelectasis: 801\n",
      "mediastinalshift: 750\n",
      "granuloma: 743\n",
      "osteopenia: 699\n",
      "interstitialthickening: 697\n",
      "pneumothorax: 679\n",
      "humpdiaphragm: 549\n",
      "pulmonaryedema: 536\n",
      "crowdingofribs: 488\n",
      "visiblehumerus: 479\n",
      "airbronchogram: 468\n",
      "cysticlungdisease: 441\n"
     ]
    }
   ],
   "source": [
    "print('\\n'.join(tags_count_summary[:100]))"
   ]
  },
  {
   "cell_type": "code",
   "execution_count": null,
   "metadata": {},
   "outputs": [],
   "source": []
  }
 ],
 "metadata": {
  "kernelspec": {
   "display_name": "TutorialCuda",
   "language": "python",
   "name": "python3"
  },
  "language_info": {
   "codemirror_mode": {
    "name": "ipython",
    "version": 3
   },
   "file_extension": ".py",
   "mimetype": "text/x-python",
   "name": "python",
   "nbconvert_exporter": "python",
   "pygments_lexer": "ipython3",
   "version": "3.11.4"
  },
  "orig_nbformat": 4
 },
 "nbformat": 4,
 "nbformat_minor": 2
}
